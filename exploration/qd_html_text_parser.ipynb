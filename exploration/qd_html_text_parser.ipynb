{
 "cells": [
  {
   "cell_type": "markdown",
   "metadata": {},
   "source": [
    "# Notebook Description:\n",
    "\n",
    "the process below will take the raw html text from our dataset and transform it into clean markdown text. \n",
    "\n",
    "The parsing is done with the `html2text` package."
   ]
  },
  {
   "cell_type": "code",
   "execution_count": 23,
   "metadata": {},
   "outputs": [],
   "source": [
    "import numpy as np\n",
    "import pandas as pd\n",
    "import html2text"
   ]
  },
  {
   "cell_type": "markdown",
   "metadata": {},
   "source": [
    "### import raw data"
   ]
  },
  {
   "cell_type": "code",
   "execution_count": 32,
   "metadata": {},
   "outputs": [],
   "source": [
    "so_data = pd.read_csv(\"../data/raw/stack_overflow_no_na.zip\")"
   ]
  },
  {
   "cell_type": "code",
   "execution_count": 33,
   "metadata": {},
   "outputs": [
    {
     "data": {
      "text/html": [
       "<div>\n",
       "<style scoped>\n",
       "    .dataframe tbody tr th:only-of-type {\n",
       "        vertical-align: middle;\n",
       "    }\n",
       "\n",
       "    .dataframe tbody tr th {\n",
       "        vertical-align: top;\n",
       "    }\n",
       "\n",
       "    .dataframe thead th {\n",
       "        text-align: right;\n",
       "    }\n",
       "</style>\n",
       "<table border=\"1\" class=\"dataframe\">\n",
       "  <thead>\n",
       "    <tr style=\"text-align: right;\">\n",
       "      <th></th>\n",
       "      <th>id</th>\n",
       "      <th>body</th>\n",
       "      <th>tags</th>\n",
       "    </tr>\n",
       "  </thead>\n",
       "  <tbody>\n",
       "    <tr>\n",
       "      <th>0</th>\n",
       "      <td>11227809</td>\n",
       "      <td>&lt;p&gt;Here is a piece of C++ code that seems very...</td>\n",
       "      <td>java|c++|performance|optimization|branch-predi...</td>\n",
       "    </tr>\n",
       "    <tr>\n",
       "      <th>1</th>\n",
       "      <td>927358</td>\n",
       "      <td>&lt;p&gt;I committed the wrong files to Git.&lt;/p&gt; &lt;p&gt;...</td>\n",
       "      <td>git|git-commit|git-reset|git-revert</td>\n",
       "    </tr>\n",
       "    <tr>\n",
       "      <th>2</th>\n",
       "      <td>179123</td>\n",
       "      <td>&lt;p&gt;I wrote the wrong thing in a commit message...</td>\n",
       "      <td>git|git-commit|git-rewrite-history|amend</td>\n",
       "    </tr>\n",
       "    <tr>\n",
       "      <th>3</th>\n",
       "      <td>2003505</td>\n",
       "      <td>&lt;p&gt;I want to delete a branch both locally and ...</td>\n",
       "      <td>git|github|git-branch|git-remote</td>\n",
       "    </tr>\n",
       "    <tr>\n",
       "      <th>4</th>\n",
       "      <td>477816</td>\n",
       "      <td>&lt;p&gt;I've been messing around with &lt;a href= http...</td>\n",
       "      <td>json|content-type</td>\n",
       "    </tr>\n",
       "  </tbody>\n",
       "</table>\n",
       "</div>"
      ],
      "text/plain": [
       "         id                                               body  \\\n",
       "0  11227809  <p>Here is a piece of C++ code that seems very...   \n",
       "1    927358  <p>I committed the wrong files to Git.</p> <p>...   \n",
       "2    179123  <p>I wrote the wrong thing in a commit message...   \n",
       "3   2003505  <p>I want to delete a branch both locally and ...   \n",
       "4    477816  <p>I've been messing around with <a href= http...   \n",
       "\n",
       "                                                tags  \n",
       "0  java|c++|performance|optimization|branch-predi...  \n",
       "1                git|git-commit|git-reset|git-revert  \n",
       "2           git|git-commit|git-rewrite-history|amend  \n",
       "3                   git|github|git-branch|git-remote  \n",
       "4                                  json|content-type  "
      ]
     },
     "execution_count": 33,
     "metadata": {},
     "output_type": "execute_result"
    }
   ],
   "source": [
    "so_data.head()"
   ]
  },
  {
   "cell_type": "markdown",
   "metadata": {},
   "source": [
    "### transform data with `html2text`"
   ]
  },
  {
   "cell_type": "code",
   "execution_count": null,
   "metadata": {},
   "outputs": [],
   "source": [
    "\n",
    "def parse_html(html):\n",
    "    parser = html2text.HTML2Text()\n",
    "    parser.ignore_links = True\n",
    "    parser.ignore_emphasis = True\n",
    "    parser.ignore_images = True\n",
    "    \n",
    "    try:\n",
    "        return parser.handle(html)\n",
    "    except:\n",
    "        return np.NaN\n",
    "\n",
    "    \n",
    "\n",
    "so_data['text'] = so_data.body.apply(handle_parse(parser))"
   ]
  },
  {
   "cell_type": "markdown",
   "metadata": {},
   "source": [
    "### Verify parsing worked"
   ]
  },
  {
   "cell_type": "code",
   "execution_count": 41,
   "metadata": {},
   "outputs": [
    {
     "data": {
      "text/html": [
       "<div>\n",
       "<style scoped>\n",
       "    .dataframe tbody tr th:only-of-type {\n",
       "        vertical-align: middle;\n",
       "    }\n",
       "\n",
       "    .dataframe tbody tr th {\n",
       "        vertical-align: top;\n",
       "    }\n",
       "\n",
       "    .dataframe thead th {\n",
       "        text-align: right;\n",
       "    }\n",
       "</style>\n",
       "<table border=\"1\" class=\"dataframe\">\n",
       "  <thead>\n",
       "    <tr style=\"text-align: right;\">\n",
       "      <th></th>\n",
       "      <th>id</th>\n",
       "      <th>body</th>\n",
       "      <th>tags</th>\n",
       "      <th>text</th>\n",
       "    </tr>\n",
       "  </thead>\n",
       "  <tbody>\n",
       "    <tr>\n",
       "      <th>0</th>\n",
       "      <td>11227809</td>\n",
       "      <td>&lt;p&gt;Here is a piece of C++ code that seems very...</td>\n",
       "      <td>java|c++|performance|optimization|branch-predi...</td>\n",
       "      <td>\\n\\nHere is a piece of C++ code that seems ver...</td>\n",
       "    </tr>\n",
       "    <tr>\n",
       "      <th>1</th>\n",
       "      <td>927358</td>\n",
       "      <td>&lt;p&gt;I committed the wrong files to Git.&lt;/p&gt; &lt;p&gt;...</td>\n",
       "      <td>git|git-commit|git-reset|git-revert</td>\n",
       "      <td>\\n\\nI committed the wrong files to Git.\\n\\nHow...</td>\n",
       "    </tr>\n",
       "    <tr>\n",
       "      <th>2</th>\n",
       "      <td>179123</td>\n",
       "      <td>&lt;p&gt;I wrote the wrong thing in a commit message...</td>\n",
       "      <td>git|git-commit|git-rewrite-history|amend</td>\n",
       "      <td>\\n\\nI wrote the wrong thing in a commit messag...</td>\n",
       "    </tr>\n",
       "    <tr>\n",
       "      <th>3</th>\n",
       "      <td>2003505</td>\n",
       "      <td>&lt;p&gt;I want to delete a branch both locally and ...</td>\n",
       "      <td>git|github|git-branch|git-remote</td>\n",
       "      <td>\\n\\nI want to delete a branch both locally and...</td>\n",
       "    </tr>\n",
       "    <tr>\n",
       "      <th>4</th>\n",
       "      <td>477816</td>\n",
       "      <td>&lt;p&gt;I've been messing around with &lt;a href= http...</td>\n",
       "      <td>json|content-type</td>\n",
       "      <td>\\n\\nI've been messing around with JSON for som...</td>\n",
       "    </tr>\n",
       "  </tbody>\n",
       "</table>\n",
       "</div>"
      ],
      "text/plain": [
       "         id                                               body  \\\n",
       "0  11227809  <p>Here is a piece of C++ code that seems very...   \n",
       "1    927358  <p>I committed the wrong files to Git.</p> <p>...   \n",
       "2    179123  <p>I wrote the wrong thing in a commit message...   \n",
       "3   2003505  <p>I want to delete a branch both locally and ...   \n",
       "4    477816  <p>I've been messing around with <a href= http...   \n",
       "\n",
       "                                                tags  \\\n",
       "0  java|c++|performance|optimization|branch-predi...   \n",
       "1                git|git-commit|git-reset|git-revert   \n",
       "2           git|git-commit|git-rewrite-history|amend   \n",
       "3                   git|github|git-branch|git-remote   \n",
       "4                                  json|content-type   \n",
       "\n",
       "                                                text  \n",
       "0  \\n\\nHere is a piece of C++ code that seems ver...  \n",
       "1  \\n\\nI committed the wrong files to Git.\\n\\nHow...  \n",
       "2  \\n\\nI wrote the wrong thing in a commit messag...  \n",
       "3  \\n\\nI want to delete a branch both locally and...  \n",
       "4  \\n\\nI've been messing around with JSON for som...  "
      ]
     },
     "execution_count": 41,
     "metadata": {},
     "output_type": "execute_result"
    }
   ],
   "source": [
    "so_data.head()"
   ]
  },
  {
   "cell_type": "markdown",
   "metadata": {},
   "source": [
    "### Save to csv"
   ]
  },
  {
   "cell_type": "code",
   "execution_count": 40,
   "metadata": {},
   "outputs": [],
   "source": [
    "so_data.to_csv(\"../data/raw/stack_overflow_parsed_text.csv\", index=False)"
   ]
  }
 ],
 "metadata": {
  "kernelspec": {
   "display_name": "Python 3",
   "language": "python",
   "name": "python3"
  },
  "language_info": {
   "codemirror_mode": {
    "name": "ipython",
    "version": 3
   },
   "file_extension": ".py",
   "mimetype": "text/x-python",
   "name": "python",
   "nbconvert_exporter": "python",
   "pygments_lexer": "ipython3",
   "version": "3.7.3"
  }
 },
 "nbformat": 4,
 "nbformat_minor": 2
}
