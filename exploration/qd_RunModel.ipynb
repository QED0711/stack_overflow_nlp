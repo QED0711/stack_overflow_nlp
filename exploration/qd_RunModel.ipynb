{
 "cells": [
  {
   "cell_type": "code",
   "execution_count": 1,
   "metadata": {},
   "outputs": [],
   "source": [
    "import sys\n",
    "sys.path.append(\"../utils\")\n",
    "\n",
    "\n",
    "from TextPreProcess import *\n",
    "\n",
    "import pandas as pd\n",
    "from sklearn.pipeline import Pipeline \n",
    "import matplotlib.pyplot as plt\n",
    "import seaborn as sns\n",
    "\n",
    "from yellowbrick.classifier import ConfusionMatrix\n",
    "from yellowbrick.classifier import ROCAUC\n",
    "\n",
    "import warnings\n",
    "warnings.filterwarnings(\"ignore\")\n",
    "\n"
   ]
  },
  {
   "cell_type": "code",
   "execution_count": 149,
   "metadata": {},
   "outputs": [],
   "source": [
    "class ConstructModel:\n",
    "\n",
    "    def __init__(self, steps, X, y, fit_on=\"train\"):\n",
    "\n",
    "        steps = [(str(i), steps[i]) for i in range(len(steps))]\n",
    "        self.pipe = Pipeline(steps)\n",
    "        self.X = X\n",
    "        self.y = y\n",
    "        \n",
    "        self.X_train, self.X_test, self.y_train, self.y_test = train_test_split(\n",
    "            self.X, self.y, train_size=0.8, random_state=42)\n",
    "\n",
    "        self.fit(on=fit_on)\n",
    "\n",
    "    def fit(self, on=\"train\"):\n",
    "        if on == \"train\":\n",
    "            self.pipe.fit(self.X_train, self.y_train)\n",
    "        elif on == \"test\":\n",
    "            self.pipe.fit(self.X_test, self.y_test)\n",
    "        elif on == \"all\":\n",
    "            self.pipe.fit(self.X, self.y)\n",
    "\n",
    "    def get_score(self):\n",
    "        train_score = self.pipe.score(X_train, y_train)\n",
    "        test_score = self.pipe.score(X_test, y_test)\n",
    "        print(\"Train Score:\\t\", train_score)\n",
    "        print(\"Test Score:\\t\", test_score)\n",
    "\n",
    "    def get_confusion_matrix(self, on=\"test\"):\n",
    "        cm = ConfusionMatrix(self.pipe)\n",
    "        if on ==\"test\": \n",
    "            cm.score(self.X_test, self.y_test)\n",
    "        elif on == \"train\":\n",
    "            cm.score(self.X_train, self.y_train)\n",
    "        elif on == \"all\":\n",
    "            cm.score(self.X, self.y)\n",
    "        \n",
    "        # graph the confusion matrix with yellowbrick\n",
    "        cm.poof()\n",
    "\n",
    "    def get_roc(self, on=\"test\"):\n",
    "        \n",
    "        visualizer = ROCAUC(self.pipe)\n",
    "        if on ==\"test\": \n",
    "            visualizer.score(self.X_test, self.y_test)\n",
    "        elif on == \"train\":\n",
    "            visualizer.score(self.X_train, self.y_train)\n",
    "        elif on == \"all\": \n",
    "            visualizer.score(self.X, self.y)\n",
    "        \n",
    "        visualizer.poof()    \n",
    "    \n",
    "    "
   ]
  },
  {
   "cell_type": "markdown",
   "metadata": {},
   "source": [
    "# TEST"
   ]
  },
  {
   "cell_type": "code",
   "execution_count": 70,
   "metadata": {},
   "outputs": [],
   "source": [
    "import pickle\n",
    "from sklearn.linear_model import LogisticRegression\n",
    "from sklearn.ensemble import RandomForestClassifier\n",
    "from sklearn.naive_bayes import MultinomialNB\n",
    "from sklearn.feature_extraction.text import TfidfVectorizer\n",
    "from sklearn.model_selection import train_test_split"
   ]
  },
  {
   "cell_type": "code",
   "execution_count": 44,
   "metadata": {},
   "outputs": [],
   "source": [
    "with open('../data/interim/text_target.pkl', 'rb') as f:\n",
    "    text_target = pickle.load(f)"
   ]
  },
  {
   "cell_type": "code",
   "execution_count": 62,
   "metadata": {},
   "outputs": [],
   "source": [
    "X = text_target.cleaned_text\n",
    "y = text_target.target"
   ]
  },
  {
   "cell_type": "code",
   "execution_count": 153,
   "metadata": {},
   "outputs": [],
   "source": [
    "vec = TfidfVectorizer()\n",
    "lr = LogisticRegression(random_state=42)\n",
    "nb = MultinomialNB()\n",
    "\n",
    "lr_pipe = ConstructModel([vec, lr], X, y, fit_on=\"train\")"
   ]
  },
  {
   "cell_type": "code",
   "execution_count": 156,
   "metadata": {},
   "outputs": [
    {
     "data": {
      "image/png": "[encoded data removed]",
      "text/plain": [
       "<Figure size 576x396 with 1 Axes>"
      ]
     },
     "metadata": {},
     "output_type": "display_data"
    }
   ],
   "source": [
    "lr_pipe.get_confusion_matrix()"
   ]
  },
  {
   "cell_type": "code",
   "execution_count": 72,
   "metadata": {},
   "outputs": [
    {
     "name": "stdout",
     "output_type": "stream",
     "text": [
      "Train Score:\t 0.8085475021657522\n",
      "Test Score:\t 0.7516911400758951\n"
     ]
    }
   ],
   "source": [
    "nb_pipe.get_score()"
   ]
  },
  {
   "cell_type": "code",
   "execution_count": 3,
   "metadata": {},
   "outputs": [],
   "source": [
    "tpp = TextPreProcessor()"
   ]
  }
 ],
 "metadata": {
  "kernelspec": {
   "display_name": "Python 3",
   "language": "python",
   "name": "python3"
  },
  "language_info": {
   "codemirror_mode": {
    "name": "ipython",
    "version": 3
   },
   "file_extension": ".py",
   "mimetype": "text/x-python",
   "name": "python",
   "nbconvert_exporter": "python",
   "pygments_lexer": "ipython3",
   "version": "3.7.3"
  }
 },
 "nbformat": 4,
 "nbformat_minor": 2
}
