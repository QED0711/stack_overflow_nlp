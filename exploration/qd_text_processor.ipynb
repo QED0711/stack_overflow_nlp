{
 "cells": [
  {
   "cell_type": "code",
   "execution_count": 1,
   "metadata": {},
   "outputs": [],
   "source": [
    "import pandas as pd\n",
    "\n",
    "import re\n",
    "import nltk \n",
    "from nltk.tokenize import word_tokenize\n",
    "from nltk.corpus import stopwords\n",
    "from nltk.corpus import wordnet\n",
    "from nltk.stem.wordnet import WordNetLemmatizer\n",
    "import warnings\n",
    "warnings.filterwarnings('ignore')"
   ]
  },
  {
   "cell_type": "code",
   "execution_count": 36,
   "metadata": {},
   "outputs": [],
   "source": [
    "class TextPreProcessor:\n",
    "    \n",
    "    def __init__(self, classifications=[\"python\", \"javascript\", \"java\", \"c++\", \"c#\"]):\n",
    "        \n",
    "        self.classifications = classifications\n",
    "        self.lemmatizer = WordNetLemmatizer()\n",
    "      \n",
    "    \n",
    "    def text_cleaner(self, post):\n",
    "        '''\n",
    "        input:\n",
    "        post: a string with symbols and punctuations \n",
    "        returns:\n",
    "        cleaned post with all letters to lower, all numbers, white space, and symbols removed\n",
    "        '''\n",
    "        pattern = r'[^A-Za-z]+'  # anything that is not letter or space\n",
    "        processed = re.sub(pattern, ' ', post).strip().lower()\n",
    "        return processed\n",
    "    \n",
    "    def get_wordnet_pos(self, treebank_tag):\n",
    "        if treebank_tag.startswith('J'):\n",
    "            return wordnet.ADJ\n",
    "        elif treebank_tag.startswith('V'):\n",
    "            return wordnet.VERB\n",
    "        elif treebank_tag.startswith('N'):\n",
    "            return wordnet.NOUN\n",
    "        elif treebank_tag.startswith('R'):\n",
    "            return wordnet.ADV\n",
    "        else:\n",
    "            return  \n",
    "        \n",
    "    def token_lemma(self, post):\n",
    "        '''\n",
    "        input:\n",
    "        post: cleaned post from function text_preprocess\n",
    "        returns:\n",
    "        tokenized post with lemmatization with position tags\n",
    "        stopwords and tags are removed \n",
    "        '''\n",
    "        tokens = word_tokenize(post)\n",
    "        # stopwords\n",
    "        stop_words = set(stopwords.words('english'))  # make sure no repeats\n",
    "        # remove stopwords and remove words that are explicit tags\n",
    "        words_to_remove = set(self.classifications).union(stop_words)\n",
    "        # perform pos tag before stop word removal to include more context for pos tags \n",
    "        tags = nltk.pos_tag(tokens)\n",
    "        tags_word_net = [self.get_wordnet_pos(w[1]) for w in tags]\n",
    "        lem_result = []  # only include nonstop words and target tags \n",
    "        for i in range(len(tags_word_net)):\n",
    "            if tags[i][0] in words_to_remove:  # don't lemmatize unneeded words \n",
    "                continue\n",
    "            if tags_word_net[i]:  # not none \n",
    "                lem_result.append(self.lemmatizer.lemmatize(tags[i][0],tags_word_net[i]))\n",
    "            else:\n",
    "                lem_result.append(tags[i][0])\n",
    "        return lem_result\n",
    "    \n",
    "    \n",
    "    def process_text(self, post):\n",
    "        processed_text = self.text_cleaner(post)\n",
    "        token_lemma = self.token_lemma(processed_text)\n",
    "        return \" \".join(token_lemma)\n",
    "    "
   ]
  },
  {
   "cell_type": "markdown",
   "metadata": {},
   "source": [
    "# TEST"
   ]
  },
  {
   "cell_type": "code",
   "execution_count": 3,
   "metadata": {},
   "outputs": [],
   "source": [
    "import pickle\n",
    "\n",
    "with open('../data/interim/text_target.pkl', 'rb') as f:\n",
    "    text_target = pickle.load(f)"
   ]
  },
  {
   "cell_type": "code",
   "execution_count": 41,
   "metadata": {},
   "outputs": [
    {
     "data": {
      "text/plain": [
       "'hello world'"
      ]
     },
     "execution_count": 41,
     "metadata": {},
     "output_type": "execute_result"
    }
   ],
   "source": [
    "tpp = TextPreProcessor()\n",
    "tpp.process_text(\"Hello World, in python\")"
   ]
  }
 ],
 "metadata": {
  "kernelspec": {
   "display_name": "Python 3",
   "language": "python",
   "name": "python3"
  },
  "language_info": {
   "codemirror_mode": {
    "name": "ipython",
    "version": 3
   },
   "file_extension": ".py",
   "mimetype": "text/x-python",
   "name": "python",
   "nbconvert_exporter": "python",
   "pygments_lexer": "ipython3",
   "version": "3.7.3"
  }
 },
 "nbformat": 4,
 "nbformat_minor": 2
}
