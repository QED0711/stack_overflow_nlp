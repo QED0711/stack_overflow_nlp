{
 "cells": [
  {
   "cell_type": "code",
   "execution_count": 1,
   "metadata": {},
   "outputs": [],
   "source": [
    "import pdb\n",
    "\n",
    "import pickle\n",
    "\n",
    "from sklearn.model_selection import train_test_split\n",
    "from sklearn.feature_extraction.text import TfidfVectorizer\n",
    "\n",
    "# logistic regression, naivebayes classifier, RF classifier,\n",
    "from sklearn.linear_model import LogisticRegression\n",
    "from sklearn.ensemble import RandomForestClassifier\n",
    "from sklearn.naive_bayes import MultinomialNB\n",
    "\n",
    "# model selection/enhancements\n",
    "from sklearn.multiclass import OneVsRestClassifier\n",
    "from sklearn.pipeline import Pipeline\n",
    "from sklearn.model_selection import RandomizedSearchCV, GridSearchCV"
   ]
  },
  {
   "cell_type": "markdown",
   "metadata": {},
   "source": [
    "# Loading in the data"
   ]
  },
  {
   "cell_type": "code",
   "execution_count": 2,
   "metadata": {},
   "outputs": [],
   "source": [
    "with open('../data/interim/text_target.pkl', 'rb') as f:\n",
    "    text_target = pickle.load(f)"
   ]
  },
  {
   "cell_type": "markdown",
   "metadata": {},
   "source": [
    "# Classification weights"
   ]
  },
  {
   "cell_type": "code",
   "execution_count": 3,
   "metadata": {},
   "outputs": [
    {
     "data": {
      "text/plain": [
       "{'java': 0.24651838162497525,\n",
       " 'c#': 0.230545838558511,\n",
       " 'javascript': 0.2291597914329087,\n",
       " 'python': 0.16583063824170022,\n",
       " 'c++': 0.12794535014190483}"
      ]
     },
     "execution_count": 3,
     "metadata": {},
     "output_type": "execute_result"
    }
   ],
   "source": [
    "total = text_target.target.value_counts().sum()\n",
    "java_weight = text_target.target.value_counts().java / total\n",
    "c_sharp_weight = text_target.target.value_counts()[\"c#\"] / total\n",
    "javascript_weight = text_target.target.value_counts().javascript / total\n",
    "python_weight = text_target.target.value_counts().python / total\n",
    "c_plus_weight = text_target.target.value_counts()[\"c++\"] / total\n",
    "\n",
    "weights = {\n",
    "    \"java\": java_weight,\n",
    "    \"c#\": c_sharp_weight,\n",
    "    \"javascript\": javascript_weight,\n",
    "    \"python\": python_weight,\n",
    "    \"c++\": c_plus_weight\n",
    "}\n",
    "weights"
   ]
  },
  {
   "cell_type": "markdown",
   "metadata": {},
   "source": [
    "# Train test split"
   ]
  },
  {
   "cell_type": "code",
   "execution_count": 4,
   "metadata": {},
   "outputs": [],
   "source": [
    "X = text_target.cleaned_text\n",
    "y = text_target.target\n",
    "\n",
    "X_train, X_test, y_train, y_test = train_test_split(\n",
    "    X, y, train_size=0.8, random_state=42)"
   ]
  },
  {
   "cell_type": "markdown",
   "metadata": {},
   "source": [
    "# Pipeline - LogisticRegression"
   ]
  },
  {
   "cell_type": "code",
   "execution_count": 15,
   "metadata": {},
   "outputs": [],
   "source": [
    "steps = [\n",
    "    (\"vect\", TfidfVectorizer()),\n",
    "    (\"lg\", LogisticRegression(random_state=42))\n",
    "]\n",
    "\n",
    "pipe_lg = Pipeline(steps, verbose=2)\n",
    "\n",
    "params = {\n",
    "    'vect__max_df': [0.5],\n",
    "    'vect__max_features': [9000],\n",
    "    'vect__min_df': [6],\n",
    "    'vect__ngram_range': [(1, 2)],\n",
    "\n",
    "    \"lg__penalty\": ['l1'],\n",
    "    \"lg__fit_intercept\": [False],\n",
    "    \"lg__C\": [2]\n",
    "}\n",
    "\n",
    "grid = GridSearchCV(\n",
    "    estimator=pipe_lg, param_grid=params, cv=3, scoring=\"accuracy\", n_jobs=-1, verbose=2)"
   ]
  },
  {
   "cell_type": "code",
   "execution_count": 16,
   "metadata": {},
   "outputs": [
    {
     "name": "stdout",
     "output_type": "stream",
     "text": [
      "Fitting 3 folds for each of 1 candidates, totalling 3 fits\n"
     ]
    },
    {
     "name": "stderr",
     "output_type": "stream",
     "text": [
      "[Parallel(n_jobs=-1)]: Using backend LokyBackend with 8 concurrent workers.\n",
      "[Parallel(n_jobs=-1)]: Done   3 out of   3 | elapsed:    4.1s finished\n"
     ]
    },
    {
     "name": "stdout",
     "output_type": "stream",
     "text": [
      "[Pipeline] .............. (step 1 of 2) Processing vect, total=   3.7s\n"
     ]
    },
    {
     "name": "stderr",
     "output_type": "stream",
     "text": [
      "/home/qdizon/.local/lib/python3.7/site-packages/sklearn/linear_model/logistic.py:432: FutureWarning: Default solver will be changed to 'lbfgs' in 0.22. Specify a solver to silence this warning.\n",
      "  FutureWarning)\n",
      "/home/qdizon/.local/lib/python3.7/site-packages/sklearn/linear_model/logistic.py:469: FutureWarning: Default multi_class will be changed to 'auto' in 0.22. Specify the multi_class option to silence this warning.\n",
      "  \"this warning.\", FutureWarning)\n"
     ]
    },
    {
     "name": "stdout",
     "output_type": "stream",
     "text": [
      "[Pipeline] ................ (step 2 of 2) Processing lg, total=   0.6s\n",
      "Train Score:\t 0.891753640526381\n",
      "Test Score:\t 0.8140570862893912\n",
      "Best Score:\t 0.8121364630172022\n",
      "Best Params:\t {'lg__C': 2, 'lg__fit_intercept': False, 'lg__penalty': 'l1', 'vect__max_df': 0.5, 'vect__max_features': 9000, 'vect__min_df': 6, 'vect__ngram_range': (1, 2)}\n"
     ]
    }
   ],
   "source": [
    "grid.fit(X_train, y_train)\n",
    "\n",
    "train_score = grid.best_estimator_.score(X_train, y_train)\n",
    "test_score = grid.best_estimator_.score(X_test, y_test)\n",
    "best_score = grid.best_score_\n",
    "best_params = grid.best_params_\n",
    "\n",
    "print(\"Train Score:\\t\", train_score)\n",
    "print(\"Test Score:\\t\", test_score)\n",
    "print(\"Best Score:\\t\" ,best_score)\n",
    "print(\"Best Params:\\t\", best_params)"
   ]
  },
  {
   "cell_type": "markdown",
   "metadata": {},
   "source": [
    "# Pipeline - Naive Bayes"
   ]
  },
  {
   "cell_type": "code",
   "execution_count": 33,
   "metadata": {},
   "outputs": [],
   "source": [
    "steps = [\n",
    "    (\"vec\", TfidfVectorizer()),\n",
    "    (\"nb\", MultinomialNB())\n",
    "]\n",
    "\n",
    "pipe_nb = Pipeline(steps, verbose=2)\n",
    "\n",
    "params = {\n",
    "    \"nb__fit_prior\": [True, False],\n",
    "    \"nb__alpha\": [0.01, 0.1, 1, 5, 10]\n",
    "    \n",
    "}\n",
    "\n",
    "grid_nb = GridSearchCV(pipe_nb, params, cv=3, scoring=\"accuracy\", n_jobs=-1, verbose=2, error_score=0.0)"
   ]
  },
  {
   "cell_type": "code",
   "execution_count": 34,
   "metadata": {},
   "outputs": [
    {
     "name": "stdout",
     "output_type": "stream",
     "text": [
      "Fitting 3 folds for each of 10 candidates, totalling 30 fits\n"
     ]
    },
    {
     "name": "stderr",
     "output_type": "stream",
     "text": [
      "[Parallel(n_jobs=-1)]: Using backend LokyBackend with 8 concurrent workers.\n",
      "[Parallel(n_jobs=-1)]: Done  30 out of  30 | elapsed:    7.0s finished\n"
     ]
    },
    {
     "name": "stdout",
     "output_type": "stream",
     "text": [
      "[Pipeline] ............... (step 1 of 2) Processing vec, total=   0.8s\n",
      "[Pipeline] ................ (step 2 of 2) Processing nb, total=   0.1s\n",
      "Train Score:\t 0.9083783672290747\n",
      "Test Score:\t 0.8130671506352087\n",
      "Best Score:\t 0.8023183862051896\n",
      "Best Params:\t {'nb__alpha': 0.1, 'nb__fit_prior': False}\n"
     ]
    }
   ],
   "source": [
    "grid_nb.fit(X_train, y_train)\n",
    "\n",
    "train_score = grid_nb.best_estimator_.score(X_train, y_train)\n",
    "test_score = grid_nb.best_estimator_.score(X_test, y_test)\n",
    "best_score = grid_nb.best_score_\n",
    "best_params = grid_nb.best_params_\n",
    "\n",
    "print(\"Train Score:\\t\", train_score)\n",
    "print(\"Test Score:\\t\", test_score)\n",
    "print(\"Best Score:\\t\", best_score)\n",
    "print(\"Best Params:\\t\", best_params)"
   ]
  },
  {
   "cell_type": "markdown",
   "metadata": {},
   "source": [
    "# Pipeline - Random Forest"
   ]
  },
  {
   "cell_type": "code",
   "execution_count": 118,
   "metadata": {},
   "outputs": [],
   "source": [
    "steps = [\n",
    "    (\"vec\", TfidfVectorizer()),\n",
    "    (\"rf\", RandomForestClassifier(random_state=42))\n",
    "]\n",
    "\n",
    "pipe_rf = Pipeline(steps, verbose=2)\n",
    "\n",
    "params = {\n",
    "    \"rf__criterion\": [\"gini\"],\n",
    "    \"rf__max_depth\": [1500],\n",
    "    \"rf__max_leaf_nodes\": [1000],\n",
    "    \"rf__min_samples_split\": [2],\n",
    "    \"rf__min_samples_leaf\": [2],\n",
    "    \"rf__n_estimators\": [1000],\n",
    "    #     \"rf__class_weight\": [None, weights],\n",
    "}\n",
    "\n",
    "grid_rf = GridSearchCV(pipe_rf, params, cv=3, scoring=\"accuracy\",\n",
    "                       n_jobs=-1, verbose=2, error_score=0.0)"
   ]
  },
  {
   "cell_type": "code",
   "execution_count": 119,
   "metadata": {},
   "outputs": [
    {
     "name": "stdout",
     "output_type": "stream",
     "text": [
      "Fitting 3 folds for each of 1 candidates, totalling 3 fits\n"
     ]
    },
    {
     "name": "stderr",
     "output_type": "stream",
     "text": [
      "[Parallel(n_jobs=-1)]: Using backend LokyBackend with 8 concurrent workers.\n",
      "[Parallel(n_jobs=-1)]: Done   3 out of   3 | elapsed:   51.5s finished\n"
     ]
    },
    {
     "name": "stdout",
     "output_type": "stream",
     "text": [
      "[Pipeline] ............... (step 1 of 2) Processing vec, total=   0.8s\n",
      "[Pipeline] ................ (step 2 of 2) Processing rf, total= 1.0min\n",
      "Train Score:\t 0.907553318757477\n",
      "Test Score:\t 0.8015179013364131\n",
      "Best Score:\t 0.7900251639783837\n",
      "Best Params:\t {'rf__criterion': 'gini', 'rf__max_depth': 1500, 'rf__max_leaf_nodes': 1000, 'rf__min_samples_leaf': 2, 'rf__min_samples_split': 2, 'rf__n_estimators': 1000}\n"
     ]
    }
   ],
   "source": [
    "grid_rf.fit(X_train, y_train)\n",
    "\n",
    "train_score = grid_rf.best_estimator_.score(X_train, y_train)\n",
    "test_score = grid_rf.best_estimator_.score(X_test, y_test)\n",
    "best_score = grid_rf.best_score_\n",
    "best_params = grid_rf.best_params_\n",
    "\n",
    "print(\"Train Score:\\t\", train_score)\n",
    "print(\"Test Score:\\t\", test_score)\n",
    "print(\"Best Score:\\t\", best_score)\n",
    "print(\"Best Params:\\t\", best_params)"
   ]
  }
 ],
 "metadata": {
  "kernelspec": {
   "display_name": "Python 3",
   "language": "python",
   "name": "python3"
  },
  "language_info": {
   "codemirror_mode": {
    "name": "ipython",
    "version": 3
   },
   "file_extension": ".py",
   "mimetype": "text/x-python",
   "name": "python",
   "nbconvert_exporter": "python",
   "pygments_lexer": "ipython3",
   "version": "3.7.3"
  }
 },
 "nbformat": 4,
 "nbformat_minor": 2
}
