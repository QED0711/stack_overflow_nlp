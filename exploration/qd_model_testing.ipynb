{
 "cells": [
  {
   "cell_type": "code",
   "execution_count": 6,
   "metadata": {},
   "outputs": [],
   "source": [
    "import pdb\n",
    "\n",
    "import pickle\n",
    "\n",
    "from sklearn.model_selection import train_test_split\n",
    "from sklearn.feature_extraction.text import TfidfVectorizer\n",
    "\n",
    "# logistic regression, naivebayes classifier, RF classifier, \n",
    "from sklearn.linear_model import LogisticRegression\n",
    "from sklearn.ensemble import RandomForestClassifier\n",
    "from sklearn.naive_bayes import MultinomialNB\n",
    "\n",
    "# model selection/enhancements\n",
    "from sklearn.multiclass import OneVsRestClassifier\n",
    "from sklearn.pipeline import Pipeline\n",
    "from sklearn.model_selection import RandomizedSearchCV, GridSearchCV"
   ]
  },
  {
   "cell_type": "markdown",
   "metadata": {},
   "source": [
    "# Loading in the data"
   ]
  },
  {
   "cell_type": "code",
   "execution_count": 3,
   "metadata": {},
   "outputs": [],
   "source": [
    "with open('../data/interim/text_target.pkl', 'rb') as f:\n",
    "    text_target = pickle.load(f)"
   ]
  },
  {
   "cell_type": "markdown",
   "metadata": {},
   "source": [
    "# Classification weights"
   ]
  },
  {
   "cell_type": "code",
   "execution_count": 69,
   "metadata": {},
   "outputs": [],
   "source": [
    "total = text_target.target.value_counts().sum()\n",
    "java_weight = text_target.target.value_counts().java / total\n",
    "c_sharp_weight = text_target.target.value_counts()[\"c#\"] / total\n",
    "javascript_weight = text_target.target.value_counts().javascript / total\n",
    "python_weight = text_target.target.value_counts().python / total\n",
    "c_plus_weight = text_target.target.value_counts()[\"c++\"] / total\n",
    "\n",
    "weights = {\n",
    "    \"java\": java_weight, \n",
    "    \"c#\": c_sharp_weight,\n",
    "    \"javascript\": javascript_weight,\n",
    "    \"python\": python_weight,\n",
    "    \"c++\": c_plus_weight\n",
    "}"
   ]
  },
  {
   "cell_type": "markdown",
   "metadata": {},
   "source": [
    "# Train test split"
   ]
  },
  {
   "cell_type": "code",
   "execution_count": 4,
   "metadata": {},
   "outputs": [],
   "source": [
    "X = text_target.cleaned_text\n",
    "y = text_target.target\n",
    "\n",
    "X_train, X_test, y_train, y_test = train_test_split(X, y, train_size=0.8, random_state=42)"
   ]
  },
  {
   "cell_type": "markdown",
   "metadata": {},
   "source": [
    "# Pipeline Setup - LogisticRegression"
   ]
  },
  {
   "cell_type": "code",
   "execution_count": 149,
   "metadata": {},
   "outputs": [],
   "source": [
    "steps = [\n",
    "    (\"vec\", TfidfVectorizer()),\n",
    "    (\"lg\", LogisticRegression(random_state=42,\n",
    "                              class_weight=weights, \n",
    "                              penalty=\"l2\", \n",
    "                              multi_class=\"multinomial\",\n",
    "                              C=16,\n",
    "                              warm_start=True,\n",
    "                              n_jobs=-1\n",
    "                             ))\n",
    "]\n",
    "\n",
    "pipe = Pipeline(steps, verbose=2)\n",
    "\n",
    "params = {\n",
    "    \"lg__solver\": ['lbfgs'],\n",
    "    \"lg__fit_intercept\": [True, False],\n",
    "    \"lg__max_iter\": [50]\n",
    "}\n",
    "\n",
    "grid = GridSearchCV(\n",
    "    estimator=pipe, param_grid=params, cv=3, scoring=\"accuracy\", n_jobs=-1, verbose=2)"
   ]
  },
  {
   "cell_type": "code",
   "execution_count": 151,
   "metadata": {},
   "outputs": [
    {
     "name": "stdout",
     "output_type": "stream",
     "text": [
      "Fitting 3 folds for each of 2 candidates, totalling 6 fits\n"
     ]
    },
    {
     "name": "stderr",
     "output_type": "stream",
     "text": [
      "[Parallel(n_jobs=-1)]: Using backend LokyBackend with 8 concurrent workers.\n",
      "[Parallel(n_jobs=-1)]: Done   3 out of   6 | elapsed:   18.2s remaining:   18.2s\n",
      "[Parallel(n_jobs=-1)]: Done   6 out of   6 | elapsed:   18.6s finished\n"
     ]
    },
    {
     "name": "stdout",
     "output_type": "stream",
     "text": [
      "[Pipeline] ............... (step 1 of 2) Processing vec, total=   0.9s\n",
      "[Pipeline] ................ (step 2 of 2) Processing lg, total=   4.1s\n"
     ]
    }
   ],
   "source": [
    "grid.fit(X_train, y_train);"
   ]
  },
  {
   "cell_type": "code",
   "execution_count": 152,
   "metadata": {},
   "outputs": [
    {
     "name": "stdout",
     "output_type": "stream",
     "text": [
      "0.9357287240625387\n",
      "0.8133971291866029\n",
      "0.7998432407903965\n",
      "{'lg__fit_intercept': False, 'lg__max_iter': 50, 'lg__solver': 'lbfgs'}\n"
     ]
    }
   ],
   "source": [
    "train_score = grid.best_estimator_.score(X_train, y_train)\n",
    "test_score = grid.best_estimator_.score(X_test, y_test)\n",
    "best_score = grid.best_score_\n",
    "best_params = grid.best_params_\n",
    "\n",
    "print(train_score)\n",
    "print(test_score)\n",
    "print(best_score)\n",
    "print(best_params)"
   ]
  },
  {
   "cell_type": "markdown",
   "metadata": {},
   "source": [
    "# Run Vectorization on Texts "
   ]
  },
  {
   "cell_type": "code",
   "execution_count": 5,
   "metadata": {},
   "outputs": [],
   "source": [
    "vectorizer = TfidfVectorizer()\n",
    "\n",
    "X_vectorized = vectorizer.fit_transform(X_train)\n",
    "X_test_vectorized = vectorizer.transform(X_test)"
   ]
  },
  {
   "cell_type": "markdown",
   "metadata": {},
   "source": [
    "# Create Models"
   ]
  },
  {
   "cell_type": "code",
   "execution_count": 70,
   "metadata": {},
   "outputs": [],
   "source": [
    "lg = LogisticRegression(random_state=42)\n",
    "rf = RandomForestClassifier(random_state=42)\n",
    "nb = MultinomialNB()"
   ]
  },
  {
   "cell_type": "markdown",
   "metadata": {},
   "source": [
    "# Gridsearch Models"
   ]
  },
  {
   "cell_type": "code",
   "execution_count": 38,
   "metadata": {},
   "outputs": [],
   "source": [
    "def make_gridsearch_model(name, model, params={}):\n",
    "        return {\n",
    "            \"name\": name,\n",
    "            \"model\": model,\n",
    "            \"params\": params\n",
    "        }, "
   ]
  },
  {
   "cell_type": "code",
   "execution_count": 83,
   "metadata": {},
   "outputs": [],
   "source": [
    "def run_gridsearch(data, estimators, cv=3):\n",
    "\n",
    "    for estimator in estimators:\n",
    "        estimator = estimator[0]\n",
    "        grid = GridSearchCV(estimator=estimator[\"model\"], \n",
    "                            param_grid=estimator['params'], \n",
    "                            cv=cv, n_jobs=-1, scoring=\"balanced_accuracy\")\n",
    "\n",
    "        grid.fit(data[\"X_train\"], data[\"y_train\"])\n",
    "\n",
    "        score = grid.best_estimator_.score(data[\"X_test\"], data[\"y_test\"])\n",
    "        print(\"Best Params:\", grid.best_params_)\n",
    "        print(f\"{estimator['name']}:\\t{score}\")"
   ]
  },
  {
   "cell_type": "code",
   "execution_count": 90,
   "metadata": {},
   "outputs": [
    {
     "name": "stdout",
     "output_type": "stream",
     "text": [
      "Best Params: {'n_estimators': 90}\n",
      "rf:\t0.7909585876918\n"
     ]
    }
   ],
   "source": [
    "estimators = [\n",
    "#     make_gridsearch_model(\"svc\", svc),\n",
    "#     make_gridsearch_model(\"lg\", lg),\n",
    "    make_gridsearch_model(\"rf\", rf, \n",
    "                          {\n",
    "#                               \"max_depth\": [x for x in range(10, 51)],\n",
    "                              \"n_estimators\": [x for x in range(10, 100, 10)]\n",
    "                          }),\n",
    "#     make_gridsearch_model(\"nb\", nb),\n",
    "]\n",
    "\n",
    "data = {\n",
    "    \"X_train\": X_vectorized,\n",
    "    \"X_test\": X_test_vectorized,\n",
    "    \"y_train\": y_train,\n",
    "    \"y_test\": y_test\n",
    "}\n",
    "\n",
    "run_gridsearch(data, estimators=estimators)"
   ]
  },
  {
   "cell_type": "markdown",
   "metadata": {},
   "source": [
    "# Check OneVsRest Performance on Models"
   ]
  },
  {
   "cell_type": "code",
   "execution_count": 68,
   "metadata": {},
   "outputs": [
    {
     "name": "stderr",
     "output_type": "stream",
     "text": [
      "/home/qdizon/.local/lib/python3.7/site-packages/sklearn/linear_model/logistic.py:432: FutureWarning: Default solver will be changed to 'lbfgs' in 0.22. Specify a solver to silence this warning.\n",
      "  FutureWarning)\n"
     ]
    },
    {
     "data": {
      "text/plain": [
       "0.8120772149810263"
      ]
     },
     "execution_count": 68,
     "metadata": {},
     "output_type": "execute_result"
    }
   ],
   "source": [
    "ovr = OneVsRestClassifier(estimator=lg)\n",
    "\n",
    "ovr.fit(X_vectorized, y_train)\n",
    "\n",
    "ovr.score(X_test_vectorized, y_test)"
   ]
  },
  {
   "cell_type": "code",
   "execution_count": null,
   "metadata": {},
   "outputs": [],
   "source": []
  }
 ],
 "metadata": {
  "kernelspec": {
   "display_name": "Python 3",
   "language": "python",
   "name": "python3"
  },
  "language_info": {
   "codemirror_mode": {
    "name": "ipython",
    "version": 3
   },
   "file_extension": ".py",
   "mimetype": "text/x-python",
   "name": "python",
   "nbconvert_exporter": "python",
   "pygments_lexer": "ipython3",
   "version": "3.7.3"
  }
 },
 "nbformat": 4,
 "nbformat_minor": 2
}
