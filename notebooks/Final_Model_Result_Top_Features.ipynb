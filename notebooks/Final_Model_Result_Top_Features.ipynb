{
 "cells": [
  {
   "cell_type": "markdown",
   "metadata": {},
   "source": [
    "## Load Necessary Libraries and py files "
   ]
  },
  {
   "cell_type": "code",
   "execution_count": 1,
   "metadata": {},
   "outputs": [],
   "source": [
    "# import libraries\n",
    "import numpy as np\n",
    "from collections import Counter\n",
    "from sklearn.metrics import accuracy_score, confusion_matrix\n",
    "from sklearn.naive_bayes import MultinomialNB\n",
    "from sklearn.linear_model import LogisticRegression\n",
    "from sklearn.ensemble import RandomForestClassifier\n",
    "from sklearn.feature_extraction.text import TfidfVectorizer\n",
    "import seaborn as sns\n",
    "import pandas as pd\n",
    "import warnings\n",
    "warnings.filterwarnings('ignore')\n",
    "np.random.seed(0)"
   ]
  },
  {
   "cell_type": "code",
   "execution_count": 2,
   "metadata": {},
   "outputs": [],
   "source": [
    "%load_ext autoreload\n",
    "%autoreload 1\n",
    "\n",
    "import sys\n",
    "sys.path.append(\"../utils\")\n",
    "\n",
    "from construct_model import *\n",
    "from text_pre_processor import *\n",
    "\n",
    "%aimport construct_model\n",
    "%aimport text_pre_processor"
   ]
  },
  {
   "cell_type": "markdown",
   "metadata": {},
   "source": [
    "## Load Cleaned DataFrame and Split into feature and target "
   ]
  },
  {
   "cell_type": "code",
   "execution_count": 3,
   "metadata": {},
   "outputs": [],
   "source": [
    "posts_df = pd.read_pickle('../data/interum/text_target.pkl')\n",
    "# convert into features and target\n",
    "feature = posts_df['cleaned_text']\n",
    "label = posts_df['target']"
   ]
  },
  {
   "cell_type": "code",
   "execution_count": 13,
   "metadata": {},
   "outputs": [],
   "source": [
    "def confusion_matrix_df(modelname, modelestimator, pred_value):\n",
    "    '''\n",
    "    input: \n",
    "    modelname: classifier contains true value and class labels\n",
    "    return:\n",
    "    confusion matrix dataframe\n",
    "    '''\n",
    "    cm = confusion_matrix(modelname._y_test,pred_value, labels= modelestimator.classes_)\n",
    "    cm_df = pd.DataFrame(cm, columns=lg_estimator.classes_+' Pred',\n",
    "             index=lg_estimator.classes_+' True')\n",
    "    return cm_df"
   ]
  },
  {
   "cell_type": "markdown",
   "metadata": {},
   "source": [
    "## We will focus on after trying many classifiers:\n",
    "\n",
    "* LogisticRegression\n",
    "\n",
    "* RandomForest\n",
    "\n",
    "* MultinomialNB\n",
    "\n"
   ]
  },
  {
   "cell_type": "markdown",
   "metadata": {},
   "source": [
    "## Logistic Regression "
   ]
  },
  {
   "cell_type": "code",
   "execution_count": 4,
   "metadata": {},
   "outputs": [],
   "source": [
    "# after paramater tuning logistic regression works best with slight tuning for tfidvector\n",
    "tfidf_vect_lg = TfidfVectorizer(ngram_range=(1,2),max_df=0.5,min_df=6, max_features=9000)\n",
    "# hyperparamater from extensive model gridsearch/randomsearch\n",
    "lg = LogisticRegression(C=2, penalty='l1',random_state=42)"
   ]
  },
  {
   "cell_type": "code",
   "execution_count": 5,
   "metadata": {},
   "outputs": [],
   "source": [
    "# run model and get results for logistic regression \n",
    "lg_model = ConstructModel([tfidf_vect_lg, lg],feature,label)"
   ]
  },
  {
   "cell_type": "code",
   "execution_count": 6,
   "metadata": {},
   "outputs": [],
   "source": [
    "# best estimator \n",
    "lg_estimator = lg_model.pipe[1]\n",
    "# final predictions (takes a while)\n",
    "lg_pred= lg_model._X_test.apply(lg_model.get_prediction).apply(lambda x: x[0])"
   ]
  },
  {
   "cell_type": "code",
   "execution_count": 10,
   "metadata": {
    "scrolled": true
   },
   "outputs": [
    {
     "name": "stdout",
     "output_type": "stream",
     "text": [
      "Train Score:\t 0.8931149705045172\n",
      "Test Score:\t 0.8150470219435737\n"
     ]
    }
   ],
   "source": [
    "# check model accuracy score for test and train \n",
    "lg_model.get_score()"
   ]
  },
  {
   "cell_type": "code",
   "execution_count": 14,
   "metadata": {},
   "outputs": [
    {
     "data": {
      "text/html": [
       "<div>\n",
       "<style scoped>\n",
       "    .dataframe tbody tr th:only-of-type {\n",
       "        vertical-align: middle;\n",
       "    }\n",
       "\n",
       "    .dataframe tbody tr th {\n",
       "        vertical-align: top;\n",
       "    }\n",
       "\n",
       "    .dataframe thead th {\n",
       "        text-align: right;\n",
       "    }\n",
       "</style>\n",
       "<table border=\"1\" class=\"dataframe\">\n",
       "  <thead>\n",
       "    <tr style=\"text-align: right;\">\n",
       "      <th></th>\n",
       "      <th>c# Pred</th>\n",
       "      <th>c++ Pred</th>\n",
       "      <th>java Pred</th>\n",
       "      <th>javascript Pred</th>\n",
       "      <th>python Pred</th>\n",
       "    </tr>\n",
       "  </thead>\n",
       "  <tbody>\n",
       "    <tr>\n",
       "      <th>c# True</th>\n",
       "      <td>1127</td>\n",
       "      <td>40</td>\n",
       "      <td>128</td>\n",
       "      <td>60</td>\n",
       "      <td>45</td>\n",
       "    </tr>\n",
       "    <tr>\n",
       "      <th>c++ True</th>\n",
       "      <td>66</td>\n",
       "      <td>612</td>\n",
       "      <td>50</td>\n",
       "      <td>15</td>\n",
       "      <td>42</td>\n",
       "    </tr>\n",
       "    <tr>\n",
       "      <th>java True</th>\n",
       "      <td>122</td>\n",
       "      <td>26</td>\n",
       "      <td>1233</td>\n",
       "      <td>51</td>\n",
       "      <td>63</td>\n",
       "    </tr>\n",
       "    <tr>\n",
       "      <th>javascript True</th>\n",
       "      <td>61</td>\n",
       "      <td>8</td>\n",
       "      <td>87</td>\n",
       "      <td>1175</td>\n",
       "      <td>41</td>\n",
       "    </tr>\n",
       "    <tr>\n",
       "      <th>python True</th>\n",
       "      <td>65</td>\n",
       "      <td>20</td>\n",
       "      <td>84</td>\n",
       "      <td>49</td>\n",
       "      <td>791</td>\n",
       "    </tr>\n",
       "  </tbody>\n",
       "</table>\n",
       "</div>"
      ],
      "text/plain": [
       "                 c# Pred  c++ Pred  java Pred  javascript Pred  python Pred\n",
       "c# True             1127        40        128               60           45\n",
       "c++ True              66       612         50               15           42\n",
       "java True            122        26       1233               51           63\n",
       "javascript True       61         8         87             1175           41\n",
       "python True           65        20         84               49          791"
      ]
     },
     "execution_count": 14,
     "metadata": {},
     "output_type": "execute_result"
    }
   ],
   "source": [
    "# confusion matrix \n",
    "confusion_matrix_df(lg_model,lg_estimator,lg_pred)"
   ]
  },
  {
   "cell_type": "markdown",
   "metadata": {},
   "source": [
    "## RandomForest "
   ]
  },
  {
   "cell_type": "code",
   "execution_count": 15,
   "metadata": {},
   "outputs": [],
   "source": [
    "# after paramater tuning, a default settings works best\n",
    "tfidf_vect_rf= TfidfVectorizer()\n",
    "# hyperparamater from extensive model gridsearch/randomsearch\n",
    "rf = RandomForestClassifier(\n",
    "    criterion='gini', max_depth=1500, max_leaf_nodes=1000, \n",
    "    min_samples_leaf=2, min_samples_split=2, n_estimators=1000,random_state = 42)"
   ]
  },
  {
   "cell_type": "code",
   "execution_count": 16,
   "metadata": {},
   "outputs": [],
   "source": [
    "# run model and get results for random forest \n",
    "rf_model = ConstructModel([tfidf_vect_rf,rf],feature,label)"
   ]
  },
  {
   "cell_type": "code",
   "execution_count": 20,
   "metadata": {},
   "outputs": [],
   "source": [
    "# final model\n",
    "rf_estimator = rf_model.pipe[1]\n",
    "# final predictions (takes a while)\n",
    "rf_pred= rf_model._X_test.apply(rf_model.get_prediction).apply(lambda x: x[0])"
   ]
  },
  {
   "cell_type": "code",
   "execution_count": 22,
   "metadata": {},
   "outputs": [
    {
     "name": "stdout",
     "output_type": "stream",
     "text": [
      "Train Score:\t 0.907553318757477\n",
      "Test Score:\t 0.8015179013364131\n"
     ]
    }
   ],
   "source": [
    "# check model accuracy score for test and train \n",
    "rf_model.get_score()"
   ]
  },
  {
   "cell_type": "code",
   "execution_count": 23,
   "metadata": {},
   "outputs": [
    {
     "data": {
      "text/html": [
       "<div>\n",
       "<style scoped>\n",
       "    .dataframe tbody tr th:only-of-type {\n",
       "        vertical-align: middle;\n",
       "    }\n",
       "\n",
       "    .dataframe tbody tr th {\n",
       "        vertical-align: top;\n",
       "    }\n",
       "\n",
       "    .dataframe thead th {\n",
       "        text-align: right;\n",
       "    }\n",
       "</style>\n",
       "<table border=\"1\" class=\"dataframe\">\n",
       "  <thead>\n",
       "    <tr style=\"text-align: right;\">\n",
       "      <th></th>\n",
       "      <th>c# Pred</th>\n",
       "      <th>c++ Pred</th>\n",
       "      <th>java Pred</th>\n",
       "      <th>javascript Pred</th>\n",
       "      <th>python Pred</th>\n",
       "    </tr>\n",
       "  </thead>\n",
       "  <tbody>\n",
       "    <tr>\n",
       "      <th>c# True</th>\n",
       "      <td>1066</td>\n",
       "      <td>15</td>\n",
       "      <td>205</td>\n",
       "      <td>84</td>\n",
       "      <td>30</td>\n",
       "    </tr>\n",
       "    <tr>\n",
       "      <th>c++ True</th>\n",
       "      <td>64</td>\n",
       "      <td>563</td>\n",
       "      <td>121</td>\n",
       "      <td>23</td>\n",
       "      <td>14</td>\n",
       "    </tr>\n",
       "    <tr>\n",
       "      <th>java True</th>\n",
       "      <td>100</td>\n",
       "      <td>13</td>\n",
       "      <td>1271</td>\n",
       "      <td>83</td>\n",
       "      <td>28</td>\n",
       "    </tr>\n",
       "    <tr>\n",
       "      <th>javascript True</th>\n",
       "      <td>36</td>\n",
       "      <td>5</td>\n",
       "      <td>91</td>\n",
       "      <td>1218</td>\n",
       "      <td>22</td>\n",
       "    </tr>\n",
       "    <tr>\n",
       "      <th>python True</th>\n",
       "      <td>37</td>\n",
       "      <td>11</td>\n",
       "      <td>141</td>\n",
       "      <td>91</td>\n",
       "      <td>729</td>\n",
       "    </tr>\n",
       "  </tbody>\n",
       "</table>\n",
       "</div>"
      ],
      "text/plain": [
       "                 c# Pred  c++ Pred  java Pred  javascript Pred  python Pred\n",
       "c# True             1066        15        205               84           30\n",
       "c++ True              64       563        121               23           14\n",
       "java True            100        13       1271               83           28\n",
       "javascript True       36         5         91             1218           22\n",
       "python True           37        11        141               91          729"
      ]
     },
     "execution_count": 23,
     "metadata": {},
     "output_type": "execute_result"
    }
   ],
   "source": [
    "# check confusion matrix\n",
    "confusion_matrix_df(rf_model,rf_estimator,rf_pred)"
   ]
  },
  {
   "cell_type": "markdown",
   "metadata": {},
   "source": [
    "## multinominalNB "
   ]
  },
  {
   "cell_type": "code",
   "execution_count": 24,
   "metadata": {},
   "outputs": [],
   "source": [
    "# after paramater tuning, a default settings works best\n",
    "tfidf_vect_nb= TfidfVectorizer()\n",
    "# hyperparamater from extensive model gridsearch/randomsearch\n",
    "nb = MultinomialNB(alpha = 0.1,fit_prior=False)"
   ]
  },
  {
   "cell_type": "code",
   "execution_count": 25,
   "metadata": {},
   "outputs": [],
   "source": [
    "# run model and get results for nb\n",
    "nb_model = ConstructModel([tfidf_vect_nb,nb],feature,label)"
   ]
  },
  {
   "cell_type": "code",
   "execution_count": 26,
   "metadata": {},
   "outputs": [],
   "source": [
    "nb_estimator = nb_model.pipe[1]\n",
    "# final predictions\n",
    "nb_pred= nb_model._X_test.apply(nb_model.get_prediction).apply(lambda x: x[0])"
   ]
  },
  {
   "cell_type": "code",
   "execution_count": 28,
   "metadata": {},
   "outputs": [
    {
     "name": "stdout",
     "output_type": "stream",
     "text": [
      "Train Score:\t 0.9083783672290747\n",
      "Test Score:\t 0.8130671506352087\n"
     ]
    }
   ],
   "source": [
    "# check model accuracy score for test and train \n",
    "nb_model.get_score()"
   ]
  },
  {
   "cell_type": "code",
   "execution_count": 29,
   "metadata": {},
   "outputs": [
    {
     "data": {
      "text/html": [
       "<div>\n",
       "<style scoped>\n",
       "    .dataframe tbody tr th:only-of-type {\n",
       "        vertical-align: middle;\n",
       "    }\n",
       "\n",
       "    .dataframe tbody tr th {\n",
       "        vertical-align: top;\n",
       "    }\n",
       "\n",
       "    .dataframe thead th {\n",
       "        text-align: right;\n",
       "    }\n",
       "</style>\n",
       "<table border=\"1\" class=\"dataframe\">\n",
       "  <thead>\n",
       "    <tr style=\"text-align: right;\">\n",
       "      <th></th>\n",
       "      <th>c# Pred</th>\n",
       "      <th>c++ Pred</th>\n",
       "      <th>java Pred</th>\n",
       "      <th>javascript Pred</th>\n",
       "      <th>python Pred</th>\n",
       "    </tr>\n",
       "  </thead>\n",
       "  <tbody>\n",
       "    <tr>\n",
       "      <th>c# True</th>\n",
       "      <td>1070</td>\n",
       "      <td>76</td>\n",
       "      <td>106</td>\n",
       "      <td>100</td>\n",
       "      <td>48</td>\n",
       "    </tr>\n",
       "    <tr>\n",
       "      <th>c++ True</th>\n",
       "      <td>37</td>\n",
       "      <td>658</td>\n",
       "      <td>46</td>\n",
       "      <td>9</td>\n",
       "      <td>35</td>\n",
       "    </tr>\n",
       "    <tr>\n",
       "      <th>java True</th>\n",
       "      <td>86</td>\n",
       "      <td>83</td>\n",
       "      <td>1191</td>\n",
       "      <td>78</td>\n",
       "      <td>57</td>\n",
       "    </tr>\n",
       "    <tr>\n",
       "      <th>javascript True</th>\n",
       "      <td>41</td>\n",
       "      <td>36</td>\n",
       "      <td>53</td>\n",
       "      <td>1187</td>\n",
       "      <td>55</td>\n",
       "    </tr>\n",
       "    <tr>\n",
       "      <th>python True</th>\n",
       "      <td>39</td>\n",
       "      <td>35</td>\n",
       "      <td>63</td>\n",
       "      <td>62</td>\n",
       "      <td>810</td>\n",
       "    </tr>\n",
       "  </tbody>\n",
       "</table>\n",
       "</div>"
      ],
      "text/plain": [
       "                 c# Pred  c++ Pred  java Pred  javascript Pred  python Pred\n",
       "c# True             1070        76        106              100           48\n",
       "c++ True              37       658         46                9           35\n",
       "java True             86        83       1191               78           57\n",
       "javascript True       41        36         53             1187           55\n",
       "python True           39        35         63               62          810"
      ]
     },
     "execution_count": 29,
     "metadata": {},
     "output_type": "execute_result"
    }
   ],
   "source": [
    "# check confusion matrix\n",
    "confusion_matrix_df(nb_model,nb_estimator,nb_pred)"
   ]
  },
  {
   "cell_type": "markdown",
   "metadata": {},
   "source": [
    "### Combine 3 models  \n",
    "\n",
    "  - Based upon the confusion matrix results, certain models do a better job predict certain label \n",
    "  \n",
    "  - Combine and get majority vote as final results "
   ]
  },
  {
   "cell_type": "code",
   "execution_count": 30,
   "metadata": {},
   "outputs": [],
   "source": [
    "def majority_vote(lg_pred,rf_pred,nb_pred):\n",
    "    '''\n",
    "    inputs:\n",
    "    lg_pred:\n",
    "    rf_pred:\n",
    "    nb_pred:\n",
    "    returns:\n",
    "    combined prediction result \n",
    "    '''\n",
    "    combined = []\n",
    "    predicted = zip(lg_pred,rf_pred,nb_pred)\n",
    "    for p in predicted:\n",
    "        votes = Counter(p)\n",
    "        most = max(votes.values())\n",
    "        if most >1:\n",
    "            combined.append(list(votes.keys())[list(votes.values()).index(most)])\n",
    "        else:\n",
    "            combined.append(np.random.choice(list(votes.keys()),1)[0])\n",
    "    return combined"
   ]
  },
  {
   "cell_type": "code",
   "execution_count": 31,
   "metadata": {},
   "outputs": [],
   "source": [
    "combined_pred = majority_vote(lg_pred,rf_pred,nb_pred)"
   ]
  },
  {
   "cell_type": "code",
   "execution_count": 32,
   "metadata": {
    "scrolled": true
   },
   "outputs": [
    {
     "data": {
      "text/plain": [
       "0.8313809602375846"
      ]
     },
     "execution_count": 32,
     "metadata": {},
     "output_type": "execute_result"
    }
   ],
   "source": [
    "accuracy_score(lg_model._y_test,combined_pred)"
   ]
  },
  {
   "cell_type": "code",
   "execution_count": 34,
   "metadata": {
    "scrolled": true
   },
   "outputs": [
    {
     "data": {
      "text/html": [
       "<div>\n",
       "<style scoped>\n",
       "    .dataframe tbody tr th:only-of-type {\n",
       "        vertical-align: middle;\n",
       "    }\n",
       "\n",
       "    .dataframe tbody tr th {\n",
       "        vertical-align: top;\n",
       "    }\n",
       "\n",
       "    .dataframe thead th {\n",
       "        text-align: right;\n",
       "    }\n",
       "</style>\n",
       "<table border=\"1\" class=\"dataframe\">\n",
       "  <thead>\n",
       "    <tr style=\"text-align: right;\">\n",
       "      <th></th>\n",
       "      <th>c# Pred</th>\n",
       "      <th>c++ Pred</th>\n",
       "      <th>java Pred</th>\n",
       "      <th>javascript Pred</th>\n",
       "      <th>python Pred</th>\n",
       "    </tr>\n",
       "  </thead>\n",
       "  <tbody>\n",
       "    <tr>\n",
       "      <th>c# True</th>\n",
       "      <td>1123</td>\n",
       "      <td>39</td>\n",
       "      <td>129</td>\n",
       "      <td>74</td>\n",
       "      <td>35</td>\n",
       "    </tr>\n",
       "    <tr>\n",
       "      <th>c++ True</th>\n",
       "      <td>58</td>\n",
       "      <td>625</td>\n",
       "      <td>61</td>\n",
       "      <td>14</td>\n",
       "      <td>27</td>\n",
       "    </tr>\n",
       "    <tr>\n",
       "      <th>java True</th>\n",
       "      <td>88</td>\n",
       "      <td>27</td>\n",
       "      <td>1271</td>\n",
       "      <td>64</td>\n",
       "      <td>45</td>\n",
       "    </tr>\n",
       "    <tr>\n",
       "      <th>javascript True</th>\n",
       "      <td>37</td>\n",
       "      <td>12</td>\n",
       "      <td>75</td>\n",
       "      <td>1214</td>\n",
       "      <td>34</td>\n",
       "    </tr>\n",
       "    <tr>\n",
       "      <th>python True</th>\n",
       "      <td>43</td>\n",
       "      <td>13</td>\n",
       "      <td>87</td>\n",
       "      <td>60</td>\n",
       "      <td>806</td>\n",
       "    </tr>\n",
       "  </tbody>\n",
       "</table>\n",
       "</div>"
      ],
      "text/plain": [
       "                 c# Pred  c++ Pred  java Pred  javascript Pred  python Pred\n",
       "c# True             1123        39        129               74           35\n",
       "c++ True              58       625         61               14           27\n",
       "java True             88        27       1271               64           45\n",
       "javascript True       37        12         75             1214           34\n",
       "python True           43        13         87               60          806"
      ]
     },
     "execution_count": 34,
     "metadata": {},
     "output_type": "execute_result"
    }
   ],
   "source": [
    "# true test Y and class labels are the same for all models \n",
    "confusion_matrix_df(lg_model,lg_estimator,combined_pred)"
   ]
  },
  {
   "cell_type": "markdown",
   "metadata": {},
   "source": [
    "## Most important features for all 3 models "
   ]
  },
  {
   "cell_type": "code",
   "execution_count": 35,
   "metadata": {},
   "outputs": [],
   "source": [
    "def coef_features(modelname, lg = True):\n",
    "    '''\n",
    "    inputs:\n",
    "    modelname: models  \n",
    "    lg: if it is linear regression if not it is nb\n",
    "    returns:\n",
    "    a dictionary of coefs and featurename \n",
    "    '''\n",
    "    labels = modelname.classes_  # label \n",
    "    if lg:\n",
    "        coefs = modelname[1].coef_\n",
    "    else:\n",
    "        coefs = modelname[1].feature_log_prob_\n",
    "    featurenames = modelname[0].get_feature_names()\n",
    "    coef_dict={}\n",
    "    for i, l in enumerate(labels):\n",
    "        coef_dict[l]=[]\n",
    "        for c, f in zip(coefs[i],featurenames):\n",
    "            if c:\n",
    "                coef_dict[l].append((f,c))\n",
    "    return coef_dict   \n",
    "\n",
    "def top_10_feature(coef_dict, lg = True):\n",
    "    '''\n",
    "    input:\n",
    "    coef_dict: a dictionary of coefs and featurename from coef_features function\n",
    "    lg: if true it is logistic regression otherwise nb \n",
    "    returns:\n",
    "    a data frame of top 10 most important features for each classes \n",
    "    '''\n",
    "    top_10 = {}\n",
    "    for l in coef_dict.keys():\n",
    "        top_10[l] = sorted(coef_dict[l], key = lambda x: x[1], reverse = True)[:10]\n",
    "        top_10[l] = [x[0] for x in top_10[l]]\n",
    "    df = pd.DataFrame(top_10)\n",
    "    if lg:\n",
    "        df.columns = df.columns + '_lg'\n",
    "    else:\n",
    "        df.columns = df.columns + '_nb'\n",
    "    return df"
   ]
  },
  {
   "cell_type": "code",
   "execution_count": 36,
   "metadata": {},
   "outputs": [],
   "source": [
    "lg_coef_f = coef_features(lg_model.pipe)\n",
    "nb_coef_f = coef_features(nb_model.pipe,lg=False)"
   ]
  },
  {
   "cell_type": "code",
   "execution_count": 37,
   "metadata": {
    "scrolled": true
   },
   "outputs": [
    {
     "data": {
      "text/html": [
       "<div>\n",
       "<style scoped>\n",
       "    .dataframe tbody tr th:only-of-type {\n",
       "        vertical-align: middle;\n",
       "    }\n",
       "\n",
       "    .dataframe tbody tr th {\n",
       "        vertical-align: top;\n",
       "    }\n",
       "\n",
       "    .dataframe thead th {\n",
       "        text-align: right;\n",
       "    }\n",
       "</style>\n",
       "<table border=\"1\" class=\"dataframe\">\n",
       "  <thead>\n",
       "    <tr style=\"text-align: right;\">\n",
       "      <th></th>\n",
       "      <th>c#_lg</th>\n",
       "      <th>c++_lg</th>\n",
       "      <th>java_lg</th>\n",
       "      <th>javascript_lg</th>\n",
       "      <th>python_lg</th>\n",
       "    </tr>\n",
       "  </thead>\n",
       "  <tbody>\n",
       "    <tr>\n",
       "      <th>0</th>\n",
       "      <td>writeline</td>\n",
       "      <td>boost</td>\n",
       "      <td>jvm</td>\n",
       "      <td>jquery</td>\n",
       "      <td>django</td>\n",
       "    </tr>\n",
       "    <tr>\n",
       "      <th>1</th>\n",
       "      <td>net</td>\n",
       "      <td>cout</td>\n",
       "      <td>jdk</td>\n",
       "      <td>backbone</td>\n",
       "      <td>numpy</td>\n",
       "    </tr>\n",
       "    <tr>\n",
       "      <th>2</th>\n",
       "      <td>dispose</td>\n",
       "      <td>std</td>\n",
       "      <td>jsp</td>\n",
       "      <td>console log</td>\n",
       "      <td>py</td>\n",
       "    </tr>\n",
       "    <tr>\n",
       "      <th>3</th>\n",
       "      <td>resharper</td>\n",
       "      <td>qt</td>\n",
       "      <td>system println</td>\n",
       "      <td>angularjs</td>\n",
       "      <td>def</td>\n",
       "    </tr>\n",
       "    <tr>\n",
       "      <th>4</th>\n",
       "      <td>window form</td>\n",
       "      <td>cpp</td>\n",
       "      <td>println</td>\n",
       "      <td>prototype</td>\n",
       "      <td>pythonic</td>\n",
       "    </tr>\n",
       "    <tr>\n",
       "      <th>5</th>\n",
       "      <td>linq</td>\n",
       "      <td>stl</td>\n",
       "      <td>spring</td>\n",
       "      <td>ecmascript</td>\n",
       "      <td>pep</td>\n",
       "    </tr>\n",
       "    <tr>\n",
       "      <th>6</th>\n",
       "      <td>msdn</td>\n",
       "      <td>gcc</td>\n",
       "      <td>jar</td>\n",
       "      <td>alert</td>\n",
       "      <td>matplotlib</td>\n",
       "    </tr>\n",
       "    <tr>\n",
       "      <th>7</th>\n",
       "      <td>ienumerable</td>\n",
       "      <td>int main</td>\n",
       "      <td>junit</td>\n",
       "      <td>browser</td>\n",
       "      <td>urllib</td>\n",
       "    </tr>\n",
       "    <tr>\n",
       "      <th>8</th>\n",
       "      <td>xaml</td>\n",
       "      <td>header file</td>\n",
       "      <td>hibernate</td>\n",
       "      <td>jslint</td>\n",
       "      <td>sqlalchemy</td>\n",
       "    </tr>\n",
       "    <tr>\n",
       "      <th>9</th>\n",
       "      <td>wpf</td>\n",
       "      <td>std string</td>\n",
       "      <td>jdbc</td>\n",
       "      <td>angular</td>\n",
       "      <td>typeerror</td>\n",
       "    </tr>\n",
       "  </tbody>\n",
       "</table>\n",
       "</div>"
      ],
      "text/plain": [
       "         c#_lg       c++_lg         java_lg javascript_lg   python_lg\n",
       "0    writeline        boost             jvm        jquery      django\n",
       "1          net         cout             jdk      backbone       numpy\n",
       "2      dispose          std             jsp   console log          py\n",
       "3    resharper           qt  system println     angularjs         def\n",
       "4  window form          cpp         println     prototype    pythonic\n",
       "5         linq          stl          spring    ecmascript         pep\n",
       "6         msdn          gcc             jar         alert  matplotlib\n",
       "7  ienumerable     int main           junit       browser      urllib\n",
       "8         xaml  header file       hibernate        jslint  sqlalchemy\n",
       "9          wpf   std string            jdbc       angular   typeerror"
      ]
     },
     "execution_count": 37,
     "metadata": {},
     "output_type": "execute_result"
    }
   ],
   "source": [
    "lg_f = top_10_feature(lg_coef_f)\n",
    "lg_f"
   ]
  },
  {
   "cell_type": "code",
   "execution_count": 38,
   "metadata": {},
   "outputs": [
    {
     "data": {
      "text/html": [
       "<div>\n",
       "<style scoped>\n",
       "    .dataframe tbody tr th:only-of-type {\n",
       "        vertical-align: middle;\n",
       "    }\n",
       "\n",
       "    .dataframe tbody tr th {\n",
       "        vertical-align: top;\n",
       "    }\n",
       "\n",
       "    .dataframe thead th {\n",
       "        text-align: right;\n",
       "    }\n",
       "</style>\n",
       "<table border=\"1\" class=\"dataframe\">\n",
       "  <thead>\n",
       "    <tr style=\"text-align: right;\">\n",
       "      <th></th>\n",
       "      <th>c#_nb</th>\n",
       "      <th>c++_nb</th>\n",
       "      <th>java_nb</th>\n",
       "      <th>javascript_nb</th>\n",
       "      <th>python_nb</th>\n",
       "    </tr>\n",
       "  </thead>\n",
       "  <tbody>\n",
       "    <tr>\n",
       "      <th>0</th>\n",
       "      <td>string</td>\n",
       "      <td>std</td>\n",
       "      <td>string</td>\n",
       "      <td>function</td>\n",
       "      <td>list</td>\n",
       "    </tr>\n",
       "    <tr>\n",
       "      <th>1</th>\n",
       "      <td>use</td>\n",
       "      <td>int</td>\n",
       "      <td>class</td>\n",
       "      <td>jquery</td>\n",
       "      <td>file</td>\n",
       "    </tr>\n",
       "    <tr>\n",
       "      <th>2</th>\n",
       "      <td>public</td>\n",
       "      <td>use</td>\n",
       "      <td>use</td>\n",
       "      <td>use</td>\n",
       "      <td>use</td>\n",
       "    </tr>\n",
       "    <tr>\n",
       "      <th>3</th>\n",
       "      <td>class</td>\n",
       "      <td>const</td>\n",
       "      <td>file</td>\n",
       "      <td>var</td>\n",
       "      <td>print</td>\n",
       "    </tr>\n",
       "    <tr>\n",
       "      <th>4</th>\n",
       "      <td>net</td>\n",
       "      <td>function</td>\n",
       "      <td>method</td>\n",
       "      <td>div</td>\n",
       "      <td>py</td>\n",
       "    </tr>\n",
       "    <tr>\n",
       "      <th>5</th>\n",
       "      <td>get</td>\n",
       "      <td>class</td>\n",
       "      <td>public</td>\n",
       "      <td>page</td>\n",
       "      <td>like</td>\n",
       "    </tr>\n",
       "    <tr>\n",
       "      <th>6</th>\n",
       "      <td>method</td>\n",
       "      <td>code</td>\n",
       "      <td>new</td>\n",
       "      <td>like</td>\n",
       "      <td>way</td>\n",
       "    </tr>\n",
       "    <tr>\n",
       "      <th>7</th>\n",
       "      <td>new</td>\n",
       "      <td>vector</td>\n",
       "      <td>get</td>\n",
       "      <td>html</td>\n",
       "      <td>self</td>\n",
       "    </tr>\n",
       "    <tr>\n",
       "      <th>8</th>\n",
       "      <td>code</td>\n",
       "      <td>foo</td>\n",
       "      <td>like</td>\n",
       "      <td>script</td>\n",
       "      <td>get</td>\n",
       "    </tr>\n",
       "    <tr>\n",
       "      <th>9</th>\n",
       "      <td>list</td>\n",
       "      <td>string</td>\n",
       "      <td>way</td>\n",
       "      <td>way</td>\n",
       "      <td>line</td>\n",
       "    </tr>\n",
       "  </tbody>\n",
       "</table>\n",
       "</div>"
      ],
      "text/plain": [
       "    c#_nb    c++_nb java_nb javascript_nb python_nb\n",
       "0  string       std  string      function      list\n",
       "1     use       int   class        jquery      file\n",
       "2  public       use     use           use       use\n",
       "3   class     const    file           var     print\n",
       "4     net  function  method           div        py\n",
       "5     get     class  public          page      like\n",
       "6  method      code     new          like       way\n",
       "7     new    vector     get          html      self\n",
       "8    code       foo    like        script       get\n",
       "9    list    string     way           way      line"
      ]
     },
     "execution_count": 38,
     "metadata": {},
     "output_type": "execute_result"
    }
   ],
   "source": [
    "nb_f = top_10_feature(nb_coef_f,lg=False)\n",
    "nb_f"
   ]
  },
  {
   "cell_type": "code",
   "execution_count": 39,
   "metadata": {},
   "outputs": [],
   "source": [
    "importance_score_rf = rf_estimator.feature_importances_\n",
    "feature_name_rf = rf_model.pipe[0].get_feature_names()\n",
    "importance_f_rf =[]\n",
    "for c, f in zip(importance_score_rf,feature_name_rf):\n",
    "    if c:\n",
    "        importance_f_rf.append((f,c))\n",
    "top_10 = sorted(importance_f_rf, key=lambda x: x[1], reverse = True)[:10]"
   ]
  },
  {
   "cell_type": "code",
   "execution_count": 40,
   "metadata": {},
   "outputs": [
    {
     "data": {
      "text/plain": [
       "Text(0.5, 1.0, 'Random Forest Top 10 most Important Key Word Features')"
      ]
     },
     "execution_count": 40,
     "metadata": {},
     "output_type": "execute_result"
    },
    {
     "data": {
      "image/png": "[encoded data removed]",
      "text/plain": [
       "<Figure size 576x396 with 1 Axes>"
      ]
     },
     "metadata": {},
     "output_type": "display_data"
    }
   ],
   "source": [
    "sns.barplot(x= np.arange(10,0,-1), y = [f[0] for f in top_10])\n",
    "plt.xlabel('Feature Importance (10 most important, 1 least)', size = 16)\n",
    "plt.yticks(size=16)\n",
    "plt.title('Random Forest Top 10 most Important Key Word Features', size = 16)"
   ]
  }
 ],
 "metadata": {
  "kernelspec": {
   "display_name": "Python 3",
   "language": "python",
   "name": "python3"
  },
  "language_info": {
   "codemirror_mode": {
    "name": "ipython",
    "version": 3
   },
   "file_extension": ".py",
   "mimetype": "text/x-python",
   "name": "python",
   "nbconvert_exporter": "python",
   "pygments_lexer": "ipython3",
   "version": "3.7.1"
  }
 },
 "nbformat": 4,
 "nbformat_minor": 2
}
