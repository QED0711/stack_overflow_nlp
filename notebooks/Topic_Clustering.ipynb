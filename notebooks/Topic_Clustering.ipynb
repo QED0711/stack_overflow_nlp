{
 "cells": [
  {
   "cell_type": "code",
   "execution_count": 93,
   "metadata": {},
   "outputs": [],
   "source": [
    "import matplotlib.pyplot as plt\n",
    "import pandas as pd\n",
    "import gensim\n",
    "import numpy as np\n",
    "import warnings\n",
    "from gensim import corpora, models\n",
    "from sklearn.metrics import confusion_matrix\n",
    "warnings.filterwarnings('ignore')\n",
    "%matplotlib inline"
   ]
  },
  {
   "cell_type": "code",
   "execution_count": 2,
   "metadata": {},
   "outputs": [],
   "source": [
    "posts_df = pd.read_pickle('../data/interum/text_target.pkl')"
   ]
  },
  {
   "cell_type": "code",
   "execution_count": 3,
   "metadata": {},
   "outputs": [],
   "source": [
    "# convert into features and target \n",
    "feature = posts_df['tokens']\n",
    "label = posts_df['target']  # label "
   ]
  },
  {
   "cell_type": "code",
   "execution_count": 95,
   "metadata": {},
   "outputs": [],
   "source": [
    "# more words to remove and remove words longer than length 2\n",
    "\n",
    "words = ['class', 'file', 'use', 'code',\n",
    "         'string', 'function', 'new', 'like','way','would']\n",
    "feature = feature.apply(\n",
    "    lambda x: [w for w in x if len(w) > 2 and w not in words])"
   ]
  },
  {
   "cell_type": "code",
   "execution_count": 96,
   "metadata": {},
   "outputs": [],
   "source": [
    "def coef_features(modelname, lg = True):\n",
    "    labels = modelname.classes_  # label \n",
    "    if lg:\n",
    "        coefs = modelname.best_estimator_['clf'].coef_\n",
    "    else:\n",
    "        coefs = modelname.best_estimator_['clf'].feature_log_prob_\n",
    "    featurenames = modelname.best_estimator_['vect'].get_feature_names()\n",
    "    coef_dict={}\n",
    "    for i, l in enumerate(labels):\n",
    "        coef_dict[l]=[]\n",
    "        for c, f in zip(coefs[i],featurenames):\n",
    "            if c:\n",
    "                coef_dict[l].append((f,c))\n",
    "    return coef_dict   "
   ]
  },
  {
   "cell_type": "code",
   "execution_count": null,
   "metadata": {},
   "outputs": [],
   "source": [
    "with open('gs_nb','rb') as f:\n",
    "    t_nb = pickle.load(f)\n",
    "with open('gs_lg','rb') as f:\n",
    "    t_lg = pickle.load(f)"
   ]
  },
  {
   "cell_type": "code",
   "execution_count": null,
   "metadata": {},
   "outputs": [],
   "source": [
    "lg_coef_f = coef_features(t_lg)\n",
    "nb_coef_f = coef_features(t_nb)"
   ]
  },
  {
   "cell_type": "code",
   "execution_count": null,
   "metadata": {},
   "outputs": [],
   "source": [
    "def top_10_feature(coef_dict):\n",
    "    top_10 = {}\n",
    "    for l in coef_dict.keys():\n",
    "        top_10[l] = sorted(coef_dict[l], key = lambda x: x[1], reverse = True)[:10]\n",
    "        top_10[l] = [x[0] for x in top_10[l]]\n",
    "    return pd.DataFrame(top_10)"
   ]
  },
  {
   "cell_type": "code",
   "execution_count": null,
   "metadata": {
    "scrolled": true
   },
   "outputs": [],
   "source": [
    "pd.concat([top_10_feature(lg_coef_f),top_10_feature(nb_coef_f)], axis = 1)\n",
    "\n",
    "    "
   ]
  },
  {
   "cell_type": "markdown",
   "metadata": {},
   "source": [
    "## feature engineering for clustering"
   ]
  },
  {
   "cell_type": "code",
   "execution_count": 97,
   "metadata": {},
   "outputs": [],
   "source": [
    "# dictionary for train \n",
    "dictionary = gensim.corpora.Dictionary(feature)"
   ]
  },
  {
   "cell_type": "code",
   "execution_count": 98,
   "metadata": {},
   "outputs": [],
   "source": [
    "# remove extreme high or low counts \n",
    "dictionary.filter_extremes(no_below=15, no_above=0.5, keep_n=100000)"
   ]
  },
  {
   "cell_type": "code",
   "execution_count": 99,
   "metadata": {},
   "outputs": [],
   "source": [
    "# create bag of words \n",
    "bow = [dictionary.doc2bow(doc) for doc in feature]\n"
   ]
  },
  {
   "cell_type": "code",
   "execution_count": 100,
   "metadata": {},
   "outputs": [],
   "source": [
    "# tfidf for bow \n",
    "tfidf = models.TfidfModel(bow)\n"
   ]
  },
  {
   "cell_type": "code",
   "execution_count": 101,
   "metadata": {},
   "outputs": [],
   "source": [
    "corpus_tfidf = tfidf[bow]"
   ]
  },
  {
   "cell_type": "code",
   "execution_count": 102,
   "metadata": {},
   "outputs": [],
   "source": [
    "# generate a model for bag of words \n",
    "# we know we have 5 tops \n",
    "lda_model = gensim.models.LdaMulticore(\n",
    "    bow, num_topics=5, id2word=dictionary, passes=2, workers=2)"
   ]
  },
  {
   "cell_type": "code",
   "execution_count": 103,
   "metadata": {
    "scrolled": false
   },
   "outputs": [
    {
     "data": {
      "text/plain": [
       "[(0,\n",
       "  '0.013*\"value\" + 0.012*\"int\" + 0.011*\"array\" + 0.010*\"return\" + 0.009*\"time\" + 0.008*\"list\" + 0.008*\"android\" + 0.007*\"image\" + 0.007*\"want\" + 0.007*\"date\"'),\n",
       " (1,\n",
       "  '0.021*\"public\" + 0.016*\"int\" + 0.016*\"method\" + 0.013*\"return\" + 0.012*\"void\" + 0.010*\"static\" + 0.010*\"type\" + 0.009*\"object\" + 0.008*\"system\" + 0.008*\"call\"'),\n",
       " (2,\n",
       "  '0.011*\"http\" + 0.011*\"script\" + 0.010*\"error\" + 0.009*\"system\" + 0.009*\"lib\" + 0.008*\"html\" + 0.008*\"page\" + 0.008*\"org\" + 0.008*\"try\" + 0.007*\"work\"'),\n",
       " (3,\n",
       "  '0.007*\"std\" + 0.007*\"work\" + 0.007*\"run\" + 0.006*\"find\" + 0.006*\"need\" + 0.006*\"one\" + 0.006*\"know\" + 0.006*\"version\" + 0.006*\"library\" + 0.006*\"project\"'),\n",
       " (4,\n",
       "  '0.022*\"name\" + 0.017*\"object\" + 0.011*\"list\" + 0.011*\"return\" + 0.011*\"var\" + 0.011*\"user\" + 0.010*\"value\" + 0.010*\"public\" + 0.009*\"property\" + 0.009*\"test\"')]"
      ]
     },
     "execution_count": 103,
     "metadata": {},
     "output_type": "execute_result"
    }
   ],
   "source": [
    "lda_model.print_topics() # notice many filer words "
   ]
  },
  {
   "cell_type": "markdown",
   "metadata": {},
   "source": [
    "## tfidf LDA model"
   ]
  },
  {
   "cell_type": "markdown",
   "metadata": {},
   "source": [
    "## filter out these words:\n",
    "* make sure words are longer than 2 letters \n",
    "\n",
    "* class, file, use, code,string,function"
   ]
  },
  {
   "cell_type": "code",
   "execution_count": 104,
   "metadata": {},
   "outputs": [],
   "source": [
    "lda_model_tfidf = gensim.models.LdaMulticore(\n",
    "    corpus_tfidf, num_topics=5, id2word=dictionary, passes=2, workers=4)"
   ]
  },
  {
   "cell_type": "code",
   "execution_count": null,
   "metadata": {
    "scrolled": false
   },
   "outputs": [
    {
     "data": {
      "text/plain": [
       "[(0,\n",
       "  '0.005*\"text\" + 0.004*\"foo\" + 0.004*\"form\" + 0.004*\"public\" + 0.004*\"event\" + 0.004*\"button\" + 0.004*\"window\" + 0.004*\"click\" + 0.004*\"type\" + 0.004*\"int\"'),\n",
       " (1,\n",
       "  '0.006*\"list\" + 0.005*\"test\" + 0.005*\"project\" + 0.004*\"android\" + 0.004*\"application\" + 0.004*\"run\" + 0.004*\"eclipse\" + 0.004*\"public\" + 0.003*\"want\" + 0.003*\"method\"'),\n",
       " (2,\n",
       "  '0.005*\"div\" + 0.005*\"array\" + 0.005*\"std\" + 0.004*\"element\" + 0.004*\"object\" + 0.004*\"data\" + 0.004*\"var\" + 0.004*\"json\" + 0.004*\"jquery\" + 0.003*\"list\"'),\n",
       " (3,\n",
       "  '0.005*\"value\" + 0.005*\"number\" + 0.004*\"name\" + 0.004*\"array\" + 0.004*\"line\" + 0.004*\"want\" + 0.004*\"character\" + 0.003*\"int\" + 0.003*\"model\" + 0.003*\"type\"'),\n",
       " (4,\n",
       "  '0.006*\"date\" + 0.006*\"int\" + 0.004*\"object\" + 0.004*\"method\" + 0.004*\"thread\" + 0.004*\"public\" + 0.004*\"time\" + 0.004*\"datetime\" + 0.004*\"return\" + 0.003*\"system\"')]"
      ]
     },
     "execution_count": 105,
     "metadata": {},
     "output_type": "execute_result"
    }
   ],
   "source": [
    "lda_model_tfidf.print_topics()"
   ]
  },
  {
   "cell_type": "code",
   "execution_count": null,
   "metadata": {},
   "outputs": [],
   "source": [
    "pred_bow = []\n",
    "for i in bow:\n",
    "    result = lda_model[i]\n",
    "    if len(result) > 1:\n",
    "        pred_bow.append(sorted(result, key=lambda x: x[1], reverse = True )[0][0])\n",
    "    else:\n",
    "        pred_bow.append(result[0][0])    "
   ]
  },
  {
   "cell_type": "code",
   "execution_count": null,
   "metadata": {},
   "outputs": [],
   "source": [
    "pred_tdif = []\n",
    "for i in bow:\n",
    "    result = lda_model_tfidf[i]\n",
    "    if len(result) > 1:\n",
    "        pred_tdif.append(sorted(result, key=lambda x: x[1], reverse = True )[0][0])\n",
    "    else:\n",
    "        pred_tdif.append(result[0][0])\n",
    "        "
   ]
  },
  {
   "cell_type": "code",
   "execution_count": null,
   "metadata": {
    "scrolled": true
   },
   "outputs": [],
   "source": [
    "result = pd.DataFrame([pred_bow,pred_tdif,label]).T"
   ]
  },
  {
   "cell_type": "code",
   "execution_count": null,
   "metadata": {},
   "outputs": [],
   "source": [
    "result.columns = ['bow','tdif','true_label']"
   ]
  },
  {
   "cell_type": "code",
   "execution_count": null,
   "metadata": {},
   "outputs": [],
   "source": [
    "result.true_label.unique"
   ]
  },
  {
   "cell_type": "code",
   "execution_count": null,
   "metadata": {},
   "outputs": [],
   "source": [
    "mask1 = result.true_label =='c++'\n",
    "mask2 = result.true_label == 'javascript'\n",
    "mask3 = result.true_label =='c#'\n",
    "mask4= result.true_label == 'python'\n",
    "mask5 = result.true_label =='java'"
   ]
  },
  {
   "cell_type": "markdown",
   "metadata": {},
   "source": [
    "## bow:\n",
    "\n",
    "* c++: topic \n",
    "* javascript: class 2 "
   ]
  },
  {
   "cell_type": "code",
   "execution_count": null,
   "metadata": {},
   "outputs": [],
   "source": [
    "result[mask1]['bow'].value_counts(normalize = True)"
   ]
  },
  {
   "cell_type": "code",
   "execution_count": null,
   "metadata": {},
   "outputs": [],
   "source": [
    "result[mask2]['bow'].value_counts(normalize = True)"
   ]
  },
  {
   "cell_type": "code",
   "execution_count": null,
   "metadata": {},
   "outputs": [],
   "source": [
    "result[mask3]['bow'].value_counts(normalize = True)"
   ]
  },
  {
   "cell_type": "code",
   "execution_count": null,
   "metadata": {},
   "outputs": [],
   "source": [
    "result[mask4]['bow'].value_counts(normalize = True)"
   ]
  },
  {
   "cell_type": "code",
   "execution_count": null,
   "metadata": {
    "scrolled": true
   },
   "outputs": [],
   "source": [
    "result[mask5]['bow'].value_counts(normalize = True)"
   ]
  },
  {
   "cell_type": "markdown",
   "metadata": {},
   "source": [
    "## tdif"
   ]
  },
  {
   "cell_type": "code",
   "execution_count": null,
   "metadata": {},
   "outputs": [],
   "source": [
    "result[mask1]['tdif'].value_counts(normalize = True)"
   ]
  },
  {
   "cell_type": "code",
   "execution_count": null,
   "metadata": {},
   "outputs": [],
   "source": [
    "result[mask2]['tdif'].value_counts(normalize = True)"
   ]
  },
  {
   "cell_type": "code",
   "execution_count": null,
   "metadata": {},
   "outputs": [],
   "source": [
    "result[mask3]['tdif'].value_counts(normalize = True)"
   ]
  },
  {
   "cell_type": "code",
   "execution_count": null,
   "metadata": {},
   "outputs": [],
   "source": [
    "result[mask4]['tdif'].value_counts(normalize = True)"
   ]
  },
  {
   "cell_type": "code",
   "execution_count": null,
   "metadata": {},
   "outputs": [],
   "source": [
    "result[mask5]['tdif'].value_counts(normalize = True)"
   ]
  },
  {
   "cell_type": "code",
   "execution_count": null,
   "metadata": {},
   "outputs": [],
   "source": [
    "result.head()"
   ]
  },
  {
   "cell_type": "code",
   "execution_count": null,
   "metadata": {},
   "outputs": [],
   "source": []
  }
 ],
 "metadata": {
  "kernelspec": {
   "display_name": "Python 3",
   "language": "python",
   "name": "python3"
  },
  "language_info": {
   "codemirror_mode": {
    "name": "ipython",
    "version": 3
   },
   "file_extension": ".py",
   "mimetype": "text/x-python",
   "name": "python",
   "nbconvert_exporter": "python",
   "pygments_lexer": "ipython3",
   "version": "3.7.1"
  }
 },
 "nbformat": 4,
 "nbformat_minor": 2
}
