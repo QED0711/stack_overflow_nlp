{
 "cells": [
  {
   "cell_type": "code",
   "execution_count": 36,
   "metadata": {},
   "outputs": [],
   "source": [
    "import pandas as pd\n",
    "import gensim\n",
    "import numpy as np\n",
    "import warnings\n",
    "from gensim import corpora, models\n",
    "warnings.filterwarnings('ignore')\n",
    "import matplotlib.pyplot as plt\n",
    "%matplotlib inline"
   ]
  },
  {
   "cell_type": "code",
   "execution_count": 2,
   "metadata": {},
   "outputs": [],
   "source": [
    "posts_df = pd.read_pickle('../data/interum/text_target.pkl')"
   ]
  },
  {
   "cell_type": "code",
   "execution_count": 4,
   "metadata": {},
   "outputs": [],
   "source": [
    "# convert into features and target \n",
    "feature = posts_df['tokens']\n",
    "label = posts_df['target']  # label "
   ]
  },
  {
   "cell_type": "code",
   "execution_count": 6,
   "metadata": {},
   "outputs": [],
   "source": [
    "def coef_features(modelname, lg = True):\n",
    "    labels = modelname.classes_  # label \n",
    "    if lg:\n",
    "        coefs = modelname.best_estimator_['clf'].coef_\n",
    "    else:\n",
    "        coefs = modelname.best_estimator_['clf'].feature_log_prob_\n",
    "    featurenames = modelname.best_estimator_['vect'].get_feature_names()\n",
    "    coef_dict={}\n",
    "    for i, l in enumerate(labels):\n",
    "        coef_dict[l]=[]\n",
    "        for c, f in zip(coefs[i],featurenames):\n",
    "            if c:\n",
    "                coef_dict[l].append((f,c))\n",
    "    return coef_dict\n",
    "    \n",
    "    \n",
    "    "
   ]
  },
  {
   "cell_type": "code",
   "execution_count": 7,
   "metadata": {},
   "outputs": [],
   "source": [
    "lg_coef_f = coef_features(t_lg)\n",
    "nb_coef_f = coef_features(t_nb)"
   ]
  },
  {
   "cell_type": "code",
   "execution_count": 8,
   "metadata": {},
   "outputs": [],
   "source": [
    "def top_10_feature(coef_dict):\n",
    "    top_10 = {}\n",
    "    for l in coef_dict.keys():\n",
    "        top_10[l] = sorted(coef_dict[l], key = lambda x: x[1], reverse = True)[:10]\n",
    "        top_10[l] = [x[0] for x in top_10[l]]\n",
    "    return pd.DataFrame(top_10)"
   ]
  },
  {
   "cell_type": "code",
   "execution_count": 9,
   "metadata": {
    "scrolled": true
   },
   "outputs": [
    {
     "data": {
      "text/html": [
       "<div>\n",
       "<style scoped>\n",
       "    .dataframe tbody tr th:only-of-type {\n",
       "        vertical-align: middle;\n",
       "    }\n",
       "\n",
       "    .dataframe tbody tr th {\n",
       "        vertical-align: top;\n",
       "    }\n",
       "\n",
       "    .dataframe thead th {\n",
       "        text-align: right;\n",
       "    }\n",
       "</style>\n",
       "<table border=\"1\" class=\"dataframe\">\n",
       "  <thead>\n",
       "    <tr style=\"text-align: right;\">\n",
       "      <th></th>\n",
       "      <th>c#</th>\n",
       "      <th>c++</th>\n",
       "      <th>java</th>\n",
       "      <th>javascript</th>\n",
       "      <th>python</th>\n",
       "      <th>c#</th>\n",
       "      <th>c++</th>\n",
       "      <th>java</th>\n",
       "      <th>javascript</th>\n",
       "      <th>python</th>\n",
       "    </tr>\n",
       "  </thead>\n",
       "  <tbody>\n",
       "    <tr>\n",
       "      <th>0</th>\n",
       "      <td>writeline</td>\n",
       "      <td>cout</td>\n",
       "      <td>jvm</td>\n",
       "      <td>jquery</td>\n",
       "      <td>django</td>\n",
       "      <td>string</td>\n",
       "      <td>std</td>\n",
       "      <td>string</td>\n",
       "      <td>function</td>\n",
       "      <td>list</td>\n",
       "    </tr>\n",
       "    <tr>\n",
       "      <th>1</th>\n",
       "      <td>net</td>\n",
       "      <td>std</td>\n",
       "      <td>jdk</td>\n",
       "      <td>backbone</td>\n",
       "      <td>py</td>\n",
       "      <td>use</td>\n",
       "      <td>int</td>\n",
       "      <td>class</td>\n",
       "      <td>jquery</td>\n",
       "      <td>file</td>\n",
       "    </tr>\n",
       "    <tr>\n",
       "      <th>2</th>\n",
       "      <td>msdn</td>\n",
       "      <td>boost</td>\n",
       "      <td>println</td>\n",
       "      <td>console log</td>\n",
       "      <td>numpy</td>\n",
       "      <td>public</td>\n",
       "      <td>use</td>\n",
       "      <td>use</td>\n",
       "      <td>var</td>\n",
       "      <td>use</td>\n",
       "    </tr>\n",
       "    <tr>\n",
       "      <th>3</th>\n",
       "      <td>ienumerable</td>\n",
       "      <td>qt</td>\n",
       "      <td>spring</td>\n",
       "      <td>prototype</td>\n",
       "      <td>def</td>\n",
       "      <td>new</td>\n",
       "      <td>const</td>\n",
       "      <td>method</td>\n",
       "      <td>use</td>\n",
       "      <td>print</td>\n",
       "    </tr>\n",
       "    <tr>\n",
       "      <th>4</th>\n",
       "      <td>script jquery</td>\n",
       "      <td>stl</td>\n",
       "      <td>jsp</td>\n",
       "      <td>angularjs</td>\n",
       "      <td>pythonic</td>\n",
       "      <td>class</td>\n",
       "      <td>function</td>\n",
       "      <td>public</td>\n",
       "      <td>div</td>\n",
       "      <td>py</td>\n",
       "    </tr>\n",
       "    <tr>\n",
       "      <th>5</th>\n",
       "      <td>streamreader</td>\n",
       "      <td>cpp</td>\n",
       "      <td>system println</td>\n",
       "      <td>jsfiddle</td>\n",
       "      <td>matplotlib</td>\n",
       "      <td>get</td>\n",
       "      <td>class</td>\n",
       "      <td>file</td>\n",
       "      <td>page</td>\n",
       "      <td>like</td>\n",
       "    </tr>\n",
       "    <tr>\n",
       "      <th>6</th>\n",
       "      <td>linq</td>\n",
       "      <td>int main</td>\n",
       "      <td>hibernate</td>\n",
       "      <td>angular</td>\n",
       "      <td>pep</td>\n",
       "      <td>net</td>\n",
       "      <td>code</td>\n",
       "      <td>new</td>\n",
       "      <td>html</td>\n",
       "      <td>way</td>\n",
       "    </tr>\n",
       "    <tr>\n",
       "      <th>7</th>\n",
       "      <td>window form</td>\n",
       "      <td>header file</td>\n",
       "      <td>jar</td>\n",
       "      <td>alert</td>\n",
       "      <td>urllib</td>\n",
       "      <td>method</td>\n",
       "      <td>vector</td>\n",
       "      <td>get</td>\n",
       "      <td>like</td>\n",
       "      <td>self</td>\n",
       "    </tr>\n",
       "    <tr>\n",
       "      <th>8</th>\n",
       "      <td>winforms</td>\n",
       "      <td>gcc</td>\n",
       "      <td>util</td>\n",
       "      <td>browser</td>\n",
       "      <td>beautifulsoup</td>\n",
       "      <td>code</td>\n",
       "      <td>include</td>\n",
       "      <td>code</td>\n",
       "      <td>script</td>\n",
       "      <td>import</td>\n",
       "    </tr>\n",
       "    <tr>\n",
       "      <th>9</th>\n",
       "      <td>entity framework</td>\n",
       "      <td>pointer</td>\n",
       "      <td>jdbc</td>\n",
       "      <td>ecmascript</td>\n",
       "      <td>typeerror</td>\n",
       "      <td>list</td>\n",
       "      <td>compiler</td>\n",
       "      <td>like</td>\n",
       "      <td>element</td>\n",
       "      <td>get</td>\n",
       "    </tr>\n",
       "  </tbody>\n",
       "</table>\n",
       "</div>"
      ],
      "text/plain": [
       "                 c#          c++            java   javascript         python  \\\n",
       "0         writeline         cout             jvm       jquery         django   \n",
       "1               net          std             jdk     backbone             py   \n",
       "2              msdn        boost         println  console log          numpy   \n",
       "3       ienumerable           qt          spring    prototype            def   \n",
       "4     script jquery          stl             jsp    angularjs       pythonic   \n",
       "5      streamreader          cpp  system println     jsfiddle     matplotlib   \n",
       "6              linq     int main       hibernate      angular            pep   \n",
       "7       window form  header file             jar        alert         urllib   \n",
       "8          winforms          gcc            util      browser  beautifulsoup   \n",
       "9  entity framework      pointer            jdbc   ecmascript      typeerror   \n",
       "\n",
       "       c#       c++    java javascript  python  \n",
       "0  string       std  string   function    list  \n",
       "1     use       int   class     jquery    file  \n",
       "2  public       use     use        var     use  \n",
       "3     new     const  method        use   print  \n",
       "4   class  function  public        div      py  \n",
       "5     get     class    file       page    like  \n",
       "6     net      code     new       html     way  \n",
       "7  method    vector     get       like    self  \n",
       "8    code   include    code     script  import  \n",
       "9    list  compiler    like    element     get  "
      ]
     },
     "execution_count": 9,
     "metadata": {},
     "output_type": "execute_result"
    }
   ],
   "source": [
    "pd.concat([top_10_feature(lg_coef_f),top_10_feature(nb_coef_f)], axis = 1)\n",
    "\n",
    "    "
   ]
  },
  {
   "cell_type": "markdown",
   "metadata": {},
   "source": [
    "## feature engineering for clustering"
   ]
  },
  {
   "cell_type": "code",
   "execution_count": 7,
   "metadata": {},
   "outputs": [],
   "source": [
    "# dictionary for train \n",
    "dictionary = gensim.corpora.Dictionary(feature)"
   ]
  },
  {
   "cell_type": "code",
   "execution_count": 8,
   "metadata": {},
   "outputs": [],
   "source": [
    "# remove extreme high or low counts \n",
    "dictionary.filter_extremes(no_below=5, no_above=0.5, keep_n=100000)"
   ]
  },
  {
   "cell_type": "code",
   "execution_count": 9,
   "metadata": {},
   "outputs": [],
   "source": [
    "# create bag of words \n",
    "bow = [dictionary.doc2bow(doc) for doc in feature]\n"
   ]
  },
  {
   "cell_type": "code",
   "execution_count": 10,
   "metadata": {},
   "outputs": [],
   "source": [
    "# tfidf for bow \n",
    "tfidf = models.TfidfModel(bow)\n"
   ]
  },
  {
   "cell_type": "code",
   "execution_count": 11,
   "metadata": {},
   "outputs": [],
   "source": [
    "corpus_tfidf = tfidf[bow]"
   ]
  },
  {
   "cell_type": "code",
   "execution_count": 12,
   "metadata": {},
   "outputs": [],
   "source": [
    "# generate a model for bag of words \n",
    "# we know we have 5 tops \n",
    "lda_model = gensim.models.LdaMulticore(\n",
    "    bow, num_topics=5, id2word=dictionary, passes=2, workers=2)"
   ]
  },
  {
   "cell_type": "code",
   "execution_count": 13,
   "metadata": {
    "scrolled": false
   },
   "outputs": [
    {
     "data": {
      "text/plain": [
       "[(0,\n",
       "  '0.032*\"string\" + 0.029*\"public\" + 0.022*\"class\" + 0.017*\"new\" + 0.015*\"object\" + 0.014*\"method\" + 0.014*\"return\" + 0.013*\"system\" + 0.012*\"get\" + 0.012*\"use\"'),\n",
       " (1,\n",
       "  '0.016*\"id\" + 0.014*\"name\" + 0.012*\"new\" + 0.011*\"file\" + 0.010*\"data\" + 0.010*\"value\" + 0.009*\"function\" + 0.009*\"use\" + 0.009*\"text\" + 0.008*\"var\"'),\n",
       " (2,\n",
       "  '0.022*\"use\" + 0.012*\"function\" + 0.010*\"like\" + 0.009*\"code\" + 0.009*\"would\" + 0.008*\"way\" + 0.007*\"one\" + 0.006*\"work\" + 0.006*\"want\" + 0.006*\"class\"'),\n",
       " (3,\n",
       "  '0.016*\"file\" + 0.013*\"use\" + 0.011*\"org\" + 0.011*\"http\" + 0.009*\"get\" + 0.008*\"com\" + 0.008*\"run\" + 0.008*\"error\" + 0.008*\"application\" + 0.008*\"version\"'),\n",
       " (4,\n",
       "  '0.025*\"x\" + 0.023*\"c\" + 0.013*\"b\" + 0.012*\"std\" + 0.011*\"int\" + 0.010*\"use\" + 0.008*\"f\" + 0.008*\"foo\" + 0.007*\"list\" + 0.007*\"value\"')]"
      ]
     },
     "execution_count": 13,
     "metadata": {},
     "output_type": "execute_result"
    }
   ],
   "source": [
    "lda_model.print_topics() # notice many filer words "
   ]
  },
  {
   "cell_type": "markdown",
   "metadata": {},
   "source": [
    "## tfidf LDA model"
   ]
  },
  {
   "cell_type": "code",
   "execution_count": 14,
   "metadata": {},
   "outputs": [],
   "source": [
    "lda_model_tfidf = gensim.models.LdaMulticore(\n",
    "    corpus_tfidf, num_topics=5, id2word=dictionary, passes=2, workers=4)"
   ]
  },
  {
   "cell_type": "code",
   "execution_count": 15,
   "metadata": {
    "scrolled": true
   },
   "outputs": [
    {
     "data": {
      "text/plain": [
       "[(0,\n",
       "  '0.006*\"class\" + 0.006*\"x\" + 0.005*\"c\" + 0.005*\"int\" + 0.004*\"method\" + 0.004*\"value\" + 0.004*\"object\" + 0.004*\"function\" + 0.003*\"use\" + 0.003*\"type\"'),\n",
       " (1,\n",
       "  '0.005*\"string\" + 0.004*\"function\" + 0.004*\"file\" + 0.004*\"value\" + 0.004*\"script\" + 0.004*\"int\" + 0.003*\"page\" + 0.003*\"list\" + 0.003*\"array\" + 0.003*\"html\"'),\n",
       " (2,\n",
       "  '0.005*\"function\" + 0.004*\"c\" + 0.004*\"string\" + 0.003*\"use\" + 0.003*\"event\" + 0.003*\"b\" + 0.003*\"like\" + 0.003*\"object\" + 0.003*\"list\" + 0.003*\"div\"'),\n",
       " (3,\n",
       "  '0.005*\"file\" + 0.004*\"project\" + 0.004*\"application\" + 0.004*\"use\" + 0.004*\"test\" + 0.003*\"c\" + 0.003*\"run\" + 0.003*\"class\" + 0.003*\"get\" + 0.003*\"error\"'),\n",
       " (4,\n",
       "  '0.009*\"string\" + 0.007*\"list\" + 0.007*\"date\" + 0.006*\"foo\" + 0.005*\"class\" + 0.004*\"object\" + 0.004*\"value\" + 0.004*\"array\" + 0.004*\"public\" + 0.004*\"bar\"')]"
      ]
     },
     "execution_count": 15,
     "metadata": {},
     "output_type": "execute_result"
    }
   ],
   "source": [
    "lda_model_tfidf.print_topics()"
   ]
  },
  {
   "cell_type": "code",
   "execution_count": 17,
   "metadata": {},
   "outputs": [],
   "source": [
    "pred_bow = []\n",
    "for i in bow:\n",
    "    result = lda_model[i]\n",
    "    if len(result) > 1:\n",
    "        pred_bow.append(sorted(result, key=lambda x: x[1], reverse = True )[0][0])\n",
    "    else:\n",
    "        pred_bow.append(result[0][0])    "
   ]
  },
  {
   "cell_type": "code",
   "execution_count": 18,
   "metadata": {},
   "outputs": [],
   "source": [
    "pred_tdif = []\n",
    "for i in bow:\n",
    "    result = lda_model_tfidf[i]\n",
    "    if len(result) > 1:\n",
    "        pred_tdif.append(sorted(result, key=lambda x: x[1], reverse = True )[0][0])\n",
    "    else:\n",
    "        pred_tdif.append(result[0][0])\n",
    "        "
   ]
  },
  {
   "cell_type": "code",
   "execution_count": 22,
   "metadata": {
    "scrolled": true
   },
   "outputs": [],
   "source": [
    "result = pd.DataFrame([pred_bow,pred_tdif,label]).T"
   ]
  },
  {
   "cell_type": "code",
   "execution_count": 24,
   "metadata": {},
   "outputs": [],
   "source": [
    "result.columns = ['bow','tdif','true_label']"
   ]
  },
  {
   "cell_type": "code",
   "execution_count": 66,
   "metadata": {},
   "outputs": [
    {
     "data": {
      "text/html": [
       "<div>\n",
       "<style scoped>\n",
       "    .dataframe tbody tr th:only-of-type {\n",
       "        vertical-align: middle;\n",
       "    }\n",
       "\n",
       "    .dataframe tbody tr th {\n",
       "        vertical-align: top;\n",
       "    }\n",
       "\n",
       "    .dataframe thead th {\n",
       "        text-align: right;\n",
       "    }\n",
       "</style>\n",
       "<table border=\"1\" class=\"dataframe\">\n",
       "  <thead>\n",
       "    <tr style=\"text-align: right;\">\n",
       "      <th></th>\n",
       "      <th>bow</th>\n",
       "      <th>tdif</th>\n",
       "      <th>true_label</th>\n",
       "    </tr>\n",
       "  </thead>\n",
       "  <tbody>\n",
       "    <tr>\n",
       "      <th>0</th>\n",
       "      <td>2</td>\n",
       "      <td>2</td>\n",
       "      <td>javascript</td>\n",
       "    </tr>\n",
       "    <tr>\n",
       "      <th>1</th>\n",
       "      <td>4</td>\n",
       "      <td>0</td>\n",
       "      <td>c++</td>\n",
       "    </tr>\n",
       "    <tr>\n",
       "      <th>2</th>\n",
       "      <td>2</td>\n",
       "      <td>1</td>\n",
       "      <td>javascript</td>\n",
       "    </tr>\n",
       "    <tr>\n",
       "      <th>3</th>\n",
       "      <td>4</td>\n",
       "      <td>1</td>\n",
       "      <td>python</td>\n",
       "    </tr>\n",
       "    <tr>\n",
       "      <th>4</th>\n",
       "      <td>0</td>\n",
       "      <td>4</td>\n",
       "      <td>javascript</td>\n",
       "    </tr>\n",
       "    <tr>\n",
       "      <th>5</th>\n",
       "      <td>2</td>\n",
       "      <td>0</td>\n",
       "      <td>javascript</td>\n",
       "    </tr>\n",
       "    <tr>\n",
       "      <th>6</th>\n",
       "      <td>2</td>\n",
       "      <td>1</td>\n",
       "      <td>javascript</td>\n",
       "    </tr>\n",
       "    <tr>\n",
       "      <th>7</th>\n",
       "      <td>2</td>\n",
       "      <td>3</td>\n",
       "      <td>javascript</td>\n",
       "    </tr>\n",
       "    <tr>\n",
       "      <th>8</th>\n",
       "      <td>0</td>\n",
       "      <td>4</td>\n",
       "      <td>java</td>\n",
       "    </tr>\n",
       "    <tr>\n",
       "      <th>9</th>\n",
       "      <td>2</td>\n",
       "      <td>3</td>\n",
       "      <td>c++</td>\n",
       "    </tr>\n",
       "    <tr>\n",
       "      <th>10</th>\n",
       "      <td>2</td>\n",
       "      <td>2</td>\n",
       "      <td>javascript</td>\n",
       "    </tr>\n",
       "    <tr>\n",
       "      <th>11</th>\n",
       "      <td>2</td>\n",
       "      <td>0</td>\n",
       "      <td>javascript</td>\n",
       "    </tr>\n",
       "    <tr>\n",
       "      <th>12</th>\n",
       "      <td>0</td>\n",
       "      <td>4</td>\n",
       "      <td>c#</td>\n",
       "    </tr>\n",
       "    <tr>\n",
       "      <th>13</th>\n",
       "      <td>2</td>\n",
       "      <td>2</td>\n",
       "      <td>java</td>\n",
       "    </tr>\n",
       "    <tr>\n",
       "      <th>14</th>\n",
       "      <td>2</td>\n",
       "      <td>4</td>\n",
       "      <td>python</td>\n",
       "    </tr>\n",
       "    <tr>\n",
       "      <th>15</th>\n",
       "      <td>2</td>\n",
       "      <td>4</td>\n",
       "      <td>javascript</td>\n",
       "    </tr>\n",
       "    <tr>\n",
       "      <th>16</th>\n",
       "      <td>2</td>\n",
       "      <td>2</td>\n",
       "      <td>javascript</td>\n",
       "    </tr>\n",
       "    <tr>\n",
       "      <th>17</th>\n",
       "      <td>0</td>\n",
       "      <td>1</td>\n",
       "      <td>javascript</td>\n",
       "    </tr>\n",
       "    <tr>\n",
       "      <th>18</th>\n",
       "      <td>2</td>\n",
       "      <td>1</td>\n",
       "      <td>javascript</td>\n",
       "    </tr>\n",
       "    <tr>\n",
       "      <th>19</th>\n",
       "      <td>1</td>\n",
       "      <td>1</td>\n",
       "      <td>javascript</td>\n",
       "    </tr>\n",
       "    <tr>\n",
       "      <th>20</th>\n",
       "      <td>3</td>\n",
       "      <td>1</td>\n",
       "      <td>javascript</td>\n",
       "    </tr>\n",
       "    <tr>\n",
       "      <th>21</th>\n",
       "      <td>1</td>\n",
       "      <td>4</td>\n",
       "      <td>javascript</td>\n",
       "    </tr>\n",
       "    <tr>\n",
       "      <th>22</th>\n",
       "      <td>2</td>\n",
       "      <td>1</td>\n",
       "      <td>java</td>\n",
       "    </tr>\n",
       "    <tr>\n",
       "      <th>23</th>\n",
       "      <td>1</td>\n",
       "      <td>4</td>\n",
       "      <td>javascript</td>\n",
       "    </tr>\n",
       "    <tr>\n",
       "      <th>24</th>\n",
       "      <td>0</td>\n",
       "      <td>0</td>\n",
       "      <td>java</td>\n",
       "    </tr>\n",
       "    <tr>\n",
       "      <th>25</th>\n",
       "      <td>2</td>\n",
       "      <td>0</td>\n",
       "      <td>python</td>\n",
       "    </tr>\n",
       "    <tr>\n",
       "      <th>26</th>\n",
       "      <td>2</td>\n",
       "      <td>4</td>\n",
       "      <td>javascript</td>\n",
       "    </tr>\n",
       "    <tr>\n",
       "      <th>27</th>\n",
       "      <td>2</td>\n",
       "      <td>2</td>\n",
       "      <td>python</td>\n",
       "    </tr>\n",
       "    <tr>\n",
       "      <th>28</th>\n",
       "      <td>0</td>\n",
       "      <td>4</td>\n",
       "      <td>javascript</td>\n",
       "    </tr>\n",
       "    <tr>\n",
       "      <th>29</th>\n",
       "      <td>2</td>\n",
       "      <td>2</td>\n",
       "      <td>java</td>\n",
       "    </tr>\n",
       "    <tr>\n",
       "      <th>...</th>\n",
       "      <td>...</td>\n",
       "      <td>...</td>\n",
       "      <td>...</td>\n",
       "    </tr>\n",
       "    <tr>\n",
       "      <th>30272</th>\n",
       "      <td>2</td>\n",
       "      <td>1</td>\n",
       "      <td>javascript</td>\n",
       "    </tr>\n",
       "    <tr>\n",
       "      <th>30273</th>\n",
       "      <td>3</td>\n",
       "      <td>3</td>\n",
       "      <td>java</td>\n",
       "    </tr>\n",
       "    <tr>\n",
       "      <th>30274</th>\n",
       "      <td>1</td>\n",
       "      <td>1</td>\n",
       "      <td>javascript</td>\n",
       "    </tr>\n",
       "    <tr>\n",
       "      <th>30275</th>\n",
       "      <td>2</td>\n",
       "      <td>2</td>\n",
       "      <td>javascript</td>\n",
       "    </tr>\n",
       "    <tr>\n",
       "      <th>30276</th>\n",
       "      <td>2</td>\n",
       "      <td>3</td>\n",
       "      <td>c#</td>\n",
       "    </tr>\n",
       "    <tr>\n",
       "      <th>30277</th>\n",
       "      <td>2</td>\n",
       "      <td>4</td>\n",
       "      <td>c#</td>\n",
       "    </tr>\n",
       "    <tr>\n",
       "      <th>30278</th>\n",
       "      <td>1</td>\n",
       "      <td>3</td>\n",
       "      <td>c#</td>\n",
       "    </tr>\n",
       "    <tr>\n",
       "      <th>30279</th>\n",
       "      <td>4</td>\n",
       "      <td>2</td>\n",
       "      <td>c++</td>\n",
       "    </tr>\n",
       "    <tr>\n",
       "      <th>30280</th>\n",
       "      <td>0</td>\n",
       "      <td>4</td>\n",
       "      <td>java</td>\n",
       "    </tr>\n",
       "    <tr>\n",
       "      <th>30281</th>\n",
       "      <td>2</td>\n",
       "      <td>3</td>\n",
       "      <td>java</td>\n",
       "    </tr>\n",
       "    <tr>\n",
       "      <th>30282</th>\n",
       "      <td>2</td>\n",
       "      <td>0</td>\n",
       "      <td>java</td>\n",
       "    </tr>\n",
       "    <tr>\n",
       "      <th>30283</th>\n",
       "      <td>3</td>\n",
       "      <td>3</td>\n",
       "      <td>javascript</td>\n",
       "    </tr>\n",
       "    <tr>\n",
       "      <th>30284</th>\n",
       "      <td>3</td>\n",
       "      <td>3</td>\n",
       "      <td>c#</td>\n",
       "    </tr>\n",
       "    <tr>\n",
       "      <th>30285</th>\n",
       "      <td>2</td>\n",
       "      <td>3</td>\n",
       "      <td>java</td>\n",
       "    </tr>\n",
       "    <tr>\n",
       "      <th>30286</th>\n",
       "      <td>2</td>\n",
       "      <td>0</td>\n",
       "      <td>c#</td>\n",
       "    </tr>\n",
       "    <tr>\n",
       "      <th>30287</th>\n",
       "      <td>2</td>\n",
       "      <td>4</td>\n",
       "      <td>c++</td>\n",
       "    </tr>\n",
       "    <tr>\n",
       "      <th>30288</th>\n",
       "      <td>2</td>\n",
       "      <td>0</td>\n",
       "      <td>c#</td>\n",
       "    </tr>\n",
       "    <tr>\n",
       "      <th>30289</th>\n",
       "      <td>4</td>\n",
       "      <td>0</td>\n",
       "      <td>c++</td>\n",
       "    </tr>\n",
       "    <tr>\n",
       "      <th>30290</th>\n",
       "      <td>2</td>\n",
       "      <td>4</td>\n",
       "      <td>c#</td>\n",
       "    </tr>\n",
       "    <tr>\n",
       "      <th>30291</th>\n",
       "      <td>3</td>\n",
       "      <td>3</td>\n",
       "      <td>c#</td>\n",
       "    </tr>\n",
       "    <tr>\n",
       "      <th>30292</th>\n",
       "      <td>2</td>\n",
       "      <td>3</td>\n",
       "      <td>c#</td>\n",
       "    </tr>\n",
       "    <tr>\n",
       "      <th>30293</th>\n",
       "      <td>2</td>\n",
       "      <td>4</td>\n",
       "      <td>python</td>\n",
       "    </tr>\n",
       "    <tr>\n",
       "      <th>30294</th>\n",
       "      <td>1</td>\n",
       "      <td>4</td>\n",
       "      <td>javascript</td>\n",
       "    </tr>\n",
       "    <tr>\n",
       "      <th>30295</th>\n",
       "      <td>3</td>\n",
       "      <td>3</td>\n",
       "      <td>java</td>\n",
       "    </tr>\n",
       "    <tr>\n",
       "      <th>30296</th>\n",
       "      <td>3</td>\n",
       "      <td>3</td>\n",
       "      <td>java</td>\n",
       "    </tr>\n",
       "    <tr>\n",
       "      <th>30297</th>\n",
       "      <td>0</td>\n",
       "      <td>4</td>\n",
       "      <td>c#</td>\n",
       "    </tr>\n",
       "    <tr>\n",
       "      <th>30298</th>\n",
       "      <td>2</td>\n",
       "      <td>1</td>\n",
       "      <td>java</td>\n",
       "    </tr>\n",
       "    <tr>\n",
       "      <th>30299</th>\n",
       "      <td>1</td>\n",
       "      <td>1</td>\n",
       "      <td>python</td>\n",
       "    </tr>\n",
       "    <tr>\n",
       "      <th>30300</th>\n",
       "      <td>2</td>\n",
       "      <td>3</td>\n",
       "      <td>java</td>\n",
       "    </tr>\n",
       "    <tr>\n",
       "      <th>30301</th>\n",
       "      <td>1</td>\n",
       "      <td>4</td>\n",
       "      <td>javascript</td>\n",
       "    </tr>\n",
       "  </tbody>\n",
       "</table>\n",
       "<p>30302 rows × 3 columns</p>\n",
       "</div>"
      ],
      "text/plain": [
       "      bow tdif  true_label\n",
       "0       2    2  javascript\n",
       "1       4    0         c++\n",
       "2       2    1  javascript\n",
       "3       4    1      python\n",
       "4       0    4  javascript\n",
       "...    ..  ...         ...\n",
       "30297   0    4          c#\n",
       "30298   2    1        java\n",
       "30299   1    1      python\n",
       "30300   2    3        java\n",
       "30301   1    4  javascript\n",
       "\n",
       "[30302 rows x 3 columns]"
      ]
     },
     "execution_count": 66,
     "metadata": {},
     "output_type": "execute_result"
    }
   ],
   "source": [
    "result"
   ]
  },
  {
   "cell_type": "code",
   "execution_count": 59,
   "metadata": {},
   "outputs": [
    {
     "data": {
      "text/plain": [
       "<bound method Series.unique of 0        javascript\n",
       "1               c++\n",
       "2        javascript\n",
       "3            python\n",
       "4        javascript\n",
       "            ...    \n",
       "30297            c#\n",
       "30298          java\n",
       "30299        python\n",
       "30300          java\n",
       "30301    javascript\n",
       "Name: true_label, Length: 30302, dtype: object>"
      ]
     },
     "execution_count": 59,
     "metadata": {},
     "output_type": "execute_result"
    }
   ],
   "source": [
    "result.true_label.unique"
   ]
  },
  {
   "cell_type": "code",
   "execution_count": 60,
   "metadata": {},
   "outputs": [],
   "source": [
    "mask1 = result.true_label =='c++'\n",
    "mask2 = result.true_label == 'javascript'\n",
    "mask3 = result.true_label =='c#'\n",
    "mask4= result.true_label == 'python'\n",
    "mask5 = result.true_label =='java'"
   ]
  },
  {
   "cell_type": "code",
   "execution_count": 61,
   "metadata": {},
   "outputs": [
    {
     "data": {
      "text/plain": [
       "2    0.453443\n",
       "4    0.429972\n",
       "0    0.053908\n",
       "3    0.052876\n",
       "1    0.009801\n",
       "Name: bow, dtype: float64"
      ]
     },
     "execution_count": 61,
     "metadata": {},
     "output_type": "execute_result"
    }
   ],
   "source": [
    "result[mask1]['bow'].value_counts(normalize = True)"
   ]
  },
  {
   "cell_type": "code",
   "execution_count": 62,
   "metadata": {},
   "outputs": [
    {
     "data": {
      "text/plain": [
       "2    0.536578\n",
       "1    0.264833\n",
       "3    0.096198\n",
       "0    0.061348\n",
       "4    0.041043\n",
       "Name: bow, dtype: float64"
      ]
     },
     "execution_count": 62,
     "metadata": {},
     "output_type": "execute_result"
    }
   ],
   "source": [
    "result[mask2]['bow'].value_counts(normalize = True)"
   ]
  },
  {
   "cell_type": "code",
   "execution_count": 63,
   "metadata": {},
   "outputs": [
    {
     "data": {
      "text/plain": [
       "0    0.355425\n",
       "2    0.312482\n",
       "3    0.161752\n",
       "1    0.116662\n",
       "4    0.053679\n",
       "Name: bow, dtype: float64"
      ]
     },
     "execution_count": 63,
     "metadata": {},
     "output_type": "execute_result"
    }
   ],
   "source": [
    "result[mask3]['bow'].value_counts(normalize = True)"
   ]
  },
  {
   "cell_type": "code",
   "execution_count": 64,
   "metadata": {},
   "outputs": [
    {
     "data": {
      "text/plain": [
       "2    0.307065\n",
       "4    0.284975\n",
       "3    0.238607\n",
       "1    0.087960\n",
       "0    0.081393\n",
       "Name: bow, dtype: float64"
      ]
     },
     "execution_count": 64,
     "metadata": {},
     "output_type": "execute_result"
    }
   ],
   "source": [
    "result[mask4]['bow'].value_counts(normalize = True)"
   ]
  },
  {
   "cell_type": "code",
   "execution_count": 65,
   "metadata": {},
   "outputs": [
    {
     "data": {
      "text/plain": [
       "2    0.332262\n",
       "0    0.280321\n",
       "3    0.260107\n",
       "1    0.082597\n",
       "4    0.044712\n",
       "Name: bow, dtype: float64"
      ]
     },
     "execution_count": 65,
     "metadata": {},
     "output_type": "execute_result"
    }
   ],
   "source": [
    "result[mask5]['bow'].value_counts(normalize = True)"
   ]
  }
 ],
 "metadata": {
  "kernelspec": {
   "display_name": "Python 3",
   "language": "python",
   "name": "python3"
  },
  "language_info": {
   "codemirror_mode": {
    "name": "ipython",
    "version": 3
   },
   "file_extension": ".py",
   "mimetype": "text/x-python",
   "name": "python",
   "nbconvert_exporter": "python",
   "pygments_lexer": "ipython3",
   "version": "3.7.1"
  }
 },
 "nbformat": 4,
 "nbformat_minor": 2
}
