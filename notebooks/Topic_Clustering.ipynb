{
 "cells": [
  {
   "cell_type": "code",
   "execution_count": 1,
   "metadata": {},
   "outputs": [],
   "source": [
    "import matplotlib.pyplot as plt\n",
    "import pandas as pd\n",
    "import gensim\n",
    "import numpy as np\n",
    "import warnings\n",
    "from gensim import corpora, models\n",
    "from sklearn.metrics import confusion_matrix, accuracy_score\n",
    "warnings.filterwarnings('ignore')\n",
    "import re\n",
    "%matplotlib inline"
   ]
  },
  {
   "cell_type": "code",
   "execution_count": 2,
   "metadata": {},
   "outputs": [],
   "source": [
    "posts_df = pd.read_pickle('../data/interum/text_target.pkl')"
   ]
  },
  {
   "cell_type": "code",
   "execution_count": 3,
   "metadata": {},
   "outputs": [],
   "source": [
    "# convert into features and target \n",
    "feature = posts_df['tokens']\n",
    "label = posts_df['target']  # label "
   ]
  },
  {
   "cell_type": "code",
   "execution_count": 4,
   "metadata": {},
   "outputs": [],
   "source": [
    "# more words to remove and remove words longer than length 2\n",
    "# words = ['class', 'file', 'use', 'code',\n",
    "#          'string', 'function', 'new', 'like', \n",
    "#          'way', 'would', 'name', 'get', 'list',\n",
    "#          'want', 'value','return','data']\n",
    "feature = feature.apply(\n",
    "    lambda x: [w for w in x if len(w) > 2])"
   ]
  },
  {
   "cell_type": "markdown",
   "metadata": {},
   "source": [
    "## feature engineering for clustering"
   ]
  },
  {
   "cell_type": "code",
   "execution_count": 42,
   "metadata": {
    "scrolled": true
   },
   "outputs": [
    {
     "data": {
      "text/plain": [
       "66674"
      ]
     },
     "execution_count": 42,
     "metadata": {},
     "output_type": "execute_result"
    }
   ],
   "source": [
    "# dictionary for train \n",
    "dictionary = gensim.corpora.Dictionary(feature)\n",
    "len(dictionary)"
   ]
  },
  {
   "cell_type": "code",
   "execution_count": 43,
   "metadata": {},
   "outputs": [
    {
     "data": {
      "text/plain": [
       "50000"
      ]
     },
     "execution_count": 43,
     "metadata": {},
     "output_type": "execute_result"
    }
   ],
   "source": [
    "dictionary.filter_extremes(no_below =1, no_above=0.05, keep_n=50000)\n",
    "len(dictionary)"
   ]
  },
  {
   "cell_type": "code",
   "execution_count": 44,
   "metadata": {},
   "outputs": [],
   "source": [
    "# create bag of words \n",
    "bow = [dictionary.doc2bow(doc) for doc in feature]\n"
   ]
  },
  {
   "cell_type": "code",
   "execution_count": 45,
   "metadata": {},
   "outputs": [],
   "source": [
    "# tfidf for bow \n",
    "tfidf = models.TfidfModel(bow)\n"
   ]
  },
  {
   "cell_type": "code",
   "execution_count": 46,
   "metadata": {},
   "outputs": [],
   "source": [
    "corpus_tfidf = tfidf[bow]"
   ]
  },
  {
   "cell_type": "code",
   "execution_count": 47,
   "metadata": {},
   "outputs": [],
   "source": [
    "# generate a model for bag of words \n",
    "# we know we have 5 tops \n",
    "lda_model = gensim.models.LdaMulticore(\n",
    "    bow, num_topics=5, id2word=dictionary, passes=2, workers=4,random_state=42)"
   ]
  },
  {
   "cell_type": "code",
   "execution_count": 62,
   "metadata": {
    "scrolled": false
   },
   "outputs": [
    {
     "data": {
      "text/plain": [
       "[(0,\n",
       "  '0.005*\"byte\" + 0.005*\"long\" + 0.004*\"thread\" + 0.004*\"char\" + 0.004*\"size\" + 0.004*\"path\" + 0.003*\"event\" + 0.003*\"script\" + 0.003*\"click\" + 0.003*\"length\"'),\n",
       " (1,\n",
       "  '0.009*\"android\" + 0.009*\"script\" + 0.008*\"item\" + 0.007*\"model\" + 0.007*\"date\" + 0.006*\"div\" + 0.005*\"field\" + 0.004*\"url\" + 0.004*\"app\" + 0.004*\"content\"'),\n",
       " (2,\n",
       "  '0.013*\"std\" + 0.006*\"foo\" + 0.005*\"event\" + 0.004*\"option\" + 0.004*\"template\" + 0.004*\"vector\" + 0.003*\"message\" + 0.003*\"select\" + 0.003*\"scope\" + 0.003*\"const\"'),\n",
       " (3,\n",
       "  '0.010*\"org\" + 0.007*\"key\" + 0.007*\"foo\" + 0.007*\"import\" + 0.007*\"self\" + 0.007*\"lib\" + 0.006*\"print\" + 0.006*\"log\" + 0.005*\"xml\" + 0.004*\"apache\"'),\n",
       " (4,\n",
       "  '0.005*\"log\" + 0.005*\"source\" + 0.004*\"module\" + 0.004*\"framework\" + 0.004*\"org\" + 0.004*\"json\" + 0.004*\"app\" + 0.004*\"eclipse\" + 0.004*\"private\" + 0.004*\"load\"')]"
      ]
     },
     "execution_count": 62,
     "metadata": {},
     "output_type": "execute_result"
    }
   ],
   "source": [
    "lda_model.print_topics() # notice many filer words "
   ]
  },
  {
   "cell_type": "code",
   "execution_count": 63,
   "metadata": {},
   "outputs": [],
   "source": [
    "topics_lda=lda_model.print_topics()"
   ]
  },
  {
   "cell_type": "code",
   "execution_count": 64,
   "metadata": {},
   "outputs": [],
   "source": [
    "topics_lda_dict = {}\n",
    "for topic in topics_lda:\n",
    "    topics_lda_dict[topic[0]] = re.findall('[a-z]+',topic[1])"
   ]
  },
  {
   "cell_type": "code",
   "execution_count": 65,
   "metadata": {},
   "outputs": [],
   "source": [
    "lda_df = pd.DataFrame(topics_lda_dict)\n",
    "lda_df.columns = ['topic_0', 'topic_1', 'topic_2', 'topic_3', 'topic_4']"
   ]
  },
  {
   "cell_type": "code",
   "execution_count": 66,
   "metadata": {},
   "outputs": [
    {
     "data": {
      "text/html": [
       "<div>\n",
       "<style scoped>\n",
       "    .dataframe tbody tr th:only-of-type {\n",
       "        vertical-align: middle;\n",
       "    }\n",
       "\n",
       "    .dataframe tbody tr th {\n",
       "        vertical-align: top;\n",
       "    }\n",
       "\n",
       "    .dataframe thead th {\n",
       "        text-align: right;\n",
       "    }\n",
       "</style>\n",
       "<table border=\"1\" class=\"dataframe\">\n",
       "  <thead>\n",
       "    <tr style=\"text-align: right;\">\n",
       "      <th></th>\n",
       "      <th>topic_0</th>\n",
       "      <th>topic_1</th>\n",
       "      <th>topic_2</th>\n",
       "      <th>topic_3</th>\n",
       "      <th>topic_4</th>\n",
       "    </tr>\n",
       "  </thead>\n",
       "  <tbody>\n",
       "    <tr>\n",
       "      <th>0</th>\n",
       "      <td>byte</td>\n",
       "      <td>android</td>\n",
       "      <td>std</td>\n",
       "      <td>org</td>\n",
       "      <td>log</td>\n",
       "    </tr>\n",
       "    <tr>\n",
       "      <th>1</th>\n",
       "      <td>long</td>\n",
       "      <td>script</td>\n",
       "      <td>foo</td>\n",
       "      <td>key</td>\n",
       "      <td>source</td>\n",
       "    </tr>\n",
       "    <tr>\n",
       "      <th>2</th>\n",
       "      <td>thread</td>\n",
       "      <td>item</td>\n",
       "      <td>event</td>\n",
       "      <td>foo</td>\n",
       "      <td>module</td>\n",
       "    </tr>\n",
       "    <tr>\n",
       "      <th>3</th>\n",
       "      <td>char</td>\n",
       "      <td>model</td>\n",
       "      <td>option</td>\n",
       "      <td>import</td>\n",
       "      <td>framework</td>\n",
       "    </tr>\n",
       "    <tr>\n",
       "      <th>4</th>\n",
       "      <td>size</td>\n",
       "      <td>date</td>\n",
       "      <td>template</td>\n",
       "      <td>self</td>\n",
       "      <td>org</td>\n",
       "    </tr>\n",
       "    <tr>\n",
       "      <th>5</th>\n",
       "      <td>path</td>\n",
       "      <td>div</td>\n",
       "      <td>vector</td>\n",
       "      <td>lib</td>\n",
       "      <td>json</td>\n",
       "    </tr>\n",
       "    <tr>\n",
       "      <th>6</th>\n",
       "      <td>event</td>\n",
       "      <td>field</td>\n",
       "      <td>message</td>\n",
       "      <td>print</td>\n",
       "      <td>app</td>\n",
       "    </tr>\n",
       "    <tr>\n",
       "      <th>7</th>\n",
       "      <td>script</td>\n",
       "      <td>url</td>\n",
       "      <td>select</td>\n",
       "      <td>log</td>\n",
       "      <td>eclipse</td>\n",
       "    </tr>\n",
       "    <tr>\n",
       "      <th>8</th>\n",
       "      <td>click</td>\n",
       "      <td>app</td>\n",
       "      <td>scope</td>\n",
       "      <td>xml</td>\n",
       "      <td>private</td>\n",
       "    </tr>\n",
       "    <tr>\n",
       "      <th>9</th>\n",
       "      <td>length</td>\n",
       "      <td>content</td>\n",
       "      <td>const</td>\n",
       "      <td>apache</td>\n",
       "      <td>load</td>\n",
       "    </tr>\n",
       "  </tbody>\n",
       "</table>\n",
       "</div>"
      ],
      "text/plain": [
       "  topic_0  topic_1   topic_2 topic_3    topic_4\n",
       "0    byte  android       std     org        log\n",
       "1    long   script       foo     key     source\n",
       "2  thread     item     event     foo     module\n",
       "3    char    model    option  import  framework\n",
       "4    size     date  template    self        org\n",
       "5    path      div    vector     lib       json\n",
       "6   event    field   message   print        app\n",
       "7  script      url    select     log    eclipse\n",
       "8   click      app     scope     xml    private\n",
       "9  length  content     const  apache       load"
      ]
     },
     "execution_count": 66,
     "metadata": {},
     "output_type": "execute_result"
    }
   ],
   "source": [
    "lda_df"
   ]
  },
  {
   "cell_type": "markdown",
   "metadata": {},
   "source": [
    "## tfidf LDA model"
   ]
  },
  {
   "cell_type": "code",
   "execution_count": 67,
   "metadata": {},
   "outputs": [],
   "source": [
    "lda_model_tfidf = gensim.models.LdaMulticore(\n",
    "    corpus_tfidf, num_topics=5, id2word=dictionary, passes=2, workers=4,random_state=42)"
   ]
  },
  {
   "cell_type": "code",
   "execution_count": 53,
   "metadata": {
    "scrolled": false
   },
   "outputs": [
    {
     "data": {
      "text/plain": [
       "[(0,\n",
       "  '0.002*\"byte\" + 0.002*\"script\" + 0.002*\"event\" + 0.002*\"long\" + 0.002*\"thread\" + 0.002*\"image\" + 0.002*\"div\" + 0.001*\"language\" + 0.001*\"maven\" + 0.001*\"convert\"'),\n",
       " (1,\n",
       "  '0.004*\"date\" + 0.003*\"item\" + 0.002*\"script\" + 0.002*\"form\" + 0.002*\"model\" + 0.002*\"button\" + 0.002*\"click\" + 0.002*\"div\" + 0.002*\"field\" + 0.002*\"url\"'),\n",
       " (2,\n",
       "  '0.005*\"std\" + 0.003*\"foo\" + 0.003*\"vector\" + 0.002*\"template\" + 0.002*\"date\" + 0.002*\"convert\" + 0.002*\"datetime\" + 0.002*\"character\" + 0.002*\"event\" + 0.002*\"cout\"'),\n",
       " (3,\n",
       "  '0.004*\"foo\" + 0.003*\"print\" + 0.003*\"key\" + 0.003*\"bar\" + 0.003*\"log\" + 0.002*\"import\" + 0.002*\"hello\" + 0.002*\"self\" + 0.002*\"xml\" + 0.002*\"dictionary\"'),\n",
       " (4,\n",
       "  '0.002*\"thread\" + 0.002*\"json\" + 0.002*\"private\" + 0.002*\"log\" + 0.001*\"constructor\" + 0.001*\"console\" + 0.001*\"arraylist\" + 0.001*\"database\" + 0.001*\"app\" + 0.001*\"load\"')]"
      ]
     },
     "execution_count": 53,
     "metadata": {},
     "output_type": "execute_result"
    }
   ],
   "source": [
    "lda_model_tfidf.print_topics()"
   ]
  },
  {
   "cell_type": "code",
   "execution_count": 68,
   "metadata": {},
   "outputs": [],
   "source": [
    "topics_tfidf=lda_model_tfidf.print_topics()"
   ]
  },
  {
   "cell_type": "code",
   "execution_count": 69,
   "metadata": {},
   "outputs": [],
   "source": [
    "topics_tfidf_dict = {}\n",
    "for topic in topics_tfidf:\n",
    "    topics_tfidf_dict[topic[0]] = re.findall('[a-z]+',topic[1])"
   ]
  },
  {
   "cell_type": "code",
   "execution_count": 70,
   "metadata": {},
   "outputs": [],
   "source": [
    "tfidf_df = pd.DataFrame(topics_tfidf_dict)\n",
    "tfidf_df.columns = ['topic_0', 'topic_1', 'topic_2', 'topic_3', 'topic_4']"
   ]
  },
  {
   "cell_type": "code",
   "execution_count": 71,
   "metadata": {},
   "outputs": [
    {
     "data": {
      "text/html": [
       "<div>\n",
       "<style scoped>\n",
       "    .dataframe tbody tr th:only-of-type {\n",
       "        vertical-align: middle;\n",
       "    }\n",
       "\n",
       "    .dataframe tbody tr th {\n",
       "        vertical-align: top;\n",
       "    }\n",
       "\n",
       "    .dataframe thead th {\n",
       "        text-align: right;\n",
       "    }\n",
       "</style>\n",
       "<table border=\"1\" class=\"dataframe\">\n",
       "  <thead>\n",
       "    <tr style=\"text-align: right;\">\n",
       "      <th></th>\n",
       "      <th>topic_0</th>\n",
       "      <th>topic_1</th>\n",
       "      <th>topic_2</th>\n",
       "      <th>topic_3</th>\n",
       "      <th>topic_4</th>\n",
       "    </tr>\n",
       "  </thead>\n",
       "  <tbody>\n",
       "    <tr>\n",
       "      <th>0</th>\n",
       "      <td>byte</td>\n",
       "      <td>date</td>\n",
       "      <td>std</td>\n",
       "      <td>foo</td>\n",
       "      <td>thread</td>\n",
       "    </tr>\n",
       "    <tr>\n",
       "      <th>1</th>\n",
       "      <td>script</td>\n",
       "      <td>item</td>\n",
       "      <td>foo</td>\n",
       "      <td>key</td>\n",
       "      <td>json</td>\n",
       "    </tr>\n",
       "    <tr>\n",
       "      <th>2</th>\n",
       "      <td>event</td>\n",
       "      <td>android</td>\n",
       "      <td>vector</td>\n",
       "      <td>print</td>\n",
       "      <td>arraylist</td>\n",
       "    </tr>\n",
       "    <tr>\n",
       "      <th>3</th>\n",
       "      <td>image</td>\n",
       "      <td>script</td>\n",
       "      <td>date</td>\n",
       "      <td>log</td>\n",
       "      <td>log</td>\n",
       "    </tr>\n",
       "    <tr>\n",
       "      <th>4</th>\n",
       "      <td>long</td>\n",
       "      <td>click</td>\n",
       "      <td>template</td>\n",
       "      <td>bar</td>\n",
       "      <td>div</td>\n",
       "    </tr>\n",
       "    <tr>\n",
       "      <th>5</th>\n",
       "      <td>thread</td>\n",
       "      <td>button</td>\n",
       "      <td>convert</td>\n",
       "      <td>import</td>\n",
       "      <td>private</td>\n",
       "    </tr>\n",
       "    <tr>\n",
       "      <th>6</th>\n",
       "      <td>maven</td>\n",
       "      <td>form</td>\n",
       "      <td>datetime</td>\n",
       "      <td>hello</td>\n",
       "      <td>constructor</td>\n",
       "    </tr>\n",
       "    <tr>\n",
       "      <th>7</th>\n",
       "      <td>bit</td>\n",
       "      <td>model</td>\n",
       "      <td>character</td>\n",
       "      <td>self</td>\n",
       "      <td>database</td>\n",
       "    </tr>\n",
       "    <tr>\n",
       "      <th>8</th>\n",
       "      <td>language</td>\n",
       "      <td>div</td>\n",
       "      <td>const</td>\n",
       "      <td>console</td>\n",
       "      <td>load</td>\n",
       "    </tr>\n",
       "    <tr>\n",
       "      <th>9</th>\n",
       "      <td>div</td>\n",
       "      <td>field</td>\n",
       "      <td>cout</td>\n",
       "      <td>xml</td>\n",
       "      <td>console</td>\n",
       "    </tr>\n",
       "  </tbody>\n",
       "</table>\n",
       "</div>"
      ],
      "text/plain": [
       "    topic_0  topic_1    topic_2  topic_3      topic_4\n",
       "0      byte     date        std      foo       thread\n",
       "1    script     item        foo      key         json\n",
       "2     event  android     vector    print    arraylist\n",
       "3     image   script       date      log          log\n",
       "4      long    click   template      bar          div\n",
       "5    thread   button    convert   import      private\n",
       "6     maven     form   datetime    hello  constructor\n",
       "7       bit    model  character     self     database\n",
       "8  language      div      const  console         load\n",
       "9       div    field       cout      xml      console"
      ]
     },
     "execution_count": 71,
     "metadata": {},
     "output_type": "execute_result"
    }
   ],
   "source": [
    "tfidf_df"
   ]
  },
  {
   "cell_type": "code",
   "execution_count": 72,
   "metadata": {},
   "outputs": [],
   "source": [
    "pred_bow = []\n",
    "for i in bow:\n",
    "    result = lda_model[i]\n",
    "    if len(result) > 1:\n",
    "        pred_bow.append(sorted(result, key=lambda x: x[1], reverse = True )[0][0])\n",
    "    else:\n",
    "        pred_bow.append(result[0][0])    "
   ]
  },
  {
   "cell_type": "code",
   "execution_count": 73,
   "metadata": {},
   "outputs": [],
   "source": [
    "pred_tdif = []\n",
    "for i in bow:\n",
    "    result = lda_model_tfidf[i]\n",
    "    if len(result) > 1:\n",
    "        pred_tdif.append(sorted(result, key=lambda x: x[1], reverse = True )[0][0])\n",
    "    else:\n",
    "        pred_tdif.append(result[0][0])\n",
    "        "
   ]
  },
  {
   "cell_type": "code",
   "execution_count": 74,
   "metadata": {
    "scrolled": true
   },
   "outputs": [],
   "source": [
    "result = pd.DataFrame([pred_bow,pred_tdif,label]).T"
   ]
  },
  {
   "cell_type": "code",
   "execution_count": 75,
   "metadata": {},
   "outputs": [],
   "source": [
    "result.columns = ['bow','tdif','true_label']"
   ]
  },
  {
   "cell_type": "code",
   "execution_count": 90,
   "metadata": {},
   "outputs": [
    {
     "data": {
      "text/plain": [
       "<bound method Series.unique of 0        javascript\n",
       "1               c++\n",
       "2        javascript\n",
       "3            python\n",
       "4        javascript\n",
       "            ...    \n",
       "30297            c#\n",
       "30298          java\n",
       "30299        python\n",
       "30300          java\n",
       "30301    javascript\n",
       "Name: true_label, Length: 30302, dtype: object>"
      ]
     },
     "execution_count": 90,
     "metadata": {},
     "output_type": "execute_result"
    }
   ],
   "source": [
    "result.true_label.unique"
   ]
  },
  {
   "cell_type": "code",
   "execution_count": 91,
   "metadata": {},
   "outputs": [],
   "source": [
    "mask1 = result.true_label =='c++'\n",
    "mask2 = result.true_label == 'javascript'\n",
    "mask3 = result.true_label =='c#'\n",
    "mask4= result.true_label == 'python'\n",
    "mask5 = result.true_label =='java'"
   ]
  },
  {
   "cell_type": "markdown",
   "metadata": {},
   "source": [
    "## bow:\n",
    "\n",
    "### best guesses with labels\n",
    "\n",
    "* c++: topic 2\n",
    "* javascript: topic 1\n",
    "* c#: topic 4\n",
    "* python:topic 0\n",
    "* java: topic 3"
   ]
  },
  {
   "cell_type": "code",
   "execution_count": 92,
   "metadata": {},
   "outputs": [
    {
     "data": {
      "text/plain": [
       "2    0.379159\n",
       "4    0.342017\n",
       "3    0.209182\n",
       "0    0.061388\n",
       "1    0.008254\n",
       "Name: bow, dtype: float64"
      ]
     },
     "execution_count": 92,
     "metadata": {},
     "output_type": "execute_result"
    }
   ],
   "source": [
    "result[mask1]['bow'].value_counts(normalize = True)"
   ]
  },
  {
   "cell_type": "code",
   "execution_count": 93,
   "metadata": {},
   "outputs": [
    {
     "data": {
      "text/plain": [
       "1    0.372552\n",
       "3    0.214574\n",
       "0    0.187212\n",
       "4    0.129896\n",
       "2    0.095766\n",
       "Name: bow, dtype: float64"
      ]
     },
     "execution_count": 93,
     "metadata": {},
     "output_type": "execute_result"
    }
   ],
   "source": [
    "result[mask2]['bow'].value_counts(normalize = True)"
   ]
  },
  {
   "cell_type": "code",
   "execution_count": 94,
   "metadata": {},
   "outputs": [
    {
     "data": {
      "text/plain": [
       "4    0.371887\n",
       "3    0.237332\n",
       "2    0.152591\n",
       "1    0.121386\n",
       "0    0.116805\n",
       "Name: bow, dtype: float64"
      ]
     },
     "execution_count": 94,
     "metadata": {},
     "output_type": "execute_result"
    }
   ],
   "source": [
    "result[mask3]['bow'].value_counts(normalize = True)"
   ]
  },
  {
   "cell_type": "code",
   "execution_count": 95,
   "metadata": {},
   "outputs": [
    {
     "data": {
      "text/plain": [
       "4    0.306468\n",
       "0    0.244179\n",
       "3    0.240995\n",
       "2    0.128756\n",
       "1    0.079602\n",
       "Name: bow, dtype: float64"
      ]
     },
     "execution_count": 95,
     "metadata": {},
     "output_type": "execute_result"
    }
   ],
   "source": [
    "result[mask4]['bow'].value_counts(normalize = True)"
   ]
  },
  {
   "cell_type": "code",
   "execution_count": 96,
   "metadata": {
    "scrolled": true
   },
   "outputs": [
    {
     "data": {
      "text/plain": [
       "4    0.336412\n",
       "3    0.223159\n",
       "0    0.185944\n",
       "1    0.147256\n",
       "2    0.107229\n",
       "Name: bow, dtype: float64"
      ]
     },
     "execution_count": 96,
     "metadata": {},
     "output_type": "execute_result"
    }
   ],
   "source": [
    "result[mask5]['bow'].value_counts(normalize = True)"
   ]
  },
  {
   "cell_type": "markdown",
   "metadata": {},
   "source": [
    "## tdif:\n",
    "\n",
    "### best guesses with labels\n",
    "\n",
    "* c++: topic 4\n",
    "* javascript: topic 3\n",
    "* c#: topic 1\n",
    "* python:topic 2\n",
    "* java: topic 0"
   ]
  },
  {
   "cell_type": "code",
   "execution_count": 97,
   "metadata": {},
   "outputs": [
    {
     "data": {
      "text/plain": [
       "4    0.862265\n",
       "3    0.072995\n",
       "0    0.046170\n",
       "2    0.015476\n",
       "1    0.003095\n",
       "Name: tdif, dtype: float64"
      ]
     },
     "execution_count": 97,
     "metadata": {},
     "output_type": "execute_result"
    }
   ],
   "source": [
    "result[mask1]['tdif'].value_counts(normalize = True)"
   ]
  },
  {
   "cell_type": "code",
   "execution_count": 98,
   "metadata": {},
   "outputs": [
    {
     "data": {
      "text/plain": [
       "3    0.404234\n",
       "4    0.365207\n",
       "0    0.129176\n",
       "1    0.093750\n",
       "2    0.007632\n",
       "Name: tdif, dtype: float64"
      ]
     },
     "execution_count": 98,
     "metadata": {},
     "output_type": "execute_result"
    }
   ],
   "source": [
    "result[mask2]['tdif'].value_counts(normalize = True)"
   ]
  },
  {
   "cell_type": "code",
   "execution_count": 99,
   "metadata": {},
   "outputs": [
    {
     "data": {
      "text/plain": [
       "4    0.572574\n",
       "3    0.275265\n",
       "0    0.109218\n",
       "1    0.027627\n",
       "2    0.015316\n",
       "Name: tdif, dtype: float64"
      ]
     },
     "execution_count": 99,
     "metadata": {},
     "output_type": "execute_result"
    }
   ],
   "source": [
    "result[mask3]['tdif'].value_counts(normalize = True)"
   ]
  },
  {
   "cell_type": "code",
   "execution_count": 100,
   "metadata": {},
   "outputs": [
    {
     "data": {
      "text/plain": [
       "4    0.566368\n",
       "3    0.208358\n",
       "0    0.198209\n",
       "1    0.016318\n",
       "2    0.010746\n",
       "Name: tdif, dtype: float64"
      ]
     },
     "execution_count": 100,
     "metadata": {},
     "output_type": "execute_result"
    }
   ],
   "source": [
    "result[mask4]['tdif'].value_counts(normalize = True)"
   ]
  },
  {
   "cell_type": "code",
   "execution_count": 101,
   "metadata": {
    "scrolled": false
   },
   "outputs": [
    {
     "data": {
      "text/plain": [
       "4    0.574163\n",
       "0    0.216734\n",
       "3    0.173896\n",
       "1    0.023025\n",
       "2    0.012182\n",
       "Name: tdif, dtype: float64"
      ]
     },
     "execution_count": 101,
     "metadata": {},
     "output_type": "execute_result"
    }
   ],
   "source": [
    "result[mask5]['tdif'].value_counts(normalize = True)"
   ]
  },
  {
   "cell_type": "code",
   "execution_count": 102,
   "metadata": {},
   "outputs": [],
   "source": [
    "bow_map = {3:'java',2:'c++',1:'javascript',4:'c#',0:'python'}\n",
    "tdif_map = {3:'javascript',4:'c++',1:'c#',2:'python',0:'java'}\n",
    "\n",
    "result.bow = result.bow.map(bow_map)\n",
    "result.tdif = result.tdif.map(tdif_map)\n",
    "\n"
   ]
  },
  {
   "cell_type": "markdown",
   "metadata": {},
   "source": [
    "# confusion matrix bow"
   ]
  },
  {
   "cell_type": "code",
   "execution_count": 106,
   "metadata": {
    "scrolled": false
   },
   "outputs": [
    {
     "data": {
      "text/plain": [
       "array([[2598, 1066, 1658,  848,  816],\n",
       "       [1326, 1470,  811,   32,  238],\n",
       "       [2513,  801, 1667, 1100, 1389],\n",
       "       [ 902,  665, 1490, 2587, 1300],\n",
       "       [1540,  647, 1211,  400, 1227]])"
      ]
     },
     "execution_count": 106,
     "metadata": {},
     "output_type": "execute_result"
    }
   ],
   "source": [
    "confusion_matrix(result.true_label,result.bow)"
   ]
  },
  {
   "cell_type": "code",
   "execution_count": 103,
   "metadata": {},
   "outputs": [
    {
     "data": {
      "text/plain": [
       "0.31512771434228765"
      ]
     },
     "execution_count": 103,
     "metadata": {},
     "output_type": "execute_result"
    }
   ],
   "source": [
    "accuracy_score(result.true_label,result.bow)"
   ]
  },
  {
   "cell_type": "code",
   "execution_count": 105,
   "metadata": {},
   "outputs": [
    {
     "data": {
      "text/plain": [
       "array([[ 193, 4000,  763, 1923,  107],\n",
       "       [  12, 3343,  179,  283,   60],\n",
       "       [ 172, 4289, 1619, 1299,   91],\n",
       "       [ 651, 2536,  897, 2807,   53],\n",
       "       [  82, 2846,  996, 1047,   54]])"
      ]
     },
     "execution_count": 105,
     "metadata": {},
     "output_type": "execute_result"
    }
   ],
   "source": [
    "confusion_matrix(result.true_label, result.tdif)"
   ]
  },
  {
   "cell_type": "code",
   "execution_count": 104,
   "metadata": {},
   "outputs": [
    {
     "data": {
      "text/plain": [
       "0.26453699425780475"
      ]
     },
     "execution_count": 104,
     "metadata": {},
     "output_type": "execute_result"
    }
   ],
   "source": [
    "accuracy_score(result.true_label,result.tdif)"
   ]
  },
  {
   "cell_type": "markdown",
   "metadata": {},
   "source": [
    "### combine model to original df and look at text"
   ]
  },
  {
   "cell_type": "code",
   "execution_count": 76,
   "metadata": {},
   "outputs": [],
   "source": [
    "combined_df = pd.concat([posts_df[['text']],result], axis = 1)"
   ]
  },
  {
   "cell_type": "markdown",
   "metadata": {},
   "source": [
    "### function to look at each topic separately"
   ]
  },
  {
   "cell_type": "code",
   "execution_count": 94,
   "metadata": {},
   "outputs": [],
   "source": [
    "def text_topic(df, model,topic):\n",
    "    '''\n",
    "    input:\n",
    "    df: raw text, lda model, and topic num\n",
    "    returns:\n",
    "    random text for that topic \n",
    "    '''\n",
    "    texts = df[df[model]==topic].text\n",
    "    inds = df[df[model]==topic].text.index\n",
    "    ind = np.random.choice(inds)\n",
    "    return texts[ind]\n",
    "    "
   ]
  },
  {
   "cell_type": "markdown",
   "metadata": {},
   "source": [
    "## Topic 0"
   ]
  },
  {
   "cell_type": "code",
   "execution_count": 95,
   "metadata": {},
   "outputs": [
    {
     "data": {
      "text/plain": [
       "'\\n\\nMy requirement is I have server J2EE web application and client J2EE web\\napplication. Sometimes client can go offline. When client comes online he\\nshould be able to synchronize changes to and fro. Also I should be able to\\ncontrol which rows/tables need to be synchronized based on some filters/rules.\\nIs there any existing Java frameworks for doing it? If I need to implement on\\nmy own what are the different strategies that you can suggest?\\n\\nOne solution in my mind is maintaining sql logs and executing same statements\\nat other side during synchronization. Do you see any problems with this\\nstrategy?\\n\\n'"
      ]
     },
     "execution_count": 95,
     "metadata": {},
     "output_type": "execute_result"
    }
   ],
   "source": [
    "text_topic(combined_df,'bow',4)"
   ]
  },
  {
   "cell_type": "code",
   "execution_count": 91,
   "metadata": {},
   "outputs": [
    {
     "data": {
      "text/plain": [
       "\"\\n\\nI am using Java 7 SDK and IntelliJ IDEA IDE.\\n\\n    \\n    \\n    java version 1.7.0_11 Java(TM) SE Runtime Environment (build 1.7.0_11-b21) Java HotSpot(TM) 64-Bit Server VM (build 23.6-b04 mixed mode) \\n\\nI am still not able to use Java 7 features. After a bit of googling I could\\nuse all the features after setting project language level to `7(Diamond ARM\\nmulticatch etc)`. What exactly is this? If this has some relationship to\\nsyntax based on JDK in use what is `level 8(Lambda annotations etc)`? Java 8\\nisn't released yet. Java 8 is expected in March 2014 according to Wiki.\\nSomeone please explain this language level concept.\\n\\n\""
      ]
     },
     "execution_count": 91,
     "metadata": {},
     "output_type": "execute_result"
    }
   ],
   "source": [
    "text_topic(combined_df,'bow',4)"
   ]
  },
  {
   "cell_type": "code",
   "execution_count": 78,
   "metadata": {},
   "outputs": [
    {
     "data": {
      "text/plain": [
       "\"\\n\\n> **Possible Duplicate:**  \\n>  When is the `==` operator not equivalent to the `is` operator? (Python)\\n\\nI am using Python 2.x.\\n\\nMy editor gives me a 'warning' underline when I compare `my_var == None` but\\nno warning when I use `my_var is None`.\\n\\nI did a test in the Python shell and determined both are valid syntax but my\\neditor seems to be saying that `my_var is None` is preferred.\\n\\nIs this the case and if so why?\\n\\n\""
      ]
     },
     "execution_count": 78,
     "metadata": {},
     "output_type": "execute_result"
    }
   ],
   "source": [
    "combined_df[combined_df.bow==0].text.iloc[2000]"
   ]
  },
  {
   "cell_type": "code",
   "execution_count": 79,
   "metadata": {},
   "outputs": [
    {
     "data": {
      "text/plain": [
       "'\\n\\nCurrently I am working on a python project that contains sub modules and uses\\nnumpy/scipy. Ipython is used as interactive console. Unfortunately I am not\\nvery happy with workflow that I am using right now I would appreciate some\\nadvice.\\n\\nIn IPython the framework is loaded by a simple `import` command. However it is\\noften necessary to change code in one of the submodules of the framework. At\\nthis point a model is already loaded and I use IPython to interact with it.\\n\\nNow the framework contains many modules that depend on each other i.e. when\\nthe framework is initially loaded the main module is importing and configuring\\nthe submodules. The changes to the code are only executed if the module is\\nreloaded using `reload(main_mod.sub_mod)`. This is cumbersome as I need to\\nreload all changed modules individually using the full path. It would be very\\nconvenient if `reload(main_module)` would also reload all sub modules but\\nwithout reloading numpy/scipy..\\n\\n'"
      ]
     },
     "execution_count": 79,
     "metadata": {},
     "output_type": "execute_result"
    }
   ],
   "source": [
    "combined_df[combined_df.bow==0].text.iloc[500]"
   ]
  },
  {
   "cell_type": "markdown",
   "metadata": {},
   "source": [
    "## Topic 1:"
   ]
  },
  {
   "cell_type": "code",
   "execution_count": 80,
   "metadata": {},
   "outputs": [
    {
     "data": {
      "text/plain": [
       "'\\n\\nI have two radio buttons and want to post the value of the selected one. How\\ncan I get the value with jQuery?\\n\\nI can get all of them like this:\\n\\n    \\n    \\n    $( form :radio ) \\n\\nHow do I know which one is selected?\\n\\n'"
      ]
     },
     "execution_count": 80,
     "metadata": {},
     "output_type": "execute_result"
    }
   ],
   "source": [
    "combined_df[combined_df.bow==1].text.iloc[10]"
   ]
  },
  {
   "cell_type": "code",
   "execution_count": 81,
   "metadata": {},
   "outputs": [
    {
     "data": {
      "text/plain": [
       "\"\\n\\nI have used this in my html page...\\n\\n    \\n    \\n    <script> window.fbAsyncInit = function() { // init the FB JS SDK FB.init({ appId : 'xxxxxxxxxxxxxx' // App ID from the App Dashboard status : true // check the login status upon init? cookie : true // set sessions cookies to allow your server to access the session? xfbml : true // parse XFBML tags on this page? }); // Additional initialization code such as adding Event Listeners goes here }; // Load the SDK's source Asynchronously // Note that the debug version is being actively developed and might // contain some type checks that are overly strict. // Please report such bugs using the bugs tool. (function(d debug){ var js id = 'facebook-jssdk' ref = d.getElementsByTagName('script')[0]; if (d.getElementById(id)) {return;} js = d.createElement('script'); js.id = id; js.async = true; js.src = //connect.facebook.net/en_US/all + (debug ? /debug : ) + .js ; ref.parentNode.insertBefore(js ref); }(document /*debug*/ false)); function shareOnFb(action msg){ FB.ui({ method: action message: msg }); } </script> \\n\\nwhen every I try to call any FB method it says this in my console\\n\\n> Given URL is not permitted by the application configuration.: One or more of\\nthe given URLs is not allowed by the App's settings. It must match the Website\\nURL or Canvas URL or the domain must be a subdomain of one of the Apps\\ndomains.\\n\\nthis is my fb app setting.. do i need to change something here m running my\\nwebsite locally for time being so i tried adding\\n\\n> localhost/OfferDrive/ to app domain on this page but it says error that it\\nis not a valid domain\\n\\n![fb](http://i.stack.imgur.com/FxIHC.png)\\n\\n\""
      ]
     },
     "execution_count": 81,
     "metadata": {},
     "output_type": "execute_result"
    }
   ],
   "source": [
    "combined_df[combined_df.bow==1].text.iloc[2001]"
   ]
  },
  {
   "cell_type": "code",
   "execution_count": 82,
   "metadata": {},
   "outputs": [
    {
     "data": {
      "text/plain": [
       "\"\\n\\nI'm trying to set the `Content-Type` header of an `HttpClient` object as\\nrequired by an API I am calling.\\n\\nI tried setting the `Content-Type` like below:\\n\\n    \\n    \\n    using (var httpClient = new HttpClient()) { httpClient.BaseAddress = new Uri( http://example.com/ ); httpClient.DefaultRequestHeaders.Add( Accept  application/json ); httpClient.DefaultRequestHeaders.Add( Content-Type  application/json ); // ... } \\n\\nIt allows me to add the `Accept` header but when I try to add `Content-Type`\\nit throws the following exception:\\n\\n> Misused header name. Make sure request headers are used with\\n`HttpRequestMessage` response headers with `HttpResponseMessage` and content\\nheaders with `HttpContent` objects.\\n\\nHow can I set the `Content-Type` header in a `HttpClient` request?\\n\\n\""
      ]
     },
     "execution_count": 82,
     "metadata": {},
     "output_type": "execute_result"
    }
   ],
   "source": [
    "combined_df[combined_df.bow==1].text.iloc[456]"
   ]
  },
  {
   "cell_type": "markdown",
   "metadata": {},
   "source": [
    "## Topic 2:"
   ]
  },
  {
   "cell_type": "code",
   "execution_count": 83,
   "metadata": {},
   "outputs": [
    {
     "data": {
      "text/plain": [
       "'\\n\\nIs it wrong to write:\\n\\n    \\n    \\n    class A { public: virtual ~A() = 0; }; \\n\\nfor an abstract base class?\\n\\nAt least that compiles in MSVC... Will it crash at run time?\\n\\n'"
      ]
     },
     "execution_count": 83,
     "metadata": {},
     "output_type": "execute_result"
    }
   ],
   "source": [
    "combined_df[combined_df.bow==2].text.iloc[2001]"
   ]
  },
  {
   "cell_type": "code",
   "execution_count": 84,
   "metadata": {},
   "outputs": [
    {
     "data": {
      "text/plain": [
       "\"\\n\\nI'm writing a program in C# that needs to repeatedly access 1 image file. Most\\nof the time it works but if my computer's running fast it will try to access\\nthe file before it's been saved back to the filesystem and throw an error:\\n_File in use by another process_.\\n\\nI would like to find a way around this but all my Googling has only yielded\\ncreating checks by using exception handling. This is against my religion so I\\nwas wondering if anyone has a better way of doing it?\\n\\n\""
      ]
     },
     "execution_count": 84,
     "metadata": {},
     "output_type": "execute_result"
    }
   ],
   "source": [
    "combined_df[combined_df.bow==2].text.iloc[201]"
   ]
  },
  {
   "cell_type": "code",
   "execution_count": 85,
   "metadata": {},
   "outputs": [
    {
     "data": {
      "text/plain": [
       "'\\n\\nUsing jQuery how can I **cancel/abort an Ajax request** that I have not yet\\nreceived the response from?\\n\\n'"
      ]
     },
     "execution_count": 85,
     "metadata": {},
     "output_type": "execute_result"
    }
   ],
   "source": [
    "combined_df[combined_df.bow==2].text.iloc[45]"
   ]
  },
  {
   "cell_type": "code",
   "execution_count": null,
   "metadata": {},
   "outputs": [],
   "source": []
  }
 ],
 "metadata": {
  "kernelspec": {
   "display_name": "Python 3",
   "language": "python",
   "name": "python3"
  },
  "language_info": {
   "codemirror_mode": {
    "name": "ipython",
    "version": 3
   },
   "file_extension": ".py",
   "mimetype": "text/x-python",
   "name": "python",
   "nbconvert_exporter": "python",
   "pygments_lexer": "ipython3",
   "version": "3.7.1"
  }
 },
 "nbformat": 4,
 "nbformat_minor": 2
}
