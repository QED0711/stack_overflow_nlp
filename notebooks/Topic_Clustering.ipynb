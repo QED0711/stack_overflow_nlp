{
 "cells": [
  {
   "cell_type": "code",
   "execution_count": 1,
   "metadata": {},
   "outputs": [],
   "source": [
    "import pandas as pd\n",
    "import gensim\n",
    "from sklearn.feature_extraction.text import TfidfVectorizer\n",
    "from sklearn.model_selection import train_test_split\n",
    "from sklearn.metrics import confusion_matrix,adjusted_rand_score,calinski_harabaz_score\n",
    "import numpy as np\n",
    "import warnings\n",
    "from sklearn.cluster import KMeans, AgglomerativeClustering\n",
    "import pickle\n",
    "warnings.filterwarnings('ignore')\n",
    "\n",
    "from gensim import corpora, models"
   ]
  },
  {
   "cell_type": "code",
   "execution_count": 2,
   "metadata": {},
   "outputs": [],
   "source": [
    "posts_df = pd.read_pickle('../data/interum/text_target.pkl')"
   ]
  },
  {
   "cell_type": "code",
   "execution_count": 3,
   "metadata": {},
   "outputs": [],
   "source": [
    "# convert into features and target \n",
    "feature = posts_df['tokens']\n",
    "label = posts_df['target']"
   ]
  },
  {
   "cell_type": "code",
   "execution_count": 4,
   "metadata": {},
   "outputs": [],
   "source": [
    "# load in best tuned models\n",
    "\n",
    "with open('gs_lg','rb') as f:\n",
    "    t_lg = pickle.load(f)"
   ]
  },
  {
   "cell_type": "code",
   "execution_count": 5,
   "metadata": {},
   "outputs": [],
   "source": [
    "# load in best tuned models\n",
    "\n",
    "with open('gs_nb','rb') as f:\n",
    "    t_nb = pickle.load(f)"
   ]
  },
  {
   "cell_type": "code",
   "execution_count": 6,
   "metadata": {},
   "outputs": [],
   "source": [
    "def coef_features(modelname, lg = True):\n",
    "    labels = modelname.classes_  # label \n",
    "    if lg:\n",
    "        coefs = modelname.best_estimator_['clf'].coef_\n",
    "    else:\n",
    "        coefs = modelname.best_estimator_['clf'].feature_log_prob_\n",
    "    featurenames = modelname.best_estimator_['vect'].get_feature_names()\n",
    "    coef_dict={}\n",
    "    for i, l in enumerate(labels):\n",
    "        coef_dict[l]=[]\n",
    "        for c, f in zip(coefs[i],featurenames):\n",
    "            if c:\n",
    "                coef_dict[l].append((f,c))\n",
    "    return coef_dict\n",
    "    \n",
    "    \n",
    "    "
   ]
  },
  {
   "cell_type": "code",
   "execution_count": 7,
   "metadata": {},
   "outputs": [],
   "source": [
    "lg_coef_f = coef_features(t_lg)\n",
    "nb_coef_f = coef_features(t_nb)"
   ]
  },
  {
   "cell_type": "code",
   "execution_count": 8,
   "metadata": {},
   "outputs": [],
   "source": [
    "def top_10_feature(coef_dict):\n",
    "    top_10 = {}\n",
    "    for l in coef_dict.keys():\n",
    "        top_10[l] = sorted(coef_dict[l], key = lambda x: x[1], reverse = True)[:10]\n",
    "        top_10[l] = [x[0] for x in top_10[l]]\n",
    "    return pd.DataFrame(top_10)"
   ]
  },
  {
   "cell_type": "code",
   "execution_count": 9,
   "metadata": {
    "scrolled": true
   },
   "outputs": [
    {
     "data": {
      "text/html": [
       "<div>\n",
       "<style scoped>\n",
       "    .dataframe tbody tr th:only-of-type {\n",
       "        vertical-align: middle;\n",
       "    }\n",
       "\n",
       "    .dataframe tbody tr th {\n",
       "        vertical-align: top;\n",
       "    }\n",
       "\n",
       "    .dataframe thead th {\n",
       "        text-align: right;\n",
       "    }\n",
       "</style>\n",
       "<table border=\"1\" class=\"dataframe\">\n",
       "  <thead>\n",
       "    <tr style=\"text-align: right;\">\n",
       "      <th></th>\n",
       "      <th>c#</th>\n",
       "      <th>c++</th>\n",
       "      <th>java</th>\n",
       "      <th>javascript</th>\n",
       "      <th>python</th>\n",
       "      <th>c#</th>\n",
       "      <th>c++</th>\n",
       "      <th>java</th>\n",
       "      <th>javascript</th>\n",
       "      <th>python</th>\n",
       "    </tr>\n",
       "  </thead>\n",
       "  <tbody>\n",
       "    <tr>\n",
       "      <th>0</th>\n",
       "      <td>writeline</td>\n",
       "      <td>cout</td>\n",
       "      <td>jvm</td>\n",
       "      <td>jquery</td>\n",
       "      <td>django</td>\n",
       "      <td>string</td>\n",
       "      <td>std</td>\n",
       "      <td>string</td>\n",
       "      <td>function</td>\n",
       "      <td>list</td>\n",
       "    </tr>\n",
       "    <tr>\n",
       "      <th>1</th>\n",
       "      <td>net</td>\n",
       "      <td>std</td>\n",
       "      <td>jdk</td>\n",
       "      <td>backbone</td>\n",
       "      <td>py</td>\n",
       "      <td>use</td>\n",
       "      <td>int</td>\n",
       "      <td>class</td>\n",
       "      <td>jquery</td>\n",
       "      <td>file</td>\n",
       "    </tr>\n",
       "    <tr>\n",
       "      <th>2</th>\n",
       "      <td>msdn</td>\n",
       "      <td>boost</td>\n",
       "      <td>println</td>\n",
       "      <td>console log</td>\n",
       "      <td>numpy</td>\n",
       "      <td>public</td>\n",
       "      <td>use</td>\n",
       "      <td>use</td>\n",
       "      <td>var</td>\n",
       "      <td>use</td>\n",
       "    </tr>\n",
       "    <tr>\n",
       "      <th>3</th>\n",
       "      <td>ienumerable</td>\n",
       "      <td>qt</td>\n",
       "      <td>spring</td>\n",
       "      <td>prototype</td>\n",
       "      <td>def</td>\n",
       "      <td>new</td>\n",
       "      <td>const</td>\n",
       "      <td>method</td>\n",
       "      <td>use</td>\n",
       "      <td>print</td>\n",
       "    </tr>\n",
       "    <tr>\n",
       "      <th>4</th>\n",
       "      <td>script jquery</td>\n",
       "      <td>stl</td>\n",
       "      <td>jsp</td>\n",
       "      <td>angularjs</td>\n",
       "      <td>pythonic</td>\n",
       "      <td>class</td>\n",
       "      <td>function</td>\n",
       "      <td>public</td>\n",
       "      <td>div</td>\n",
       "      <td>py</td>\n",
       "    </tr>\n",
       "    <tr>\n",
       "      <th>5</th>\n",
       "      <td>streamreader</td>\n",
       "      <td>cpp</td>\n",
       "      <td>system println</td>\n",
       "      <td>jsfiddle</td>\n",
       "      <td>matplotlib</td>\n",
       "      <td>get</td>\n",
       "      <td>class</td>\n",
       "      <td>file</td>\n",
       "      <td>page</td>\n",
       "      <td>like</td>\n",
       "    </tr>\n",
       "    <tr>\n",
       "      <th>6</th>\n",
       "      <td>linq</td>\n",
       "      <td>int main</td>\n",
       "      <td>hibernate</td>\n",
       "      <td>angular</td>\n",
       "      <td>pep</td>\n",
       "      <td>net</td>\n",
       "      <td>code</td>\n",
       "      <td>new</td>\n",
       "      <td>html</td>\n",
       "      <td>way</td>\n",
       "    </tr>\n",
       "    <tr>\n",
       "      <th>7</th>\n",
       "      <td>window form</td>\n",
       "      <td>header file</td>\n",
       "      <td>jar</td>\n",
       "      <td>alert</td>\n",
       "      <td>urllib</td>\n",
       "      <td>method</td>\n",
       "      <td>vector</td>\n",
       "      <td>get</td>\n",
       "      <td>like</td>\n",
       "      <td>self</td>\n",
       "    </tr>\n",
       "    <tr>\n",
       "      <th>8</th>\n",
       "      <td>winforms</td>\n",
       "      <td>gcc</td>\n",
       "      <td>util</td>\n",
       "      <td>browser</td>\n",
       "      <td>beautifulsoup</td>\n",
       "      <td>code</td>\n",
       "      <td>include</td>\n",
       "      <td>code</td>\n",
       "      <td>script</td>\n",
       "      <td>import</td>\n",
       "    </tr>\n",
       "    <tr>\n",
       "      <th>9</th>\n",
       "      <td>entity framework</td>\n",
       "      <td>pointer</td>\n",
       "      <td>jdbc</td>\n",
       "      <td>ecmascript</td>\n",
       "      <td>typeerror</td>\n",
       "      <td>list</td>\n",
       "      <td>compiler</td>\n",
       "      <td>like</td>\n",
       "      <td>element</td>\n",
       "      <td>get</td>\n",
       "    </tr>\n",
       "  </tbody>\n",
       "</table>\n",
       "</div>"
      ],
      "text/plain": [
       "                 c#          c++            java   javascript         python  \\\n",
       "0         writeline         cout             jvm       jquery         django   \n",
       "1               net          std             jdk     backbone             py   \n",
       "2              msdn        boost         println  console log          numpy   \n",
       "3       ienumerable           qt          spring    prototype            def   \n",
       "4     script jquery          stl             jsp    angularjs       pythonic   \n",
       "5      streamreader          cpp  system println     jsfiddle     matplotlib   \n",
       "6              linq     int main       hibernate      angular            pep   \n",
       "7       window form  header file             jar        alert         urllib   \n",
       "8          winforms          gcc            util      browser  beautifulsoup   \n",
       "9  entity framework      pointer            jdbc   ecmascript      typeerror   \n",
       "\n",
       "       c#       c++    java javascript  python  \n",
       "0  string       std  string   function    list  \n",
       "1     use       int   class     jquery    file  \n",
       "2  public       use     use        var     use  \n",
       "3     new     const  method        use   print  \n",
       "4   class  function  public        div      py  \n",
       "5     get     class    file       page    like  \n",
       "6     net      code     new       html     way  \n",
       "7  method    vector     get       like    self  \n",
       "8    code   include    code     script  import  \n",
       "9    list  compiler    like    element     get  "
      ]
     },
     "execution_count": 9,
     "metadata": {},
     "output_type": "execute_result"
    }
   ],
   "source": [
    "pd.concat([top_10_feature(lg_coef_f),top_10_feature(nb_coef_f)], axis = 1)\n",
    "\n",
    "    "
   ]
  },
  {
   "cell_type": "markdown",
   "metadata": {},
   "source": [
    "## feature engineering for clustering"
   ]
  },
  {
   "cell_type": "code",
   "execution_count": 29,
   "metadata": {},
   "outputs": [],
   "source": [
    "# dictionary for train \n",
    "dictionary = gensim.corpora.Dictionary(train_X)"
   ]
  },
  {
   "cell_type": "code",
   "execution_count": 36,
   "metadata": {},
   "outputs": [],
   "source": [
    "# remove extreme high or low counts \n",
    "dictionary.filter_extremes(no_below=5, no_above=0.5, keep_n=100000)"
   ]
  },
  {
   "cell_type": "code",
   "execution_count": 37,
   "metadata": {},
   "outputs": [],
   "source": [
    "# create bag of words \n",
    "bow = [dictionary.doc2bow(doc) for doc in feature]\n"
   ]
  },
  {
   "cell_type": "code",
   "execution_count": 38,
   "metadata": {},
   "outputs": [],
   "source": [
    "# tfidf for bow \n",
    "tfidf = models.TfidfModel(bow)\n"
   ]
  },
  {
   "cell_type": "code",
   "execution_count": 39,
   "metadata": {},
   "outputs": [],
   "source": [
    "corpus_tfidf = tfidf[bow]"
   ]
  },
  {
   "cell_type": "code",
   "execution_count": 40,
   "metadata": {},
   "outputs": [],
   "source": [
    "# generate a model for bag of words \n",
    "# we know we have 5 tops \n",
    "lda_model = gensim.models.LdaMulticore(\n",
    "    bow, num_topics=5, id2word=dictionary, passes=2, workers=2)"
   ]
  },
  {
   "cell_type": "code",
   "execution_count": 41,
   "metadata": {
    "scrolled": false
   },
   "outputs": [
    {
     "data": {
      "text/plain": [
       "[(0,\n",
       "  '0.014*\"list\" + 0.013*\"file\" + 0.013*\"function\" + 0.011*\"new\" + 0.011*\"id\" + 0.010*\"var\" + 0.010*\"data\" + 0.010*\"div\" + 0.009*\"type\" + 0.009*\"class\"'),\n",
       " (1,\n",
       "  '0.020*\"class\" + 0.017*\"use\" + 0.016*\"public\" + 0.012*\"method\" + 0.012*\"code\" + 0.011*\"new\" + 0.010*\"get\" + 0.009*\"like\" + 0.008*\"string\" + 0.007*\"would\"'),\n",
       " (2,\n",
       "  '0.015*\"use\" + 0.012*\"value\" + 0.011*\"org\" + 0.011*\"like\" + 0.010*\"string\" + 0.008*\"get\" + 0.008*\"want\" + 0.007*\"way\" + 0.007*\"would\" + 0.007*\"work\"'),\n",
       " (3,\n",
       "  '0.016*\"use\" + 0.014*\"file\" + 0.012*\"name\" + 0.010*\"get\" + 0.008*\"error\" + 0.008*\"c\" + 0.008*\"user\" + 0.007*\"version\" + 0.007*\"lib\" + 0.007*\"py\"'),\n",
       " (4,\n",
       "  '0.019*\"int\" + 0.017*\"c\" + 0.017*\"x\" + 0.017*\"use\" + 0.012*\"return\" + 0.011*\"std\" + 0.011*\"string\" + 0.011*\"function\" + 0.008*\"code\" + 0.008*\"value\"')]"
      ]
     },
     "execution_count": 41,
     "metadata": {},
     "output_type": "execute_result"
    }
   ],
   "source": [
    "lda_model.print_topics() # notice many filer words "
   ]
  },
  {
   "cell_type": "markdown",
   "metadata": {},
   "source": [
    "## tfidf LDA model"
   ]
  },
  {
   "cell_type": "code",
   "execution_count": 42,
   "metadata": {},
   "outputs": [],
   "source": [
    "lda_model_tfidf = gensim.models.LdaMulticore(\n",
    "    corpus_tfidf, num_topics=5, id2word=dictionary, passes=2, workers=4)"
   ]
  },
  {
   "cell_type": "code",
   "execution_count": 43,
   "metadata": {
    "scrolled": true
   },
   "outputs": [
    {
     "data": {
      "text/plain": [
       "[(0,\n",
       "  '0.005*\"c\" + 0.005*\"file\" + 0.005*\"use\" + 0.004*\"class\" + 0.004*\"project\" + 0.004*\"library\" + 0.003*\"application\" + 0.003*\"object\" + 0.003*\"code\" + 0.003*\"like\"'),\n",
       " (1,\n",
       "  '0.006*\"file\" + 0.006*\"string\" + 0.005*\"x\" + 0.005*\"list\" + 0.004*\"image\" + 0.004*\"int\" + 0.004*\"function\" + 0.004*\"use\" + 0.003*\"test\" + 0.003*\"jar\"'),\n",
       " (2,\n",
       "  '0.009*\"int\" + 0.007*\"c\" + 0.007*\"string\" + 0.007*\"array\" + 0.007*\"class\" + 0.006*\"b\" + 0.006*\"public\" + 0.006*\"foo\" + 0.005*\"list\" + 0.005*\"object\"'),\n",
       " (3,\n",
       "  '0.006*\"div\" + 0.005*\"page\" + 0.005*\"function\" + 0.005*\"text\" + 0.005*\"id\" + 0.005*\"event\" + 0.005*\"form\" + 0.005*\"html\" + 0.005*\"string\" + 0.004*\"value\"'),\n",
       " (4,\n",
       "  '0.005*\"string\" + 0.005*\"x\" + 0.004*\"date\" + 0.004*\"file\" + 0.004*\"c\" + 0.004*\"class\" + 0.004*\"use\" + 0.004*\"number\" + 0.004*\"thread\" + 0.003*\"get\"')]"
      ]
     },
     "execution_count": 43,
     "metadata": {},
     "output_type": "execute_result"
    }
   ],
   "source": [
    "lda_model_tfidf.print_topics()"
   ]
  },
  {
   "cell_type": "code",
   "execution_count": 49,
   "metadata": {},
   "outputs": [],
   "source": [
    "pred = []\n",
    "for i in bow[:5]:\n",
    "    result = lda_model[i]\n",
    "    if len(result) > 1:\n",
    "        pred.append(sorted(result, key=lambda x: x[1], reverse = True )[0][0])\n",
    "    else:\n",
    "        pred.append(result[0][0])\n",
    "        \n",
    "    "
   ]
  },
  {
   "cell_type": "code",
   "execution_count": 52,
   "metadata": {},
   "outputs": [],
   "source": [
    "pred_tdif = []\n",
    "for i in bow[:5]:\n",
    "    result = lda_model_tfidf[i]\n",
    "    if len(result) > 1:\n",
    "        pred_tdif.append(sorted(result, key=lambda x: x[1], reverse = True )[0][0])\n",
    "    else:\n",
    "        pred_tdif.append(result[0][0])\n",
    "        "
   ]
  },
  {
   "cell_type": "code",
   "execution_count": 61,
   "metadata": {
    "scrolled": true
   },
   "outputs": [
    {
     "data": {
      "text/plain": [
       "([4, 4, 0, 4, 1], 1681           java\n",
       " 15021    javascript\n",
       " 1126             c#\n",
       " 3969     javascript\n",
       " 23286          java\n",
       " Name: target, dtype: object)"
      ]
     },
     "execution_count": 61,
     "metadata": {},
     "output_type": "execute_result"
    }
   ],
   "source": [
    "pred, train_y[:5]"
   ]
  },
  {
   "cell_type": "code",
   "execution_count": 60,
   "metadata": {},
   "outputs": [
    {
     "data": {
      "text/plain": [
       "[(0, 0.011356025),\n",
       " (1, 0.49925596),\n",
       " (2, 0.011427081),\n",
       " (3, 0.011286466),\n",
       " (4, 0.46667442)]"
      ]
     },
     "execution_count": 60,
     "metadata": {},
     "output_type": "execute_result"
    }
   ],
   "source": [
    "lda_model[bow[4]]"
   ]
  },
  {
   "cell_type": "code",
   "execution_count": null,
   "metadata": {},
   "outputs": [],
   "source": []
  }
 ],
 "metadata": {
  "kernelspec": {
   "display_name": "Python 3",
   "language": "python",
   "name": "python3"
  },
  "language_info": {
   "codemirror_mode": {
    "name": "ipython",
    "version": 3
   },
   "file_extension": ".py",
   "mimetype": "text/x-python",
   "name": "python",
   "nbconvert_exporter": "python",
   "pygments_lexer": "ipython3",
   "version": "3.7.1"
  }
 },
 "nbformat": 4,
 "nbformat_minor": 2
}
