{
 "cells": [
  {
   "cell_type": "code",
   "execution_count": 1,
   "metadata": {},
   "outputs": [],
   "source": [
    "import matplotlib.pyplot as plt\n",
    "import pandas as pd\n",
    "import gensim\n",
    "import numpy as np\n",
    "import warnings\n",
    "from gensim import corpora, models\n",
    "from sklearn.metrics import confusion_matrix, accuracy_score\n",
    "warnings.filterwarnings('ignore')\n",
    "%matplotlib inline"
   ]
  },
  {
   "cell_type": "code",
   "execution_count": 2,
   "metadata": {},
   "outputs": [],
   "source": [
    "posts_df = pd.read_pickle('../data/interum/text_target.pkl')"
   ]
  },
  {
   "cell_type": "code",
   "execution_count": 3,
   "metadata": {},
   "outputs": [],
   "source": [
    "# convert into features and target \n",
    "feature = posts_df['tokens']\n",
    "label = posts_df['target']  # label "
   ]
  },
  {
   "cell_type": "code",
   "execution_count": 4,
   "metadata": {},
   "outputs": [],
   "source": [
    "# more words to remove and remove words longer than length 2\n",
    "words = ['class', 'file', 'use', 'code',\n",
    "         'string', 'function', 'new', 'like', \n",
    "         'way', 'would', 'name', 'get', 'list',\n",
    "         'want', 'value','return','data']\n",
    "feature = feature.apply(\n",
    "    lambda x: [w for w in x if len(w) > 2 and w not in words])"
   ]
  },
  {
   "cell_type": "markdown",
   "metadata": {},
   "source": [
    "## feature engineering for clustering"
   ]
  },
  {
   "cell_type": "code",
   "execution_count": 5,
   "metadata": {},
   "outputs": [],
   "source": [
    "# dictionary for train \n",
    "dictionary = gensim.corpora.Dictionary(feature)"
   ]
  },
  {
   "cell_type": "code",
   "execution_count": 6,
   "metadata": {},
   "outputs": [],
   "source": [
    "# create bag of words \n",
    "bow = [dictionary.doc2bow(doc) for doc in feature]\n"
   ]
  },
  {
   "cell_type": "code",
   "execution_count": 7,
   "metadata": {},
   "outputs": [],
   "source": [
    "# tfidf for bow \n",
    "tfidf = models.TfidfModel(bow)\n"
   ]
  },
  {
   "cell_type": "code",
   "execution_count": 8,
   "metadata": {},
   "outputs": [],
   "source": [
    "corpus_tfidf = tfidf[bow]"
   ]
  },
  {
   "cell_type": "code",
   "execution_count": 9,
   "metadata": {},
   "outputs": [],
   "source": [
    "# generate a model for bag of words \n",
    "# we know we have 5 tops \n",
    "lda_model = gensim.models.LdaMulticore(\n",
    "    bow, num_topics=5, id2word=dictionary, passes=2, workers=2)"
   ]
  },
  {
   "cell_type": "code",
   "execution_count": 10,
   "metadata": {
    "scrolled": false
   },
   "outputs": [
    {
     "data": {
      "text/plain": [
       "[(0,\n",
       "  '0.010*\"version\" + 0.009*\"error\" + 0.009*\"run\" + 0.009*\"project\" + 0.008*\"lib\" + 0.007*\"build\" + 0.007*\"library\" + 0.006*\"work\" + 0.006*\"try\" + 0.006*\"self\"'),\n",
       " (1,\n",
       "  '0.012*\"http\" + 0.009*\"user\" + 0.008*\"com\" + 0.008*\"page\" + 0.007*\"org\" + 0.007*\"work\" + 0.007*\"try\" + 0.006*\"script\" + 0.006*\"application\" + 0.006*\"request\"'),\n",
       " (2,\n",
       "  '0.012*\"system\" + 0.011*\"test\" + 0.011*\"int\" + 0.008*\"size\" + 0.007*\"add\" + 0.006*\"type\" + 0.006*\"time\" + 0.005*\"run\" + 0.005*\"array\" + 0.005*\"object\"'),\n",
       " (3,\n",
       "  '0.013*\"int\" + 0.009*\"public\" + 0.009*\"method\" + 0.006*\"one\" + 0.006*\"time\" + 0.005*\"need\" + 0.005*\"question\" + 0.005*\"thread\" + 0.005*\"know\" + 0.005*\"void\"'),\n",
       " (4,\n",
       "  '0.013*\"public\" + 0.013*\"object\" + 0.010*\"var\" + 0.010*\"type\" + 0.008*\"div\" + 0.008*\"foo\" + 0.007*\"std\" + 0.007*\"null\" + 0.007*\"try\" + 0.006*\"method\"')]"
      ]
     },
     "execution_count": 10,
     "metadata": {},
     "output_type": "execute_result"
    }
   ],
   "source": [
    "lda_model.print_topics() # notice many filer words "
   ]
  },
  {
   "cell_type": "markdown",
   "metadata": {},
   "source": [
    "## tfidf LDA model"
   ]
  },
  {
   "cell_type": "code",
   "execution_count": 11,
   "metadata": {},
   "outputs": [],
   "source": [
    "lda_model_tfidf = gensim.models.LdaMulticore(\n",
    "    corpus_tfidf, num_topics=5, id2word=dictionary, passes=2, workers=4)"
   ]
  },
  {
   "cell_type": "code",
   "execution_count": 12,
   "metadata": {
    "scrolled": false
   },
   "outputs": [
    {
     "data": {
      "text/plain": [
       "[(0,\n",
       "  '0.002*\"page\" + 0.002*\"jquery\" + 0.002*\"script\" + 0.002*\"user\" + 0.002*\"application\" + 0.002*\"html\" + 0.002*\"image\" + 0.002*\"http\" + 0.002*\"work\" + 0.002*\"need\"'),\n",
       " (1,\n",
       "  '0.003*\"array\" + 0.003*\"int\" + 0.002*\"element\" + 0.002*\"text\" + 0.002*\"div\" + 0.002*\"type\" + 0.002*\"convert\" + 0.002*\"var\" + 0.002*\"byte\" + 0.002*\"object\"'),\n",
       " (2,\n",
       "  '0.003*\"foo\" + 0.003*\"project\" + 0.002*\"int\" + 0.002*\"eclipse\" + 0.002*\"error\" + 0.002*\"run\" + 0.002*\"test\" + 0.002*\"jar\" + 0.002*\"version\" + 0.002*\"maven\"'),\n",
       " (3,\n",
       "  '0.001*\"std\" + 0.001*\"object\" + 0.001*\"int\" + 0.001*\"char\" + 0.001*\"text\" + 0.001*\"var\" + 0.001*\"call\" + 0.001*\"true\" + 0.001*\"method\" + 0.001*\"example\"'),\n",
       " (4,\n",
       "  '0.003*\"object\" + 0.003*\"method\" + 0.003*\"int\" + 0.003*\"date\" + 0.003*\"public\" + 0.003*\"type\" + 0.002*\"time\" + 0.002*\"test\" + 0.002*\"static\" + 0.002*\"one\"')]"
      ]
     },
     "execution_count": 12,
     "metadata": {},
     "output_type": "execute_result"
    }
   ],
   "source": [
    "lda_model_tfidf.print_topics()"
   ]
  },
  {
   "cell_type": "code",
   "execution_count": 13,
   "metadata": {},
   "outputs": [],
   "source": [
    "pred_bow = []\n",
    "for i in bow:\n",
    "    result = lda_model[i]\n",
    "    if len(result) > 1:\n",
    "        pred_bow.append(sorted(result, key=lambda x: x[1], reverse = True )[0][0])\n",
    "    else:\n",
    "        pred_bow.append(result[0][0])    "
   ]
  },
  {
   "cell_type": "code",
   "execution_count": 14,
   "metadata": {},
   "outputs": [],
   "source": [
    "pred_tdif = []\n",
    "for i in bow:\n",
    "    result = lda_model_tfidf[i]\n",
    "    if len(result) > 1:\n",
    "        pred_tdif.append(sorted(result, key=lambda x: x[1], reverse = True )[0][0])\n",
    "    else:\n",
    "        pred_tdif.append(result[0][0])\n",
    "        "
   ]
  },
  {
   "cell_type": "code",
   "execution_count": 15,
   "metadata": {
    "scrolled": true
   },
   "outputs": [],
   "source": [
    "result = pd.DataFrame([pred_bow,pred_tdif,label]).T"
   ]
  },
  {
   "cell_type": "code",
   "execution_count": 16,
   "metadata": {},
   "outputs": [],
   "source": [
    "result.columns = ['bow','tdif','true_label']"
   ]
  },
  {
   "cell_type": "code",
   "execution_count": 17,
   "metadata": {},
   "outputs": [
    {
     "data": {
      "text/plain": [
       "<bound method Series.unique of 0        javascript\n",
       "1               c++\n",
       "2        javascript\n",
       "3            python\n",
       "4        javascript\n",
       "            ...    \n",
       "30297            c#\n",
       "30298          java\n",
       "30299        python\n",
       "30300          java\n",
       "30301    javascript\n",
       "Name: true_label, Length: 30302, dtype: object>"
      ]
     },
     "execution_count": 17,
     "metadata": {},
     "output_type": "execute_result"
    }
   ],
   "source": [
    "result.true_label.unique"
   ]
  },
  {
   "cell_type": "code",
   "execution_count": 18,
   "metadata": {},
   "outputs": [],
   "source": [
    "mask1 = result.true_label =='c++'\n",
    "mask2 = result.true_label == 'javascript'\n",
    "mask3 = result.true_label =='c#'\n",
    "mask4= result.true_label == 'python'\n",
    "mask5 = result.true_label =='java'"
   ]
  },
  {
   "cell_type": "markdown",
   "metadata": {},
   "source": [
    "## bow:\n",
    "\n",
    "* c++: topic 3\n",
    "* javascript: topic 1\n",
    "* c#: topic 4\n",
    "* python:topic 2\n",
    "* java: topic 0"
   ]
  },
  {
   "cell_type": "code",
   "execution_count": 19,
   "metadata": {},
   "outputs": [
    {
     "data": {
      "text/plain": [
       "3    0.585762\n",
       "4    0.162755\n",
       "2    0.146247\n",
       "0    0.091824\n",
       "1    0.013412\n",
       "Name: bow, dtype: float64"
      ]
     },
     "execution_count": 19,
     "metadata": {},
     "output_type": "execute_result"
    }
   ],
   "source": [
    "result[mask1]['bow'].value_counts(normalize = True)"
   ]
  },
  {
   "cell_type": "code",
   "execution_count": 20,
   "metadata": {},
   "outputs": [
    {
     "data": {
      "text/plain": [
       "1    0.387529\n",
       "4    0.340870\n",
       "3    0.172667\n",
       "0    0.054868\n",
       "2    0.044067\n",
       "Name: bow, dtype: float64"
      ]
     },
     "execution_count": 20,
     "metadata": {},
     "output_type": "execute_result"
    }
   ],
   "source": [
    "result[mask2]['bow'].value_counts(normalize = True)"
   ]
  },
  {
   "cell_type": "code",
   "execution_count": 21,
   "metadata": {},
   "outputs": [
    {
     "data": {
      "text/plain": [
       "3    0.340968\n",
       "4    0.259376\n",
       "1    0.172774\n",
       "2    0.139708\n",
       "0    0.087174\n",
       "Name: bow, dtype: float64"
      ]
     },
     "execution_count": 21,
     "metadata": {},
     "output_type": "execute_result"
    }
   ],
   "source": [
    "result[mask3]['bow'].value_counts(normalize = True)"
   ]
  },
  {
   "cell_type": "code",
   "execution_count": 22,
   "metadata": {},
   "outputs": [
    {
     "data": {
      "text/plain": [
       "3    0.343682\n",
       "0    0.231642\n",
       "1    0.166965\n",
       "4    0.149055\n",
       "2    0.108657\n",
       "Name: bow, dtype: float64"
      ]
     },
     "execution_count": 22,
     "metadata": {},
     "output_type": "execute_result"
    }
   ],
   "source": [
    "result[mask4]['bow'].value_counts(normalize = True)"
   ]
  },
  {
   "cell_type": "code",
   "execution_count": 23,
   "metadata": {
    "scrolled": true
   },
   "outputs": [
    {
     "data": {
      "text/plain": [
       "3    0.402410\n",
       "0    0.211780\n",
       "4    0.177510\n",
       "1    0.144043\n",
       "2    0.064257\n",
       "Name: bow, dtype: float64"
      ]
     },
     "execution_count": 23,
     "metadata": {},
     "output_type": "execute_result"
    }
   ],
   "source": [
    "result[mask5]['bow'].value_counts(normalize = True)"
   ]
  },
  {
   "cell_type": "markdown",
   "metadata": {},
   "source": [
    "## tdif:\n",
    "\n",
    "* c++: topic 4\n",
    "* javascript: topic 0 \n",
    "* c#: topic 2\n",
    "* python:topic 1\n",
    "* java: topic 3"
   ]
  },
  {
   "cell_type": "code",
   "execution_count": 24,
   "metadata": {},
   "outputs": [
    {
     "data": {
      "text/plain": [
       "4    0.702347\n",
       "0    0.137477\n",
       "2    0.116069\n",
       "1    0.039721\n",
       "3    0.004385\n",
       "Name: tdif, dtype: float64"
      ]
     },
     "execution_count": 24,
     "metadata": {},
     "output_type": "execute_result"
    }
   ],
   "source": [
    "result[mask1]['tdif'].value_counts(normalize = True)"
   ]
  },
  {
   "cell_type": "code",
   "execution_count": 25,
   "metadata": {},
   "outputs": [
    {
     "data": {
      "text/plain": [
       "0    0.605703\n",
       "4    0.265985\n",
       "1    0.105415\n",
       "2    0.019729\n",
       "3    0.003168\n",
       "Name: tdif, dtype: float64"
      ]
     },
     "execution_count": 25,
     "metadata": {},
     "output_type": "execute_result"
    }
   ],
   "source": [
    "result[mask2]['tdif'].value_counts(normalize = True)"
   ]
  },
  {
   "cell_type": "code",
   "execution_count": 26,
   "metadata": {},
   "outputs": [
    {
     "data": {
      "text/plain": [
       "4    0.555397\n",
       "0    0.314200\n",
       "2    0.070713\n",
       "1    0.053822\n",
       "3    0.005869\n",
       "Name: tdif, dtype: float64"
      ]
     },
     "execution_count": 26,
     "metadata": {},
     "output_type": "execute_result"
    }
   ],
   "source": [
    "result[mask3]['tdif'].value_counts(normalize = True)"
   ]
  },
  {
   "cell_type": "code",
   "execution_count": 27,
   "metadata": {},
   "outputs": [
    {
     "data": {
      "text/plain": [
       "4    0.540896\n",
       "0    0.319403\n",
       "2    0.096318\n",
       "1    0.040000\n",
       "3    0.003383\n",
       "Name: tdif, dtype: float64"
      ]
     },
     "execution_count": 27,
     "metadata": {},
     "output_type": "execute_result"
    }
   ],
   "source": [
    "result[mask4]['tdif'].value_counts(normalize = True)"
   ]
  },
  {
   "cell_type": "code",
   "execution_count": 28,
   "metadata": {
    "scrolled": false
   },
   "outputs": [
    {
     "data": {
      "text/plain": [
       "4    0.532262\n",
       "0    0.277108\n",
       "2    0.137483\n",
       "1    0.050067\n",
       "3    0.003079\n",
       "Name: tdif, dtype: float64"
      ]
     },
     "execution_count": 28,
     "metadata": {},
     "output_type": "execute_result"
    }
   ],
   "source": [
    "result[mask5]['tdif'].value_counts(normalize = True)"
   ]
  },
  {
   "cell_type": "markdown",
   "metadata": {},
   "source": [
    "c++: topic 4\n",
    "* javascript: topic 0 \n",
    "* c#: topic 2\n",
    "* python:topic 1\n",
    "* java: topic 3"
   ]
  },
  {
   "cell_type": "code",
   "execution_count": 30,
   "metadata": {},
   "outputs": [],
   "source": [
    "bow_map = {0:'java',3:'c++',1:'javascript',4:'c#',2:'python'}\n",
    "tdif_map = {0:'javascript',4:'c++',2:'c#',1:'python',3:'java'}\n",
    "\n",
    "result.bow = result.bow.map(bow_map)\n",
    "result.tdif = result.tdif.map(tdif_map)"
   ]
  },
  {
   "cell_type": "code",
   "execution_count": 31,
   "metadata": {
    "scrolled": true
   },
   "outputs": [
    {
     "data": {
      "text/html": [
       "<div>\n",
       "<style scoped>\n",
       "    .dataframe tbody tr th:only-of-type {\n",
       "        vertical-align: middle;\n",
       "    }\n",
       "\n",
       "    .dataframe tbody tr th {\n",
       "        vertical-align: top;\n",
       "    }\n",
       "\n",
       "    .dataframe thead th {\n",
       "        text-align: right;\n",
       "    }\n",
       "</style>\n",
       "<table border=\"1\" class=\"dataframe\">\n",
       "  <thead>\n",
       "    <tr style=\"text-align: right;\">\n",
       "      <th></th>\n",
       "      <th>bow</th>\n",
       "      <th>tdif</th>\n",
       "      <th>true_label</th>\n",
       "    </tr>\n",
       "  </thead>\n",
       "  <tbody>\n",
       "    <tr>\n",
       "      <th>0</th>\n",
       "      <td>c++</td>\n",
       "      <td>c++</td>\n",
       "      <td>javascript</td>\n",
       "    </tr>\n",
       "    <tr>\n",
       "      <th>1</th>\n",
       "      <td>c++</td>\n",
       "      <td>c#</td>\n",
       "      <td>c++</td>\n",
       "    </tr>\n",
       "    <tr>\n",
       "      <th>2</th>\n",
       "      <td>javascript</td>\n",
       "      <td>javascript</td>\n",
       "      <td>javascript</td>\n",
       "    </tr>\n",
       "    <tr>\n",
       "      <th>3</th>\n",
       "      <td>c++</td>\n",
       "      <td>c++</td>\n",
       "      <td>python</td>\n",
       "    </tr>\n",
       "    <tr>\n",
       "      <th>4</th>\n",
       "      <td>c++</td>\n",
       "      <td>c++</td>\n",
       "      <td>javascript</td>\n",
       "    </tr>\n",
       "    <tr>\n",
       "      <th>5</th>\n",
       "      <td>c++</td>\n",
       "      <td>c++</td>\n",
       "      <td>javascript</td>\n",
       "    </tr>\n",
       "    <tr>\n",
       "      <th>6</th>\n",
       "      <td>c#</td>\n",
       "      <td>javascript</td>\n",
       "      <td>javascript</td>\n",
       "    </tr>\n",
       "    <tr>\n",
       "      <th>7</th>\n",
       "      <td>c++</td>\n",
       "      <td>javascript</td>\n",
       "      <td>javascript</td>\n",
       "    </tr>\n",
       "    <tr>\n",
       "      <th>8</th>\n",
       "      <td>c++</td>\n",
       "      <td>c++</td>\n",
       "      <td>java</td>\n",
       "    </tr>\n",
       "    <tr>\n",
       "      <th>9</th>\n",
       "      <td>c++</td>\n",
       "      <td>c++</td>\n",
       "      <td>c++</td>\n",
       "    </tr>\n",
       "    <tr>\n",
       "      <th>10</th>\n",
       "      <td>c++</td>\n",
       "      <td>c++</td>\n",
       "      <td>javascript</td>\n",
       "    </tr>\n",
       "    <tr>\n",
       "      <th>11</th>\n",
       "      <td>c++</td>\n",
       "      <td>c++</td>\n",
       "      <td>javascript</td>\n",
       "    </tr>\n",
       "    <tr>\n",
       "      <th>12</th>\n",
       "      <td>c++</td>\n",
       "      <td>c++</td>\n",
       "      <td>c#</td>\n",
       "    </tr>\n",
       "    <tr>\n",
       "      <th>13</th>\n",
       "      <td>c++</td>\n",
       "      <td>c++</td>\n",
       "      <td>java</td>\n",
       "    </tr>\n",
       "    <tr>\n",
       "      <th>14</th>\n",
       "      <td>java</td>\n",
       "      <td>java</td>\n",
       "      <td>python</td>\n",
       "    </tr>\n",
       "    <tr>\n",
       "      <th>15</th>\n",
       "      <td>c++</td>\n",
       "      <td>c++</td>\n",
       "      <td>javascript</td>\n",
       "    </tr>\n",
       "    <tr>\n",
       "      <th>16</th>\n",
       "      <td>c#</td>\n",
       "      <td>javascript</td>\n",
       "      <td>javascript</td>\n",
       "    </tr>\n",
       "    <tr>\n",
       "      <th>17</th>\n",
       "      <td>c#</td>\n",
       "      <td>javascript</td>\n",
       "      <td>javascript</td>\n",
       "    </tr>\n",
       "    <tr>\n",
       "      <th>18</th>\n",
       "      <td>python</td>\n",
       "      <td>javascript</td>\n",
       "      <td>javascript</td>\n",
       "    </tr>\n",
       "    <tr>\n",
       "      <th>19</th>\n",
       "      <td>javascript</td>\n",
       "      <td>javascript</td>\n",
       "      <td>javascript</td>\n",
       "    </tr>\n",
       "    <tr>\n",
       "      <th>20</th>\n",
       "      <td>c++</td>\n",
       "      <td>c++</td>\n",
       "      <td>javascript</td>\n",
       "    </tr>\n",
       "    <tr>\n",
       "      <th>21</th>\n",
       "      <td>c#</td>\n",
       "      <td>c++</td>\n",
       "      <td>javascript</td>\n",
       "    </tr>\n",
       "    <tr>\n",
       "      <th>22</th>\n",
       "      <td>c++</td>\n",
       "      <td>c++</td>\n",
       "      <td>java</td>\n",
       "    </tr>\n",
       "    <tr>\n",
       "      <th>23</th>\n",
       "      <td>c#</td>\n",
       "      <td>javascript</td>\n",
       "      <td>javascript</td>\n",
       "    </tr>\n",
       "    <tr>\n",
       "      <th>24</th>\n",
       "      <td>c#</td>\n",
       "      <td>c++</td>\n",
       "      <td>java</td>\n",
       "    </tr>\n",
       "    <tr>\n",
       "      <th>25</th>\n",
       "      <td>c#</td>\n",
       "      <td>c++</td>\n",
       "      <td>python</td>\n",
       "    </tr>\n",
       "    <tr>\n",
       "      <th>26</th>\n",
       "      <td>c#</td>\n",
       "      <td>c++</td>\n",
       "      <td>javascript</td>\n",
       "    </tr>\n",
       "    <tr>\n",
       "      <th>27</th>\n",
       "      <td>c++</td>\n",
       "      <td>c++</td>\n",
       "      <td>python</td>\n",
       "    </tr>\n",
       "    <tr>\n",
       "      <th>28</th>\n",
       "      <td>c++</td>\n",
       "      <td>c++</td>\n",
       "      <td>javascript</td>\n",
       "    </tr>\n",
       "    <tr>\n",
       "      <th>29</th>\n",
       "      <td>c++</td>\n",
       "      <td>python</td>\n",
       "      <td>java</td>\n",
       "    </tr>\n",
       "    <tr>\n",
       "      <th>...</th>\n",
       "      <td>...</td>\n",
       "      <td>...</td>\n",
       "      <td>...</td>\n",
       "    </tr>\n",
       "    <tr>\n",
       "      <th>30272</th>\n",
       "      <td>c#</td>\n",
       "      <td>javascript</td>\n",
       "      <td>javascript</td>\n",
       "    </tr>\n",
       "    <tr>\n",
       "      <th>30273</th>\n",
       "      <td>javascript</td>\n",
       "      <td>c#</td>\n",
       "      <td>java</td>\n",
       "    </tr>\n",
       "    <tr>\n",
       "      <th>30274</th>\n",
       "      <td>c#</td>\n",
       "      <td>javascript</td>\n",
       "      <td>javascript</td>\n",
       "    </tr>\n",
       "    <tr>\n",
       "      <th>30275</th>\n",
       "      <td>javascript</td>\n",
       "      <td>javascript</td>\n",
       "      <td>javascript</td>\n",
       "    </tr>\n",
       "    <tr>\n",
       "      <th>30276</th>\n",
       "      <td>c++</td>\n",
       "      <td>javascript</td>\n",
       "      <td>c#</td>\n",
       "    </tr>\n",
       "    <tr>\n",
       "      <th>30277</th>\n",
       "      <td>c++</td>\n",
       "      <td>c++</td>\n",
       "      <td>c#</td>\n",
       "    </tr>\n",
       "    <tr>\n",
       "      <th>30278</th>\n",
       "      <td>javascript</td>\n",
       "      <td>c#</td>\n",
       "      <td>c#</td>\n",
       "    </tr>\n",
       "    <tr>\n",
       "      <th>30279</th>\n",
       "      <td>python</td>\n",
       "      <td>c++</td>\n",
       "      <td>c++</td>\n",
       "    </tr>\n",
       "    <tr>\n",
       "      <th>30280</th>\n",
       "      <td>javascript</td>\n",
       "      <td>c++</td>\n",
       "      <td>java</td>\n",
       "    </tr>\n",
       "    <tr>\n",
       "      <th>30281</th>\n",
       "      <td>java</td>\n",
       "      <td>javascript</td>\n",
       "      <td>java</td>\n",
       "    </tr>\n",
       "    <tr>\n",
       "      <th>30282</th>\n",
       "      <td>c++</td>\n",
       "      <td>c++</td>\n",
       "      <td>java</td>\n",
       "    </tr>\n",
       "    <tr>\n",
       "      <th>30283</th>\n",
       "      <td>c++</td>\n",
       "      <td>javascript</td>\n",
       "      <td>javascript</td>\n",
       "    </tr>\n",
       "    <tr>\n",
       "      <th>30284</th>\n",
       "      <td>python</td>\n",
       "      <td>c#</td>\n",
       "      <td>c#</td>\n",
       "    </tr>\n",
       "    <tr>\n",
       "      <th>30285</th>\n",
       "      <td>c++</td>\n",
       "      <td>javascript</td>\n",
       "      <td>java</td>\n",
       "    </tr>\n",
       "    <tr>\n",
       "      <th>30286</th>\n",
       "      <td>c++</td>\n",
       "      <td>c++</td>\n",
       "      <td>c#</td>\n",
       "    </tr>\n",
       "    <tr>\n",
       "      <th>30287</th>\n",
       "      <td>c++</td>\n",
       "      <td>c++</td>\n",
       "      <td>c++</td>\n",
       "    </tr>\n",
       "    <tr>\n",
       "      <th>30288</th>\n",
       "      <td>c++</td>\n",
       "      <td>javascript</td>\n",
       "      <td>c#</td>\n",
       "    </tr>\n",
       "    <tr>\n",
       "      <th>30289</th>\n",
       "      <td>python</td>\n",
       "      <td>c#</td>\n",
       "      <td>c++</td>\n",
       "    </tr>\n",
       "    <tr>\n",
       "      <th>30290</th>\n",
       "      <td>c++</td>\n",
       "      <td>c++</td>\n",
       "      <td>c#</td>\n",
       "    </tr>\n",
       "    <tr>\n",
       "      <th>30291</th>\n",
       "      <td>java</td>\n",
       "      <td>javascript</td>\n",
       "      <td>c#</td>\n",
       "    </tr>\n",
       "    <tr>\n",
       "      <th>30292</th>\n",
       "      <td>c#</td>\n",
       "      <td>javascript</td>\n",
       "      <td>c#</td>\n",
       "    </tr>\n",
       "    <tr>\n",
       "      <th>30293</th>\n",
       "      <td>c++</td>\n",
       "      <td>c++</td>\n",
       "      <td>python</td>\n",
       "    </tr>\n",
       "    <tr>\n",
       "      <th>30294</th>\n",
       "      <td>c#</td>\n",
       "      <td>javascript</td>\n",
       "      <td>javascript</td>\n",
       "    </tr>\n",
       "    <tr>\n",
       "      <th>30295</th>\n",
       "      <td>java</td>\n",
       "      <td>c#</td>\n",
       "      <td>java</td>\n",
       "    </tr>\n",
       "    <tr>\n",
       "      <th>30296</th>\n",
       "      <td>java</td>\n",
       "      <td>c#</td>\n",
       "      <td>java</td>\n",
       "    </tr>\n",
       "    <tr>\n",
       "      <th>30297</th>\n",
       "      <td>c++</td>\n",
       "      <td>c++</td>\n",
       "      <td>c#</td>\n",
       "    </tr>\n",
       "    <tr>\n",
       "      <th>30298</th>\n",
       "      <td>javascript</td>\n",
       "      <td>javascript</td>\n",
       "      <td>java</td>\n",
       "    </tr>\n",
       "    <tr>\n",
       "      <th>30299</th>\n",
       "      <td>c#</td>\n",
       "      <td>c++</td>\n",
       "      <td>python</td>\n",
       "    </tr>\n",
       "    <tr>\n",
       "      <th>30300</th>\n",
       "      <td>c++</td>\n",
       "      <td>c++</td>\n",
       "      <td>java</td>\n",
       "    </tr>\n",
       "    <tr>\n",
       "      <th>30301</th>\n",
       "      <td>c#</td>\n",
       "      <td>python</td>\n",
       "      <td>javascript</td>\n",
       "    </tr>\n",
       "  </tbody>\n",
       "</table>\n",
       "<p>30302 rows × 3 columns</p>\n",
       "</div>"
      ],
      "text/plain": [
       "              bow        tdif  true_label\n",
       "0             c++         c++  javascript\n",
       "1             c++          c#         c++\n",
       "2      javascript  javascript  javascript\n",
       "3             c++         c++      python\n",
       "4             c++         c++  javascript\n",
       "...           ...         ...         ...\n",
       "30297         c++         c++          c#\n",
       "30298  javascript  javascript        java\n",
       "30299          c#         c++      python\n",
       "30300         c++         c++        java\n",
       "30301          c#      python  javascript\n",
       "\n",
       "[30302 rows x 3 columns]"
      ]
     },
     "execution_count": 31,
     "metadata": {},
     "output_type": "execute_result"
    }
   ],
   "source": [
    "result"
   ]
  },
  {
   "cell_type": "markdown",
   "metadata": {},
   "source": [
    "# confusion matrix bow"
   ]
  },
  {
   "cell_type": "code",
   "execution_count": 32,
   "metadata": {
    "scrolled": false
   },
   "outputs": [
    {
     "data": {
      "text/plain": [
       "array([[1812, 2382,  609, 1207,  976],\n",
       "       [ 631, 2271,  356,   52,  567],\n",
       "       [1326, 3006, 1582, 1076,  480],\n",
       "       [2367, 1199,  381, 2691,  306],\n",
       "       [ 749, 1727, 1164,  839,  546]])"
      ]
     },
     "execution_count": 32,
     "metadata": {},
     "output_type": "execute_result"
    }
   ],
   "source": [
    "confusion_matrix(result.true_label,result.bow)"
   ]
  },
  {
   "cell_type": "code",
   "execution_count": 33,
   "metadata": {},
   "outputs": [
    {
     "data": {
      "text/plain": [
       "0.293775988383605"
      ]
     },
     "execution_count": 33,
     "metadata": {},
     "output_type": "execute_result"
    }
   ],
   "source": [
    "accuracy_score(result.true_label,result.bow)"
   ]
  },
  {
   "cell_type": "code",
   "execution_count": 34,
   "metadata": {},
   "outputs": [
    {
     "data": {
      "text/plain": [
       "array([[ 494, 3880,   41, 2195,  376],\n",
       "       [ 450, 2723,   17,  533,  154],\n",
       "       [1027, 3976,   23, 2070,  374],\n",
       "       [ 137, 1847,   22, 4206,  732],\n",
       "       [ 484, 2718,   17, 1605,  201]])"
      ]
     },
     "execution_count": 34,
     "metadata": {},
     "output_type": "execute_result"
    }
   ],
   "source": [
    "confusion_matrix(result.true_label, result.tdif)"
   ]
  },
  {
   "cell_type": "code",
   "execution_count": 35,
   "metadata": {},
   "outputs": [
    {
     "data": {
      "text/plain": [
       "0.2523595802257277"
      ]
     },
     "execution_count": 35,
     "metadata": {},
     "output_type": "execute_result"
    }
   ],
   "source": [
    "accuracy_score(result.true_label,result.tdif)"
   ]
  }
 ],
 "metadata": {
  "kernelspec": {
   "display_name": "Python 3",
   "language": "python",
   "name": "python3"
  },
  "language_info": {
   "codemirror_mode": {
    "name": "ipython",
    "version": 3
   },
   "file_extension": ".py",
   "mimetype": "text/x-python",
   "name": "python",
   "nbconvert_exporter": "python",
   "pygments_lexer": "ipython3",
   "version": "3.7.1"
  }
 },
 "nbformat": 4,
 "nbformat_minor": 2
}
