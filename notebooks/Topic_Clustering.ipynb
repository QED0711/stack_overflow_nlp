{
 "cells": [
  {
   "cell_type": "code",
   "execution_count": 130,
   "metadata": {},
   "outputs": [],
   "source": [
    "import matplotlib.pyplot as plt\n",
    "import pandas as pd\n",
    "import gensim\n",
    "import numpy as np\n",
    "import warnings\n",
    "from gensim import corpora, models\n",
    "from sklearn.metrics import confusion_matrix\n",
    "warnings.filterwarnings('ignore')\n",
    "%matplotlib inline"
   ]
  },
  {
   "cell_type": "code",
   "execution_count": 131,
   "metadata": {},
   "outputs": [],
   "source": [
    "posts_df = pd.read_pickle('../data/interum/text_target.pkl')"
   ]
  },
  {
   "cell_type": "code",
   "execution_count": 132,
   "metadata": {},
   "outputs": [],
   "source": [
    "# convert into features and target \n",
    "feature = posts_df['tokens']\n",
    "label = posts_df['target']  # label "
   ]
  },
  {
   "cell_type": "code",
   "execution_count": 158,
   "metadata": {},
   "outputs": [],
   "source": [
    "# more words to remove and remove words longer than length 2\n",
    "\n",
    "words = ['class', 'file', 'use', 'code',\n",
    "         'string', 'function', 'new', 'like', \n",
    "         'way', 'would', 'name', 'get', 'list',\n",
    "         'want', 'value','return','data']\n",
    "feature = feature.apply(\n",
    "    lambda x: [w for w in x if len(w) > 2 and w not in words])"
   ]
  },
  {
   "cell_type": "code",
   "execution_count": 159,
   "metadata": {},
   "outputs": [],
   "source": [
    "def coef_features(modelname, lg = True):\n",
    "    labels = modelname.classes_  # label \n",
    "    if lg:\n",
    "        coefs = modelname.best_estimator_['clf'].coef_\n",
    "    else:\n",
    "        coefs = modelname.best_estimator_['clf'].feature_log_prob_\n",
    "    featurenames = modelname.best_estimator_['vect'].get_feature_names()\n",
    "    coef_dict={}\n",
    "    for i, l in enumerate(labels):\n",
    "        coef_dict[l]=[]\n",
    "        for c, f in zip(coefs[i],featurenames):\n",
    "            if c:\n",
    "                coef_dict[l].append((f,c))\n",
    "    return coef_dict   "
   ]
  },
  {
   "cell_type": "code",
   "execution_count": 160,
   "metadata": {},
   "outputs": [],
   "source": [
    "import pickle\n",
    "with open('gs_nb','rb') as f:\n",
    "    t_nb = pickle.load(f)\n",
    "with open('gs_lg','rb') as f:\n",
    "    t_lg = pickle.load(f)"
   ]
  },
  {
   "cell_type": "code",
   "execution_count": 125,
   "metadata": {},
   "outputs": [],
   "source": [
    "lg_coef_f = coef_features(t_lg)\n",
    "nb_coef_f = coef_features(t_nb)"
   ]
  },
  {
   "cell_type": "code",
   "execution_count": 126,
   "metadata": {},
   "outputs": [],
   "source": [
    "def top_10_feature(coef_dict):\n",
    "    top_10 = {}\n",
    "    for l in coef_dict.keys():\n",
    "        top_10[l] = sorted(coef_dict[l], key = lambda x: x[1], reverse = True)[:10]\n",
    "        top_10[l] = [x[0] for x in top_10[l]]\n",
    "    return pd.DataFrame(top_10)"
   ]
  },
  {
   "cell_type": "code",
   "execution_count": 127,
   "metadata": {
    "scrolled": true
   },
   "outputs": [
    {
     "data": {
      "text/html": [
       "<div>\n",
       "<style scoped>\n",
       "    .dataframe tbody tr th:only-of-type {\n",
       "        vertical-align: middle;\n",
       "    }\n",
       "\n",
       "    .dataframe tbody tr th {\n",
       "        vertical-align: top;\n",
       "    }\n",
       "\n",
       "    .dataframe thead th {\n",
       "        text-align: right;\n",
       "    }\n",
       "</style>\n",
       "<table border=\"1\" class=\"dataframe\">\n",
       "  <thead>\n",
       "    <tr style=\"text-align: right;\">\n",
       "      <th></th>\n",
       "      <th>c#</th>\n",
       "      <th>c++</th>\n",
       "      <th>java</th>\n",
       "      <th>javascript</th>\n",
       "      <th>python</th>\n",
       "      <th>c#</th>\n",
       "      <th>c++</th>\n",
       "      <th>java</th>\n",
       "      <th>javascript</th>\n",
       "      <th>python</th>\n",
       "    </tr>\n",
       "  </thead>\n",
       "  <tbody>\n",
       "    <tr>\n",
       "      <th>0</th>\n",
       "      <td>writeline</td>\n",
       "      <td>cout</td>\n",
       "      <td>jvm</td>\n",
       "      <td>jquery</td>\n",
       "      <td>django</td>\n",
       "      <td>string</td>\n",
       "      <td>std</td>\n",
       "      <td>string</td>\n",
       "      <td>function</td>\n",
       "      <td>list</td>\n",
       "    </tr>\n",
       "    <tr>\n",
       "      <th>1</th>\n",
       "      <td>net</td>\n",
       "      <td>std</td>\n",
       "      <td>jdk</td>\n",
       "      <td>backbone</td>\n",
       "      <td>py</td>\n",
       "      <td>use</td>\n",
       "      <td>int</td>\n",
       "      <td>class</td>\n",
       "      <td>jquery</td>\n",
       "      <td>file</td>\n",
       "    </tr>\n",
       "    <tr>\n",
       "      <th>2</th>\n",
       "      <td>msdn</td>\n",
       "      <td>boost</td>\n",
       "      <td>println</td>\n",
       "      <td>console log</td>\n",
       "      <td>numpy</td>\n",
       "      <td>public</td>\n",
       "      <td>use</td>\n",
       "      <td>use</td>\n",
       "      <td>var</td>\n",
       "      <td>use</td>\n",
       "    </tr>\n",
       "    <tr>\n",
       "      <th>3</th>\n",
       "      <td>ienumerable</td>\n",
       "      <td>qt</td>\n",
       "      <td>spring</td>\n",
       "      <td>prototype</td>\n",
       "      <td>def</td>\n",
       "      <td>new</td>\n",
       "      <td>const</td>\n",
       "      <td>method</td>\n",
       "      <td>use</td>\n",
       "      <td>print</td>\n",
       "    </tr>\n",
       "    <tr>\n",
       "      <th>4</th>\n",
       "      <td>script jquery</td>\n",
       "      <td>stl</td>\n",
       "      <td>jsp</td>\n",
       "      <td>angularjs</td>\n",
       "      <td>pythonic</td>\n",
       "      <td>class</td>\n",
       "      <td>function</td>\n",
       "      <td>public</td>\n",
       "      <td>div</td>\n",
       "      <td>py</td>\n",
       "    </tr>\n",
       "    <tr>\n",
       "      <th>5</th>\n",
       "      <td>streamreader</td>\n",
       "      <td>cpp</td>\n",
       "      <td>system println</td>\n",
       "      <td>jsfiddle</td>\n",
       "      <td>matplotlib</td>\n",
       "      <td>get</td>\n",
       "      <td>class</td>\n",
       "      <td>file</td>\n",
       "      <td>page</td>\n",
       "      <td>like</td>\n",
       "    </tr>\n",
       "    <tr>\n",
       "      <th>6</th>\n",
       "      <td>linq</td>\n",
       "      <td>int main</td>\n",
       "      <td>hibernate</td>\n",
       "      <td>angular</td>\n",
       "      <td>pep</td>\n",
       "      <td>net</td>\n",
       "      <td>code</td>\n",
       "      <td>new</td>\n",
       "      <td>html</td>\n",
       "      <td>way</td>\n",
       "    </tr>\n",
       "    <tr>\n",
       "      <th>7</th>\n",
       "      <td>window form</td>\n",
       "      <td>header file</td>\n",
       "      <td>jar</td>\n",
       "      <td>alert</td>\n",
       "      <td>urllib</td>\n",
       "      <td>method</td>\n",
       "      <td>vector</td>\n",
       "      <td>get</td>\n",
       "      <td>like</td>\n",
       "      <td>self</td>\n",
       "    </tr>\n",
       "    <tr>\n",
       "      <th>8</th>\n",
       "      <td>winforms</td>\n",
       "      <td>gcc</td>\n",
       "      <td>util</td>\n",
       "      <td>browser</td>\n",
       "      <td>beautifulsoup</td>\n",
       "      <td>code</td>\n",
       "      <td>include</td>\n",
       "      <td>code</td>\n",
       "      <td>script</td>\n",
       "      <td>import</td>\n",
       "    </tr>\n",
       "    <tr>\n",
       "      <th>9</th>\n",
       "      <td>entity framework</td>\n",
       "      <td>pointer</td>\n",
       "      <td>jdbc</td>\n",
       "      <td>ecmascript</td>\n",
       "      <td>typeerror</td>\n",
       "      <td>list</td>\n",
       "      <td>compiler</td>\n",
       "      <td>like</td>\n",
       "      <td>element</td>\n",
       "      <td>get</td>\n",
       "    </tr>\n",
       "  </tbody>\n",
       "</table>\n",
       "</div>"
      ],
      "text/plain": [
       "                 c#          c++            java   javascript         python  \\\n",
       "0         writeline         cout             jvm       jquery         django   \n",
       "1               net          std             jdk     backbone             py   \n",
       "2              msdn        boost         println  console log          numpy   \n",
       "3       ienumerable           qt          spring    prototype            def   \n",
       "4     script jquery          stl             jsp    angularjs       pythonic   \n",
       "5      streamreader          cpp  system println     jsfiddle     matplotlib   \n",
       "6              linq     int main       hibernate      angular            pep   \n",
       "7       window form  header file             jar        alert         urllib   \n",
       "8          winforms          gcc            util      browser  beautifulsoup   \n",
       "9  entity framework      pointer            jdbc   ecmascript      typeerror   \n",
       "\n",
       "       c#       c++    java javascript  python  \n",
       "0  string       std  string   function    list  \n",
       "1     use       int   class     jquery    file  \n",
       "2  public       use     use        var     use  \n",
       "3     new     const  method        use   print  \n",
       "4   class  function  public        div      py  \n",
       "5     get     class    file       page    like  \n",
       "6     net      code     new       html     way  \n",
       "7  method    vector     get       like    self  \n",
       "8    code   include    code     script  import  \n",
       "9    list  compiler    like    element     get  "
      ]
     },
     "execution_count": 127,
     "metadata": {},
     "output_type": "execute_result"
    }
   ],
   "source": [
    "pd.concat([top_10_feature(lg_coef_f),top_10_feature(nb_coef_f)], axis = 1)\n",
    "\n",
    "    "
   ]
  },
  {
   "cell_type": "markdown",
   "metadata": {},
   "source": [
    "## feature engineering for clustering"
   ]
  },
  {
   "cell_type": "code",
   "execution_count": 161,
   "metadata": {},
   "outputs": [],
   "source": [
    "# dictionary for train \n",
    "dictionary = gensim.corpora.Dictionary(feature)"
   ]
  },
  {
   "cell_type": "code",
   "execution_count": 162,
   "metadata": {},
   "outputs": [],
   "source": [
    "# remove extreme high or low counts \n",
    "dictionary.filter_extremes(no_below=15, no_above=0.5, keep_n=100000)"
   ]
  },
  {
   "cell_type": "code",
   "execution_count": 163,
   "metadata": {},
   "outputs": [],
   "source": [
    "# create bag of words \n",
    "bow = [dictionary.doc2bow(doc) for doc in feature]\n"
   ]
  },
  {
   "cell_type": "code",
   "execution_count": 164,
   "metadata": {},
   "outputs": [],
   "source": [
    "# tfidf for bow \n",
    "tfidf = models.TfidfModel(bow)\n"
   ]
  },
  {
   "cell_type": "code",
   "execution_count": 165,
   "metadata": {},
   "outputs": [],
   "source": [
    "corpus_tfidf = tfidf[bow]"
   ]
  },
  {
   "cell_type": "code",
   "execution_count": 166,
   "metadata": {},
   "outputs": [],
   "source": [
    "# generate a model for bag of words \n",
    "# we know we have 5 tops \n",
    "lda_model = gensim.models.LdaMulticore(\n",
    "    bow, num_topics=5, id2word=dictionary, passes=2, workers=2)"
   ]
  },
  {
   "cell_type": "code",
   "execution_count": 167,
   "metadata": {
    "scrolled": false
   },
   "outputs": [
    {
     "data": {
      "text/plain": [
       "[(0,\n",
       "  '0.013*\"system\" + 0.011*\"application\" + 0.010*\"project\" + 0.010*\"run\" + 0.008*\"work\" + 0.008*\"version\" + 0.007*\"try\" + 0.007*\"library\" + 0.007*\"find\" + 0.006*\"need\"'),\n",
       " (1,\n",
       "  '0.014*\"int\" + 0.010*\"std\" + 0.008*\"one\" + 0.008*\"type\" + 0.007*\"question\" + 0.006*\"example\" + 0.006*\"time\" + 0.006*\"know\" + 0.006*\"make\" + 0.005*\"android\"'),\n",
       " (2,\n",
       "  '0.016*\"http\" + 0.015*\"org\" + 0.013*\"com\" + 0.011*\"div\" + 0.010*\"text\" + 0.009*\"html\" + 0.009*\"lib\" + 0.009*\"script\" + 0.008*\"test\" + 0.008*\"user\"'),\n",
       " (3,\n",
       "  '0.036*\"public\" + 0.018*\"object\" + 0.015*\"void\" + 0.014*\"int\" + 0.014*\"method\" + 0.012*\"set\" + 0.011*\"property\" + 0.010*\"private\" + 0.010*\"static\" + 0.009*\"call\"'),\n",
       " (4,\n",
       "  '0.011*\"try\" + 0.010*\"var\" + 0.009*\"array\" + 0.009*\"object\" + 0.008*\"work\" + 0.008*\"line\" + 0.008*\"key\" + 0.008*\"method\" + 0.007*\"date\" + 0.007*\"error\"')]"
      ]
     },
     "execution_count": 167,
     "metadata": {},
     "output_type": "execute_result"
    }
   ],
   "source": [
    "lda_model.print_topics() # notice many filer words "
   ]
  },
  {
   "cell_type": "markdown",
   "metadata": {},
   "source": [
    "## tfidf LDA model"
   ]
  },
  {
   "cell_type": "markdown",
   "metadata": {},
   "source": [
    "## filter out these words:\n",
    "* make sure words are longer than 2 letters \n",
    "\n",
    "* class, file, use, code,string,function"
   ]
  },
  {
   "cell_type": "code",
   "execution_count": 168,
   "metadata": {},
   "outputs": [],
   "source": [
    "lda_model_tfidf = gensim.models.LdaMulticore(\n",
    "    corpus_tfidf, num_topics=5, id2word=dictionary, passes=2, workers=4)"
   ]
  },
  {
   "cell_type": "code",
   "execution_count": 169,
   "metadata": {
    "scrolled": false
   },
   "outputs": [
    {
     "data": {
      "text/plain": [
       "[(0,\n",
       "  '0.007*\"div\" + 0.005*\"text\" + 0.005*\"button\" + 0.005*\"jquery\" + 0.005*\"click\" + 0.005*\"html\" + 0.004*\"form\" + 0.004*\"var\" + 0.004*\"page\" + 0.004*\"element\"'),\n",
       " (1,\n",
       "  '0.009*\"int\" + 0.006*\"std\" + 0.006*\"thread\" + 0.004*\"method\" + 0.004*\"key\" + 0.004*\"type\" + 0.004*\"object\" + 0.004*\"public\" + 0.004*\"char\" + 0.003*\"true\"'),\n",
       " (2,\n",
       "  '0.007*\"object\" + 0.007*\"array\" + 0.006*\"public\" + 0.006*\"date\" + 0.005*\"int\" + 0.005*\"method\" + 0.004*\"type\" + 0.004*\"foo\" + 0.003*\"one\" + 0.003*\"static\"'),\n",
       " (3,\n",
       "  '0.004*\"event\" + 0.004*\"character\" + 0.004*\"time\" + 0.004*\"line\" + 0.003*\"map\" + 0.003*\"var\" + 0.003*\"json\" + 0.003*\"replace\" + 0.003*\"need\" + 0.003*\"number\"'),\n",
       " (4,\n",
       "  '0.004*\"project\" + 0.004*\"application\" + 0.004*\"run\" + 0.004*\"http\" + 0.004*\"test\" + 0.003*\"error\" + 0.003*\"system\" + 0.003*\"library\" + 0.003*\"web\" + 0.003*\"server\"')]"
      ]
     },
     "execution_count": 169,
     "metadata": {},
     "output_type": "execute_result"
    }
   ],
   "source": [
    "lda_model_tfidf.print_topics()"
   ]
  },
  {
   "cell_type": "code",
   "execution_count": 170,
   "metadata": {},
   "outputs": [],
   "source": [
    "pred_bow = []\n",
    "for i in bow:\n",
    "    result = lda_model[i]\n",
    "    if len(result) > 1:\n",
    "        pred_bow.append(sorted(result, key=lambda x: x[1], reverse = True )[0][0])\n",
    "    else:\n",
    "        pred_bow.append(result[0][0])    "
   ]
  },
  {
   "cell_type": "code",
   "execution_count": 171,
   "metadata": {},
   "outputs": [],
   "source": [
    "pred_tdif = []\n",
    "for i in bow:\n",
    "    result = lda_model_tfidf[i]\n",
    "    if len(result) > 1:\n",
    "        pred_tdif.append(sorted(result, key=lambda x: x[1], reverse = True )[0][0])\n",
    "    else:\n",
    "        pred_tdif.append(result[0][0])\n",
    "        "
   ]
  },
  {
   "cell_type": "code",
   "execution_count": 194,
   "metadata": {
    "scrolled": true
   },
   "outputs": [],
   "source": [
    "result = pd.DataFrame([pred_bow,pred_tdif,label]).T"
   ]
  },
  {
   "cell_type": "code",
   "execution_count": 195,
   "metadata": {},
   "outputs": [],
   "source": [
    "result.columns = ['bow','tdif','true_label']"
   ]
  },
  {
   "cell_type": "code",
   "execution_count": 196,
   "metadata": {},
   "outputs": [
    {
     "data": {
      "text/plain": [
       "<bound method Series.unique of 0        javascript\n",
       "1               c++\n",
       "2        javascript\n",
       "3            python\n",
       "4        javascript\n",
       "            ...    \n",
       "30297            c#\n",
       "30298          java\n",
       "30299        python\n",
       "30300          java\n",
       "30301    javascript\n",
       "Name: true_label, Length: 30302, dtype: object>"
      ]
     },
     "execution_count": 196,
     "metadata": {},
     "output_type": "execute_result"
    }
   ],
   "source": [
    "result.true_label.unique"
   ]
  },
  {
   "cell_type": "code",
   "execution_count": 174,
   "metadata": {},
   "outputs": [],
   "source": [
    "mask1 = result.true_label =='c++'\n",
    "mask2 = result.true_label == 'javascript'\n",
    "mask3 = result.true_label =='c#'\n",
    "mask4= result.true_label == 'python'\n",
    "mask5 = result.true_label =='java'"
   ]
  },
  {
   "cell_type": "markdown",
   "metadata": {},
   "source": [
    "## bow:\n",
    "\n",
    "* c++: topic 1\n",
    "* javascript: topic 2 \n",
    "* c#: topic 3\n",
    "* python:topic 4 \n",
    "* java: topic 0 "
   ]
  },
  {
   "cell_type": "code",
   "execution_count": 175,
   "metadata": {},
   "outputs": [
    {
     "data": {
      "text/plain": [
       "1    0.741553\n",
       "0    0.140831\n",
       "3    0.068868\n",
       "4    0.040753\n",
       "2    0.007996\n",
       "Name: bow, dtype: float64"
      ]
     },
     "execution_count": 175,
     "metadata": {},
     "output_type": "execute_result"
    }
   ],
   "source": [
    "result[mask1]['bow'].value_counts(normalize = True)"
   ]
  },
  {
   "cell_type": "code",
   "execution_count": 176,
   "metadata": {},
   "outputs": [
    {
     "data": {
      "text/plain": [
       "2    0.331509\n",
       "4    0.259793\n",
       "0    0.191820\n",
       "1    0.156394\n",
       "3    0.060484\n",
       "Name: bow, dtype: float64"
      ]
     },
     "execution_count": 176,
     "metadata": {},
     "output_type": "execute_result"
    }
   ],
   "source": [
    "result[mask2]['bow'].value_counts(normalize = True)"
   ]
  },
  {
   "cell_type": "code",
   "execution_count": 177,
   "metadata": {},
   "outputs": [
    {
     "data": {
      "text/plain": [
       "3    0.287861\n",
       "0    0.258088\n",
       "1    0.201403\n",
       "4    0.200973\n",
       "2    0.051675\n",
       "Name: bow, dtype: float64"
      ]
     },
     "execution_count": 177,
     "metadata": {},
     "output_type": "execute_result"
    }
   ],
   "source": [
    "result[mask3]['bow'].value_counts(normalize = True)"
   ]
  },
  {
   "cell_type": "code",
   "execution_count": 178,
   "metadata": {},
   "outputs": [
    {
     "data": {
      "text/plain": [
       "4    0.406965\n",
       "1    0.232040\n",
       "0    0.201990\n",
       "2    0.101493\n",
       "3    0.057512\n",
       "Name: bow, dtype: float64"
      ]
     },
     "execution_count": 178,
     "metadata": {},
     "output_type": "execute_result"
    }
   ],
   "source": [
    "result[mask4]['bow'].value_counts(normalize = True)"
   ]
  },
  {
   "cell_type": "code",
   "execution_count": 179,
   "metadata": {
    "scrolled": true
   },
   "outputs": [
    {
     "data": {
      "text/plain": [
       "0    0.277510\n",
       "1    0.263989\n",
       "4    0.200134\n",
       "3    0.176841\n",
       "2    0.081526\n",
       "Name: bow, dtype: float64"
      ]
     },
     "execution_count": 179,
     "metadata": {},
     "output_type": "execute_result"
    }
   ],
   "source": [
    "result[mask5]['bow'].value_counts(normalize = True)"
   ]
  },
  {
   "cell_type": "markdown",
   "metadata": {},
   "source": [
    "## tdif"
   ]
  },
  {
   "cell_type": "markdown",
   "metadata": {},
   "source": [
    "## tdif:\n",
    "\n",
    "* c++: topic 1\n",
    "* javascript: topic 0 \n",
    "* c#: topic 2\n",
    "* python:topic 3\n",
    "* java: topic 4"
   ]
  },
  {
   "cell_type": "code",
   "execution_count": 180,
   "metadata": {},
   "outputs": [
    {
     "data": {
      "text/plain": [
       "1    0.590405\n",
       "2    0.204798\n",
       "4    0.155275\n",
       "3    0.028372\n",
       "0    0.021150\n",
       "Name: tdif, dtype: float64"
      ]
     },
     "execution_count": 180,
     "metadata": {},
     "output_type": "execute_result"
    }
   ],
   "source": [
    "result[mask1]['tdif'].value_counts(normalize = True)"
   ]
  },
  {
   "cell_type": "code",
   "execution_count": 181,
   "metadata": {},
   "outputs": [
    {
     "data": {
      "text/plain": [
       "0    0.506768\n",
       "4    0.168491\n",
       "2    0.144729\n",
       "3    0.105415\n",
       "1    0.074597\n",
       "Name: tdif, dtype: float64"
      ]
     },
     "execution_count": 181,
     "metadata": {},
     "output_type": "execute_result"
    }
   ],
   "source": [
    "result[mask2]['tdif'].value_counts(normalize = True)"
   ]
  },
  {
   "cell_type": "code",
   "execution_count": 182,
   "metadata": {},
   "outputs": [
    {
     "data": {
      "text/plain": [
       "2    0.310335\n",
       "4    0.254223\n",
       "1    0.236187\n",
       "0    0.140281\n",
       "3    0.058975\n",
       "Name: tdif, dtype: float64"
      ]
     },
     "execution_count": 182,
     "metadata": {},
     "output_type": "execute_result"
    }
   ],
   "source": [
    "result[mask3]['tdif'].value_counts(normalize = True)"
   ]
  },
  {
   "cell_type": "code",
   "execution_count": 183,
   "metadata": {},
   "outputs": [
    {
     "data": {
      "text/plain": [
       "4    0.300100\n",
       "2    0.234826\n",
       "1    0.229851\n",
       "3    0.124975\n",
       "0    0.110249\n",
       "Name: tdif, dtype: float64"
      ]
     },
     "execution_count": 183,
     "metadata": {},
     "output_type": "execute_result"
    }
   ],
   "source": [
    "result[mask4]['tdif'].value_counts(normalize = True)"
   ]
  },
  {
   "cell_type": "code",
   "execution_count": 184,
   "metadata": {
    "scrolled": true
   },
   "outputs": [
    {
     "data": {
      "text/plain": [
       "4    0.376975\n",
       "2    0.281258\n",
       "1    0.196787\n",
       "0    0.076975\n",
       "3    0.068005\n",
       "Name: tdif, dtype: float64"
      ]
     },
     "execution_count": 184,
     "metadata": {},
     "output_type": "execute_result"
    }
   ],
   "source": [
    "result[mask5]['tdif'].value_counts(normalize = True)"
   ]
  },
  {
   "cell_type": "code",
   "execution_count": 197,
   "metadata": {},
   "outputs": [],
   "source": [
    "bow_map = {0:'java',1:'c++',2:'javascript',3:'c#',4:'python'}\n",
    "tdif_map = {0:'javascript',1:'c++',2:'c#',3:'python',4:'java'}\n",
    "\n",
    "result.bow = result.bow.map(bow_map)\n",
    "result.tdif = result.tdif.map(tdif_map)"
   ]
  },
  {
   "cell_type": "code",
   "execution_count": 198,
   "metadata": {},
   "outputs": [
    {
     "data": {
      "text/html": [
       "<div>\n",
       "<style scoped>\n",
       "    .dataframe tbody tr th:only-of-type {\n",
       "        vertical-align: middle;\n",
       "    }\n",
       "\n",
       "    .dataframe tbody tr th {\n",
       "        vertical-align: top;\n",
       "    }\n",
       "\n",
       "    .dataframe thead th {\n",
       "        text-align: right;\n",
       "    }\n",
       "</style>\n",
       "<table border=\"1\" class=\"dataframe\">\n",
       "  <thead>\n",
       "    <tr style=\"text-align: right;\">\n",
       "      <th></th>\n",
       "      <th>bow</th>\n",
       "      <th>tdif</th>\n",
       "      <th>true_label</th>\n",
       "    </tr>\n",
       "  </thead>\n",
       "  <tbody>\n",
       "    <tr>\n",
       "      <th>0</th>\n",
       "      <td>c++</td>\n",
       "      <td>c#</td>\n",
       "      <td>javascript</td>\n",
       "    </tr>\n",
       "    <tr>\n",
       "      <th>1</th>\n",
       "      <td>c++</td>\n",
       "      <td>c++</td>\n",
       "      <td>c++</td>\n",
       "    </tr>\n",
       "    <tr>\n",
       "      <th>2</th>\n",
       "      <td>javascript</td>\n",
       "      <td>javascript</td>\n",
       "      <td>javascript</td>\n",
       "    </tr>\n",
       "    <tr>\n",
       "      <th>3</th>\n",
       "      <td>python</td>\n",
       "      <td>c#</td>\n",
       "      <td>python</td>\n",
       "    </tr>\n",
       "    <tr>\n",
       "      <th>4</th>\n",
       "      <td>python</td>\n",
       "      <td>c#</td>\n",
       "      <td>javascript</td>\n",
       "    </tr>\n",
       "    <tr>\n",
       "      <th>5</th>\n",
       "      <td>python</td>\n",
       "      <td>javascript</td>\n",
       "      <td>javascript</td>\n",
       "    </tr>\n",
       "    <tr>\n",
       "      <th>6</th>\n",
       "      <td>javascript</td>\n",
       "      <td>javascript</td>\n",
       "      <td>javascript</td>\n",
       "    </tr>\n",
       "    <tr>\n",
       "      <th>7</th>\n",
       "      <td>java</td>\n",
       "      <td>java</td>\n",
       "      <td>javascript</td>\n",
       "    </tr>\n",
       "    <tr>\n",
       "      <th>8</th>\n",
       "      <td>python</td>\n",
       "      <td>c#</td>\n",
       "      <td>java</td>\n",
       "    </tr>\n",
       "    <tr>\n",
       "      <th>9</th>\n",
       "      <td>c++</td>\n",
       "      <td>c#</td>\n",
       "      <td>c++</td>\n",
       "    </tr>\n",
       "    <tr>\n",
       "      <th>10</th>\n",
       "      <td>c++</td>\n",
       "      <td>c#</td>\n",
       "      <td>javascript</td>\n",
       "    </tr>\n",
       "    <tr>\n",
       "      <th>11</th>\n",
       "      <td>c++</td>\n",
       "      <td>c++</td>\n",
       "      <td>javascript</td>\n",
       "    </tr>\n",
       "    <tr>\n",
       "      <th>12</th>\n",
       "      <td>c++</td>\n",
       "      <td>c++</td>\n",
       "      <td>c#</td>\n",
       "    </tr>\n",
       "    <tr>\n",
       "      <th>13</th>\n",
       "      <td>c++</td>\n",
       "      <td>c#</td>\n",
       "      <td>java</td>\n",
       "    </tr>\n",
       "    <tr>\n",
       "      <th>14</th>\n",
       "      <td>java</td>\n",
       "      <td>javascript</td>\n",
       "      <td>python</td>\n",
       "    </tr>\n",
       "    <tr>\n",
       "      <th>15</th>\n",
       "      <td>python</td>\n",
       "      <td>c#</td>\n",
       "      <td>javascript</td>\n",
       "    </tr>\n",
       "    <tr>\n",
       "      <th>16</th>\n",
       "      <td>c++</td>\n",
       "      <td>c#</td>\n",
       "      <td>javascript</td>\n",
       "    </tr>\n",
       "    <tr>\n",
       "      <th>17</th>\n",
       "      <td>c#</td>\n",
       "      <td>python</td>\n",
       "      <td>javascript</td>\n",
       "    </tr>\n",
       "    <tr>\n",
       "      <th>18</th>\n",
       "      <td>javascript</td>\n",
       "      <td>javascript</td>\n",
       "      <td>javascript</td>\n",
       "    </tr>\n",
       "    <tr>\n",
       "      <th>19</th>\n",
       "      <td>java</td>\n",
       "      <td>python</td>\n",
       "      <td>javascript</td>\n",
       "    </tr>\n",
       "    <tr>\n",
       "      <th>20</th>\n",
       "      <td>c++</td>\n",
       "      <td>c++</td>\n",
       "      <td>javascript</td>\n",
       "    </tr>\n",
       "    <tr>\n",
       "      <th>21</th>\n",
       "      <td>c#</td>\n",
       "      <td>javascript</td>\n",
       "      <td>javascript</td>\n",
       "    </tr>\n",
       "    <tr>\n",
       "      <th>22</th>\n",
       "      <td>c++</td>\n",
       "      <td>c++</td>\n",
       "      <td>java</td>\n",
       "    </tr>\n",
       "    <tr>\n",
       "      <th>23</th>\n",
       "      <td>python</td>\n",
       "      <td>javascript</td>\n",
       "      <td>javascript</td>\n",
       "    </tr>\n",
       "    <tr>\n",
       "      <th>24</th>\n",
       "      <td>c#</td>\n",
       "      <td>c#</td>\n",
       "      <td>java</td>\n",
       "    </tr>\n",
       "    <tr>\n",
       "      <th>25</th>\n",
       "      <td>python</td>\n",
       "      <td>c++</td>\n",
       "      <td>python</td>\n",
       "    </tr>\n",
       "    <tr>\n",
       "      <th>26</th>\n",
       "      <td>python</td>\n",
       "      <td>c#</td>\n",
       "      <td>javascript</td>\n",
       "    </tr>\n",
       "    <tr>\n",
       "      <th>27</th>\n",
       "      <td>c++</td>\n",
       "      <td>c++</td>\n",
       "      <td>python</td>\n",
       "    </tr>\n",
       "    <tr>\n",
       "      <th>28</th>\n",
       "      <td>python</td>\n",
       "      <td>python</td>\n",
       "      <td>javascript</td>\n",
       "    </tr>\n",
       "    <tr>\n",
       "      <th>29</th>\n",
       "      <td>c++</td>\n",
       "      <td>c#</td>\n",
       "      <td>java</td>\n",
       "    </tr>\n",
       "    <tr>\n",
       "      <th>...</th>\n",
       "      <td>...</td>\n",
       "      <td>...</td>\n",
       "      <td>...</td>\n",
       "    </tr>\n",
       "    <tr>\n",
       "      <th>30272</th>\n",
       "      <td>c++</td>\n",
       "      <td>javascript</td>\n",
       "      <td>javascript</td>\n",
       "    </tr>\n",
       "    <tr>\n",
       "      <th>30273</th>\n",
       "      <td>javascript</td>\n",
       "      <td>java</td>\n",
       "      <td>java</td>\n",
       "    </tr>\n",
       "    <tr>\n",
       "      <th>30274</th>\n",
       "      <td>javascript</td>\n",
       "      <td>javascript</td>\n",
       "      <td>javascript</td>\n",
       "    </tr>\n",
       "    <tr>\n",
       "      <th>30275</th>\n",
       "      <td>javascript</td>\n",
       "      <td>javascript</td>\n",
       "      <td>javascript</td>\n",
       "    </tr>\n",
       "    <tr>\n",
       "      <th>30276</th>\n",
       "      <td>c++</td>\n",
       "      <td>javascript</td>\n",
       "      <td>c#</td>\n",
       "    </tr>\n",
       "    <tr>\n",
       "      <th>30277</th>\n",
       "      <td>python</td>\n",
       "      <td>python</td>\n",
       "      <td>c#</td>\n",
       "    </tr>\n",
       "    <tr>\n",
       "      <th>30278</th>\n",
       "      <td>c#</td>\n",
       "      <td>javascript</td>\n",
       "      <td>c#</td>\n",
       "    </tr>\n",
       "    <tr>\n",
       "      <th>30279</th>\n",
       "      <td>c++</td>\n",
       "      <td>c++</td>\n",
       "      <td>c++</td>\n",
       "    </tr>\n",
       "    <tr>\n",
       "      <th>30280</th>\n",
       "      <td>python</td>\n",
       "      <td>c#</td>\n",
       "      <td>java</td>\n",
       "    </tr>\n",
       "    <tr>\n",
       "      <th>30281</th>\n",
       "      <td>java</td>\n",
       "      <td>java</td>\n",
       "      <td>java</td>\n",
       "    </tr>\n",
       "    <tr>\n",
       "      <th>30282</th>\n",
       "      <td>python</td>\n",
       "      <td>c++</td>\n",
       "      <td>java</td>\n",
       "    </tr>\n",
       "    <tr>\n",
       "      <th>30283</th>\n",
       "      <td>java</td>\n",
       "      <td>java</td>\n",
       "      <td>javascript</td>\n",
       "    </tr>\n",
       "    <tr>\n",
       "      <th>30284</th>\n",
       "      <td>java</td>\n",
       "      <td>c#</td>\n",
       "      <td>c#</td>\n",
       "    </tr>\n",
       "    <tr>\n",
       "      <th>30285</th>\n",
       "      <td>java</td>\n",
       "      <td>java</td>\n",
       "      <td>java</td>\n",
       "    </tr>\n",
       "    <tr>\n",
       "      <th>30286</th>\n",
       "      <td>c++</td>\n",
       "      <td>javascript</td>\n",
       "      <td>c#</td>\n",
       "    </tr>\n",
       "    <tr>\n",
       "      <th>30287</th>\n",
       "      <td>c++</td>\n",
       "      <td>c#</td>\n",
       "      <td>c++</td>\n",
       "    </tr>\n",
       "    <tr>\n",
       "      <th>30288</th>\n",
       "      <td>c++</td>\n",
       "      <td>c#</td>\n",
       "      <td>c#</td>\n",
       "    </tr>\n",
       "    <tr>\n",
       "      <th>30289</th>\n",
       "      <td>c++</td>\n",
       "      <td>c++</td>\n",
       "      <td>c++</td>\n",
       "    </tr>\n",
       "    <tr>\n",
       "      <th>30290</th>\n",
       "      <td>c++</td>\n",
       "      <td>c++</td>\n",
       "      <td>c#</td>\n",
       "    </tr>\n",
       "    <tr>\n",
       "      <th>30291</th>\n",
       "      <td>java</td>\n",
       "      <td>java</td>\n",
       "      <td>c#</td>\n",
       "    </tr>\n",
       "    <tr>\n",
       "      <th>30292</th>\n",
       "      <td>c#</td>\n",
       "      <td>javascript</td>\n",
       "      <td>c#</td>\n",
       "    </tr>\n",
       "    <tr>\n",
       "      <th>30293</th>\n",
       "      <td>c++</td>\n",
       "      <td>c++</td>\n",
       "      <td>python</td>\n",
       "    </tr>\n",
       "    <tr>\n",
       "      <th>30294</th>\n",
       "      <td>javascript</td>\n",
       "      <td>javascript</td>\n",
       "      <td>javascript</td>\n",
       "    </tr>\n",
       "    <tr>\n",
       "      <th>30295</th>\n",
       "      <td>java</td>\n",
       "      <td>java</td>\n",
       "      <td>java</td>\n",
       "    </tr>\n",
       "    <tr>\n",
       "      <th>30296</th>\n",
       "      <td>java</td>\n",
       "      <td>java</td>\n",
       "      <td>java</td>\n",
       "    </tr>\n",
       "    <tr>\n",
       "      <th>30297</th>\n",
       "      <td>python</td>\n",
       "      <td>python</td>\n",
       "      <td>c#</td>\n",
       "    </tr>\n",
       "    <tr>\n",
       "      <th>30298</th>\n",
       "      <td>java</td>\n",
       "      <td>javascript</td>\n",
       "      <td>java</td>\n",
       "    </tr>\n",
       "    <tr>\n",
       "      <th>30299</th>\n",
       "      <td>python</td>\n",
       "      <td>c++</td>\n",
       "      <td>python</td>\n",
       "    </tr>\n",
       "    <tr>\n",
       "      <th>30300</th>\n",
       "      <td>java</td>\n",
       "      <td>java</td>\n",
       "      <td>java</td>\n",
       "    </tr>\n",
       "    <tr>\n",
       "      <th>30301</th>\n",
       "      <td>javascript</td>\n",
       "      <td>javascript</td>\n",
       "      <td>javascript</td>\n",
       "    </tr>\n",
       "  </tbody>\n",
       "</table>\n",
       "<p>30302 rows × 3 columns</p>\n",
       "</div>"
      ],
      "text/plain": [
       "              bow        tdif  true_label\n",
       "0             c++          c#  javascript\n",
       "1             c++         c++         c++\n",
       "2      javascript  javascript  javascript\n",
       "3          python          c#      python\n",
       "4          python          c#  javascript\n",
       "...           ...         ...         ...\n",
       "30297      python      python          c#\n",
       "30298        java  javascript        java\n",
       "30299      python         c++      python\n",
       "30300        java        java        java\n",
       "30301  javascript  javascript  javascript\n",
       "\n",
       "[30302 rows x 3 columns]"
      ]
     },
     "execution_count": 198,
     "metadata": {},
     "output_type": "execute_result"
    }
   ],
   "source": [
    "result"
   ]
  },
  {
   "cell_type": "markdown",
   "metadata": {},
   "source": [
    "# confusion matrix bow"
   ]
  },
  {
   "cell_type": "code",
   "execution_count": 199,
   "metadata": {},
   "outputs": [
    {
     "data": {
      "text/plain": [
       "array([[2011,  267, 1321,  420,  289],\n",
       "       [1407, 2875, 1972, 1086, 1166],\n",
       "       [1803,  546, 2073, 1332, 1015],\n",
       "       [ 361,   31,  609, 2302,  510],\n",
       "       [1404,  158, 1495, 1804, 2045]])"
      ]
     },
     "execution_count": 199,
     "metadata": {},
     "output_type": "execute_result"
    }
   ],
   "source": [
    "confusion_matrix(result.bow,result.true_label)"
   ]
  },
  {
   "cell_type": "code",
   "execution_count": 200,
   "metadata": {},
   "outputs": [
    {
     "data": {
      "text/plain": [
       "array([[2168,  794, 2101, 1005, 1180],\n",
       "       [1650, 2289, 1470,  518, 1155],\n",
       "       [1776,  602, 2816, 1170, 1508],\n",
       "       [ 980,   82,  575, 3519,  554],\n",
       "       [ 412,  110,  508,  732,  628]])"
      ]
     },
     "execution_count": 200,
     "metadata": {},
     "output_type": "execute_result"
    }
   ],
   "source": [
    "confusion_matrix(result.tdif,result.true_label)"
   ]
  },
  {
   "cell_type": "code",
   "execution_count": null,
   "metadata": {},
   "outputs": [],
   "source": []
  }
 ],
 "metadata": {
  "kernelspec": {
   "display_name": "Python 3",
   "language": "python",
   "name": "python3"
  },
  "language_info": {
   "codemirror_mode": {
    "name": "ipython",
    "version": 3
   },
   "file_extension": ".py",
   "mimetype": "text/x-python",
   "name": "python",
   "nbconvert_exporter": "python",
   "pygments_lexer": "ipython3",
   "version": "3.7.1"
  }
 },
 "nbformat": 4,
 "nbformat_minor": 2
}
